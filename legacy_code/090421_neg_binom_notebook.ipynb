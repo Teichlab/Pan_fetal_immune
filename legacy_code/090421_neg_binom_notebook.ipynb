{
 "cells": [
  {
   "cell_type": "markdown",
   "id": "communist-price",
   "metadata": {},
   "source": [
    "# Model Details:\n",
    "\n",
    "In statistics, an additive model (AM) is a nonparametric regression method. It was suggested by Jerome H. Friedman and Werner Stuetzle (1981)[1] and is an essential part of the ACE algorithm. The AM uses a one-dimensional smoother to build a restricted class of nonparametric regression models. Because of this, it is less affected by the curse of dimensionality than e.g. a p-dimensional smoother. Furthermore, the AM is more flexible than a standard linear model, while being more interpretable than a general regression surface at the cost of approximation errors. Problems with AM include model selection, overfitting, and multicollinearity.\n",
    "\n",
    "#### Overall Regression model\n",
    "- The regression model is a two-way additive model with Age and celltype effects. The data are a full unreplicated design. Two-Factor ANOVA is multiple regression with two categorical explanatory\n",
    "variables (or factors).\n",
    "\n",
    "#### Per cell Regression model\n",
    "- The regression model is a quasibinimial regression with Age effects. The data are a full unreplicated design."
   ]
  },
  {
   "cell_type": "markdown",
   "id": "crucial-migration",
   "metadata": {},
   "source": [
    "## <h1><center>Quasibinomial model</center></h1>\n",
    "$$ P(X=k)={n \\choose k}p(p+k\\phi)^{k-1}(1-p-k\\phi)^{n-k} $$"
   ]
  },
  {
   "cell_type": "markdown",
   "id": "female-wonder",
   "metadata": {},
   "source": [
    "# model resources:\n",
    "- https://hansjoerg.me/2019/05/10/regression-modeling-with-proportion-data-part-1/"
   ]
  },
  {
   "cell_type": "markdown",
   "id": "strategic-restaurant",
   "metadata": {},
   "source": [
    "write style:\n",
    "e.g. \"The phagocyte prevalence ratio was exp(\\beta_1) at baseline (95% CI...), this ratio decreased by exp(\\gamma_1) at day 14 (95% CI...) and by exp(\\gamma_2) at day 28 (95% CI). A global trend test for group was performed, the p-value was X.XX see figure X.\n",
    "Ideally plot the predicted effect over time along with 95% CIs, since the last sentence is too technical for non-statistical reviewers."
   ]
  },
  {
   "cell_type": "markdown",
   "id": "random-escape",
   "metadata": {},
   "source": [
    "## <h1><center>FACS correction</center></h1>\n",
    "\n",
    "$$ CorrectedCounts = SortProportion_n* \\Bigg[\\frac{observed counts_i} {Sample Total_t}\\Bigg] * Sample Total_t $$\n",
    "\n",
    "- SortProportion : The proportion this gate was observed at during sorting for sample (n). (count/total_events)\n",
    "- Group : cell counts contributed by the gate of interest (g)\n",
    "- Total : Sum of counts of all cells contributed by this gating strategy (t)\n",
    "- Observed_counts : The counts belonging to each annotated cellstate of interest (i) per donor"
   ]
  },
  {
   "cell_type": "code",
   "execution_count": 1,
   "id": "finnish-atmosphere",
   "metadata": {},
   "outputs": [],
   "source": [
    "#Author: Issac Goh\n",
    "#Date: 010620\n",
    "#Modified: 010620\n",
    "\n",
    "###############################################################################\n",
    "###############################################################################\n",
    "#Tips\n",
    "\n",
    "# x is a dataframe with the following columns in this specific order:\n",
    "# x$variable # celltype\n",
    "# x$value # cell count\n",
    "# x$batch # condition_donor\n",
    "# x$timepoint # condition (e.g. adult, fetal)\"\n",
    "\n",
    "#If you are importing a metafata dataframe from another object, \n",
    "#use below to import and subset the data to columns of interest"
   ]
  },
  {
   "cell_type": "markdown",
   "id": "comic-chemistry",
   "metadata": {},
   "source": [
    "#### Create a mapped FACs correction table module (optional)"
   ]
  },
  {
   "cell_type": "code",
   "execution_count": 188,
   "id": "abroad-presence",
   "metadata": {},
   "outputs": [
    {
     "name": "stdout",
     "output_type": "stream",
     "text": [
      "[1] \"age\"\n",
      "[1] \"orig.ident\"\n",
      "[1] \"sort.ids\"\n",
      "[1] \"origin\"\n"
     ]
    }
   ],
   "source": [
    "Create_facs_map = FALSE\n",
    "{\n",
    "var_time = \"age\"\n",
    "var_ID = \"orig.ident\"\n",
    "var_sort = \"sort.ids\"\n",
    "var_tissue = \"origin\"\n",
    "meta_dat_add  = \"/nfs/team205/ig7/work_backups/backup_210306/scripts_dont_modify/neg_binom/resources/metadata/fbm_updated_20200718.csv\" \n",
    "out_add_fname = \"/nfs/team205/ig7/work_backups/backup_210306/scripts_dont_modify/neg_binom/resources/facs_map.csv\"\n",
    "}\n",
    "\n",
    "#This module checks if all variables are available in the FACs map, else, a sort probability of 1 will be added to the sample.\n",
    "Check_facs_map = TRUE\n",
    "{\n",
    "facs_map_add = \"/nfs/team205/ig7/work_backups/backup_210306/scripts_dont_modify/neg_binom/resources/facs_sort_strategy/BM_Facs_gate_sort.csv\"\n",
    "meta_dat_add  = \"/nfs/team205/ig7/work_backups/backup_210306/scripts_dont_modify/neg_binom/resources/metadata/fbm_updated_20200718.csv\"\n",
    "var_time = \"age\"\n",
    "var_ID = \"orig.ident\"\n",
    "var_sort = \"sort.ids\"\n",
    "var_tissue = \"origin\"\n",
    "}\n",
    "\n",
    "if (Create_facs_map == TRUE) {\n",
    "    #Extract unique age, facs and identity\n",
    "    meta = read.csv(meta_dat_add)\n",
    "    #age = as.character(meta$fetal.ids)\n",
    "    #age = gsub(\"SB19PCW\",\"fca_SB_19PCW\",age)\n",
    "    #age = sapply(strsplit(age,c(\"_\")), `[`, 3)\n",
    "    #age = gsub(\"[+].\",\"\",age)\n",
    "    #age = gsub(\"PCW\",\"\",age)\n",
    "    #meta$age <- age\n",
    "    out <- meta[c(var_ID,var_time,var_sort,var_tissue)]\n",
    "    out$FACs_prop <- \"\"\n",
    "    out_uni<-out[!duplicated(out),]\n",
    "    write.csv(out_uni,out_add_fname)\n",
    "    }\n",
    "\n",
    "if (Check_facs_map == TRUE) {\n",
    "    #Extract unique age, facs and identity\n",
    "    meta <- read.csv(meta_dat_add)\n",
    "    facs_map = read.csv(facs_map_add)\n",
    "    #Check that gating strategy makes sense in reference to metadata\n",
    "    ##To be written###\n",
    "    for (c in c(var_time,var_ID,var_sort,var_tissue)){\n",
    "    print(c)\n",
    "    #check\n",
    "    unique(meta[var_time])\n",
    "    }\n",
    "    }"
   ]
  },
  {
   "cell_type": "markdown",
   "id": "polyphonic-replica",
   "metadata": {},
   "source": [
    "# Data Preperation module [concat and correct multiple metadata tables]"
   ]
  },
  {
   "cell_type": "code",
   "execution_count": 189,
   "id": "immediate-marketplace",
   "metadata": {},
   "outputs": [],
   "source": [
    "# - Give adresses of metadata to concat\n",
    "#adrr<-(\"/Users/issac/Documents/Projects/Fetal Bone Marrow/BM_12052020_stats/meta_data_files/\")\n",
    "\n",
    "# - Concat data of interest\n",
    "#concat_adrr_book<-function(){\n",
    "#adress_book<- grep(list.files(path=adrr), pattern='concatenated_metadata.csv', inv=T, value=T)\n",
    "#if (\"met_concat\"%in%ls()){\n",
    "#  rm(met_concat)}\n",
    "#for (met_adr_temp in adress_book){\n",
    "#  met_temp <- read.csv(paste0(adrr,met_adr_temp))\n",
    "#  if (!\"met_concat\"%in%ls()){\n",
    "#    met_concat <- met_temp\n",
    "#  }else{\n",
    "#    met_concat <- plyr::rbind.fill(met_concat,met_temp)\n",
    "#  }\n",
    "#}\n",
    "#return(met_concat)\n",
    "#}\n",
    "#met_concat<-concat_adrr_book()\n",
    "#write.csv(met_concat,paste0(adrr,\"concatenated_metadata.csv\"))\n",
    "\n",
    "########################################\n",
    "#Annotation corrections:\n",
    "#meta<-met_concat\n",
    "#meta<-read.csv(meta_add,stringsAsFactors = F)\n",
    "\n",
    "#unique(grep(\"MONO\",meta$cell.labels[meta$origin==\"ys\"],value = T))\n",
    "#unique(grep(\"Neut\",meta$cell.labels,value = T))\n",
    "\n",
    "#cells_keep[!cells_keep%in%unique(meta$cell.labels[meta$origin==\"abm\"])]\n",
    "#Check annotations abm\n",
    "#unique(meta$cell.labels[meta$cell.labels%in%cells_list&meta$origin==\"abm\"])\n",
    "#unique(meta$cell.labels[meta$origin==\"abm\"])\n",
    "#unique(grep(\"B\",meta$cell.labels[meta$origin==\"abm\"],value = T))\n",
    "\n",
    "\n",
    "# - Read cell_list for each fig and define which is current figure\n",
    "fig_cell_list_key <- read.csv(\"/nfs/team205/ig7/work_backups/backup_210306/scripts_dont_modify/neg_binom/resources/figure_cells/cell.labels by figures.csv\",stringsAsFactors = F)\n",
    "fig_of_interest<-\"Figure.1\"\n",
    "cells_list<- as.character(unlist(fig_cell_list_key[fig_of_interest][!fig_cell_list_key[fig_of_interest]==\"\"]))"
   ]
  },
  {
   "cell_type": "code",
   "execution_count": 190,
   "id": "political-compensation",
   "metadata": {},
   "outputs": [
    {
     "data": {
      "text/html": [
       "<style>\n",
       ".list-inline {list-style: none; margin:0; padding: 0}\n",
       ".list-inline>li {display: inline-block}\n",
       ".list-inline>li:not(:last-child)::after {content: \"\\00b7\"; padding: 0 .5ex}\n",
       "</style>\n",
       "<ol class=list-inline><li>'HSC_MPP'</li><li>'Erythroid'</li><li>'MK'</li><li>'B_lineage'</li><li>'DC'</li><li>'Eo/baso/mast'</li><li>'Neutrophil'</li><li>'Monocyte'</li><li>'T_NK'</li><li>'Stroma'</li></ol>\n"
      ],
      "text/latex": [
       "\\begin{enumerate*}\n",
       "\\item 'HSC\\_MPP'\n",
       "\\item 'Erythroid'\n",
       "\\item 'MK'\n",
       "\\item 'B\\_lineage'\n",
       "\\item 'DC'\n",
       "\\item 'Eo/baso/mast'\n",
       "\\item 'Neutrophil'\n",
       "\\item 'Monocyte'\n",
       "\\item 'T\\_NK'\n",
       "\\item 'Stroma'\n",
       "\\end{enumerate*}\n"
      ],
      "text/markdown": [
       "1. 'HSC_MPP'\n",
       "2. 'Erythroid'\n",
       "3. 'MK'\n",
       "4. 'B_lineage'\n",
       "5. 'DC'\n",
       "6. 'Eo/baso/mast'\n",
       "7. 'Neutrophil'\n",
       "8. 'Monocyte'\n",
       "9. 'T_NK'\n",
       "10. 'Stroma'\n",
       "\n",
       "\n"
      ],
      "text/plain": [
       " [1] \"HSC_MPP\"      \"Erythroid\"    \"MK\"           \"B_lineage\"    \"DC\"          \n",
       " [6] \"Eo/baso/mast\" \"Neutrophil\"   \"Monocyte\"     \"T_NK\"         \"Stroma\"      "
      ]
     },
     "metadata": {},
     "output_type": "display_data"
    }
   ],
   "source": [
    "cells_list"
   ]
  },
  {
   "cell_type": "markdown",
   "id": "neutral-separate",
   "metadata": {},
   "source": [
    "# Variables input module"
   ]
  },
  {
   "cell_type": "code",
   "execution_count": 191,
   "id": "soviet-government",
   "metadata": {},
   "outputs": [],
   "source": [
    "# - choice of Negative binom of quasi binomial distribution ('quasi' or 'neg')\n",
    "dist <- \"quasi\" \n",
    "\n",
    "# - metadata adress\n",
    "meta_add<-\"/nfs/team205/ig7/work_backups/backup_210306/scripts_dont_modify/neg_binom/resources/metadata/fbm_updated_20200718.csv\"\n",
    "\n",
    "# - FACS correction strategy\n",
    "FACS <- \"/nfs/team205/ig7/work_backups/backup_210306/scripts_dont_modify/neg_binom/resources/facs_sort_strategy/BM_Facs_gate_sort.csv\"\n",
    "\n",
    "# - output directory to create\n",
    "output_dr<-\"/nfs/team205/ig7/work_backups/backup_210306/scripts_dont_modify/neg_binom/out/bm_overall_090421/\"\n",
    "\n",
    "# - input dependent cateogircal variable containing cell.label information\n",
    "dep_var<-\"broad_fig1_cell.labels\"\n",
    "\n",
    "# - input independent cateogircal variable containing the test conditions (e.g stage/pcw/sex)\n",
    "inde_var<-\"age\"\n",
    "\n",
    "# - input categorical variable containing batch information (a column to compute dispersion coefficients)\n",
    "batch<-\"orig.ident\"\n",
    "\n",
    "# - input the sort_ids which correlate to the sorting stratey in the the metadata\n",
    "use_facs_map = TRUE\n",
    "var_sort = \"sort.ids\"\n",
    "facs_map_add = \"/nfs/team205/ig7/work_backups/backup_210306/scripts_dont_modify/neg_binom/resources/facs_sort_strategy/BM_Facs_gate_sort.csv\"\n",
    "correct_between = c(\"CD45-\",\"CD45+\")\n",
    "\n",
    "# - run name\n",
    "run_id <- \"fig1_bm_by_age_quasi\"\n",
    "\n",
    "# - if input data needs to be subset give list of indpendent categroricals to be kept (e.g stage/pcw/sex or \"all\")\n",
    "inde_keep<-c(\"all\")\n",
    "\n",
    "# - give list of cell labels in verbatim to metadata to subset the data by (note that the cell.labels of analougous populations must match across data)\n",
    "cells_keep<- cells_list #()\n",
    "meta = read.csv(meta_add,stringsAsFactors = F)\n",
    "#cells_keep <- unique(meta[,dep_var])\n",
    "\n",
    "#Only test overall: select if you only have one sample per timepoint on average\n",
    "overall = FALSE"
   ]
  },
  {
   "cell_type": "code",
   "execution_count": 192,
   "id": "bottom-moral",
   "metadata": {},
   "outputs": [
    {
     "data": {
      "text/html": [
       "<style>\n",
       ".list-inline {list-style: none; margin:0; padding: 0}\n",
       ".list-inline>li {display: inline-block}\n",
       ".list-inline>li:not(:last-child)::after {content: \"\\00b7\"; padding: 0 .5ex}\n",
       "</style>\n",
       "<ol class=list-inline><li>'X'</li><li>'index'</li><li>'cell.labels'</li><li>'doublets'</li><li>'fetal.ids'</li><li>'gender'</li><li>'is_doublet'</li><li>'is_doublet_poptrim'</li><li>'is_doublet_wolock'</li><li>'lanes'</li><li>'nGene'</li><li>'nUMI'</li><li>'orig.ident'</li><li>'percent.mito'</li><li>'processing.type'</li><li>'scrublet_cluster_score'</li><li>'scrublet_score'</li><li>'sequencing.type'</li><li>'sort.ids'</li><li>'april_cell.labels'</li><li>'cell.labels_20200708'</li><li>'cell.labels_20200713'</li><li>'cell.labels_20200718'</li><li>'nk_meta'</li><li>'broad_fig1_cell.labels'</li><li>'broad_figS1_cell.labels'</li><li>'stage'</li><li>'origin'</li><li>'age'</li></ol>\n"
      ],
      "text/latex": [
       "\\begin{enumerate*}\n",
       "\\item 'X'\n",
       "\\item 'index'\n",
       "\\item 'cell.labels'\n",
       "\\item 'doublets'\n",
       "\\item 'fetal.ids'\n",
       "\\item 'gender'\n",
       "\\item 'is\\_doublet'\n",
       "\\item 'is\\_doublet\\_poptrim'\n",
       "\\item 'is\\_doublet\\_wolock'\n",
       "\\item 'lanes'\n",
       "\\item 'nGene'\n",
       "\\item 'nUMI'\n",
       "\\item 'orig.ident'\n",
       "\\item 'percent.mito'\n",
       "\\item 'processing.type'\n",
       "\\item 'scrublet\\_cluster\\_score'\n",
       "\\item 'scrublet\\_score'\n",
       "\\item 'sequencing.type'\n",
       "\\item 'sort.ids'\n",
       "\\item 'april\\_cell.labels'\n",
       "\\item 'cell.labels\\_20200708'\n",
       "\\item 'cell.labels\\_20200713'\n",
       "\\item 'cell.labels\\_20200718'\n",
       "\\item 'nk\\_meta'\n",
       "\\item 'broad\\_fig1\\_cell.labels'\n",
       "\\item 'broad\\_figS1\\_cell.labels'\n",
       "\\item 'stage'\n",
       "\\item 'origin'\n",
       "\\item 'age'\n",
       "\\end{enumerate*}\n"
      ],
      "text/markdown": [
       "1. 'X'\n",
       "2. 'index'\n",
       "3. 'cell.labels'\n",
       "4. 'doublets'\n",
       "5. 'fetal.ids'\n",
       "6. 'gender'\n",
       "7. 'is_doublet'\n",
       "8. 'is_doublet_poptrim'\n",
       "9. 'is_doublet_wolock'\n",
       "10. 'lanes'\n",
       "11. 'nGene'\n",
       "12. 'nUMI'\n",
       "13. 'orig.ident'\n",
       "14. 'percent.mito'\n",
       "15. 'processing.type'\n",
       "16. 'scrublet_cluster_score'\n",
       "17. 'scrublet_score'\n",
       "18. 'sequencing.type'\n",
       "19. 'sort.ids'\n",
       "20. 'april_cell.labels'\n",
       "21. 'cell.labels_20200708'\n",
       "22. 'cell.labels_20200713'\n",
       "23. 'cell.labels_20200718'\n",
       "24. 'nk_meta'\n",
       "25. 'broad_fig1_cell.labels'\n",
       "26. 'broad_figS1_cell.labels'\n",
       "27. 'stage'\n",
       "28. 'origin'\n",
       "29. 'age'\n",
       "\n",
       "\n"
      ],
      "text/plain": [
       " [1] \"X\"                       \"index\"                  \n",
       " [3] \"cell.labels\"             \"doublets\"               \n",
       " [5] \"fetal.ids\"               \"gender\"                 \n",
       " [7] \"is_doublet\"              \"is_doublet_poptrim\"     \n",
       " [9] \"is_doublet_wolock\"       \"lanes\"                  \n",
       "[11] \"nGene\"                   \"nUMI\"                   \n",
       "[13] \"orig.ident\"              \"percent.mito\"           \n",
       "[15] \"processing.type\"         \"scrublet_cluster_score\" \n",
       "[17] \"scrublet_score\"          \"sequencing.type\"        \n",
       "[19] \"sort.ids\"                \"april_cell.labels\"      \n",
       "[21] \"cell.labels_20200708\"    \"cell.labels_20200713\"   \n",
       "[23] \"cell.labels_20200718\"    \"nk_meta\"                \n",
       "[25] \"broad_fig1_cell.labels\"  \"broad_figS1_cell.labels\"\n",
       "[27] \"stage\"                   \"origin\"                 \n",
       "[29] \"age\"                    "
      ]
     },
     "metadata": {},
     "output_type": "display_data"
    }
   ],
   "source": [
    "colnames(meta)"
   ]
  },
  {
   "cell_type": "code",
   "execution_count": 193,
   "id": "bound-eleven",
   "metadata": {},
   "outputs": [
    {
     "data": {
      "text/html": [
       "<style>\n",
       ".list-inline {list-style: none; margin:0; padding: 0}\n",
       ".list-inline>li {display: inline-block}\n",
       ".list-inline>li:not(:last-child)::after {content: \"\\00b7\"; padding: 0 .5ex}\n",
       "</style>\n",
       "<ol class=list-inline><li>'HSC_MPP'</li><li>'Erythroid'</li><li>'MK'</li><li>'B_lineage'</li><li>'DC'</li><li>'Eo/baso/mast'</li><li>'Neutrophil'</li><li>'Monocyte'</li><li>'T_NK'</li><li>'Stroma'</li></ol>\n"
      ],
      "text/latex": [
       "\\begin{enumerate*}\n",
       "\\item 'HSC\\_MPP'\n",
       "\\item 'Erythroid'\n",
       "\\item 'MK'\n",
       "\\item 'B\\_lineage'\n",
       "\\item 'DC'\n",
       "\\item 'Eo/baso/mast'\n",
       "\\item 'Neutrophil'\n",
       "\\item 'Monocyte'\n",
       "\\item 'T\\_NK'\n",
       "\\item 'Stroma'\n",
       "\\end{enumerate*}\n"
      ],
      "text/markdown": [
       "1. 'HSC_MPP'\n",
       "2. 'Erythroid'\n",
       "3. 'MK'\n",
       "4. 'B_lineage'\n",
       "5. 'DC'\n",
       "6. 'Eo/baso/mast'\n",
       "7. 'Neutrophil'\n",
       "8. 'Monocyte'\n",
       "9. 'T_NK'\n",
       "10. 'Stroma'\n",
       "\n",
       "\n"
      ],
      "text/plain": [
       " [1] \"HSC_MPP\"      \"Erythroid\"    \"MK\"           \"B_lineage\"    \"DC\"          \n",
       " [6] \"Eo/baso/mast\" \"Neutrophil\"   \"Monocyte\"     \"T_NK\"         \"Stroma\"      "
      ]
     },
     "metadata": {},
     "output_type": "display_data"
    }
   ],
   "source": [
    "cells_list"
   ]
  },
  {
   "cell_type": "code",
   "execution_count": 194,
   "id": "artificial-library",
   "metadata": {},
   "outputs": [
    {
     "data": {
      "text/html": [
       "<style>\n",
       ".list-inline {list-style: none; margin:0; padding: 0}\n",
       ".list-inline>li {display: inline-block}\n",
       ".list-inline>li:not(:last-child)::after {content: \"\\00b7\"; padding: 0 .5ex}\n",
       "</style>\n",
       "<ol class=list-inline><li>'DC'</li><li>'HSC_MPP'</li><li>'B_lineage'</li><li>'MK'</li><li>'T_NK'</li></ol>\n"
      ],
      "text/latex": [
       "\\begin{enumerate*}\n",
       "\\item 'DC'\n",
       "\\item 'HSC\\_MPP'\n",
       "\\item 'B\\_lineage'\n",
       "\\item 'MK'\n",
       "\\item 'T\\_NK'\n",
       "\\end{enumerate*}\n"
      ],
      "text/markdown": [
       "1. 'DC'\n",
       "2. 'HSC_MPP'\n",
       "3. 'B_lineage'\n",
       "4. 'MK'\n",
       "5. 'T_NK'\n",
       "\n",
       "\n"
      ],
      "text/plain": [
       "[1] \"DC\"        \"HSC_MPP\"   \"B_lineage\" \"MK\"        \"T_NK\"     "
      ]
     },
     "metadata": {},
     "output_type": "display_data"
    }
   ],
   "source": [
    "unique(meta$'broad_fig1_cell.labels')[unique(meta$'broad_fig1_cell.labels') %in% cells_keep]"
   ]
  },
  {
   "cell_type": "markdown",
   "id": "wound-valuable",
   "metadata": {},
   "source": [
    "# Env setup and functions module"
   ]
  },
  {
   "cell_type": "code",
   "execution_count": 195,
   "id": "encouraging-proxy",
   "metadata": {},
   "outputs": [],
   "source": [
    "#Inserting Age variable for BM\n",
    "age = as.character(meta$fetal.ids)\n",
    "age = gsub(\"SB19PCW\",\"fca_SB_19PCW\",age)\n",
    "age = sapply(strsplit(age,c(\"_\")), `[`, 3)\n",
    "age = gsub(\"[+].\",\"\",age)\n",
    "age = gsub(\"PCW\",\"\",age)\n",
    "meta$age <- age"
   ]
  },
  {
   "cell_type": "code",
   "execution_count": 7,
   "id": "virgin-preservation",
   "metadata": {},
   "outputs": [
    {
     "data": {
      "text/plain": [
       "[1] ‘4.0.4’"
      ]
     },
     "metadata": {},
     "output_type": "display_data"
    }
   ],
   "source": [
    "packageVersion('stats v4.0.4')"
   ]
  },
  {
   "cell_type": "code",
   "execution_count": 196,
   "id": "thorough-resistance",
   "metadata": {},
   "outputs": [
    {
     "name": "stdout",
     "output_type": "stream",
     "text": [
      "[1] \"option to use all independent variables chosen, automatically assigning comparison for everything\"\n"
     ]
    }
   ],
   "source": [
    "{\n",
    "#Function to install/load libraries required\n",
    "libs<-c(\"base\",\"dplyr\",\"data.table\",\"plyr\",\"MASS\",\"stringr\",\"gdata\",\"reshape2\")#\"equatiomatic\"\n",
    "pkg_check <- function(pkg){\n",
    "  new.pkg <- pkg[!(pkg %in% installed.packages()[, \"Package\"])]\n",
    "  if (length(new.pkg)) \n",
    "    install.packages(new.pkg,repos = \"https://cloud.r-project.org\", dependencies = TRUE)\n",
    "  sapply(pkg, require, character.only = TRUE)\n",
    "}\n",
    "pkg_check(libs)\n",
    "\n",
    "#create and Set working directory\n",
    "if (!file.exists(output_dr)){\n",
    "dir.create(output_dr)\n",
    "}\n",
    "setwd(output_dr)\n",
    "\n",
    "#Read the metadata and subset to independent and dependent categoricals of interest\n",
    "if (!\"meta\"%in%ls()){\n",
    "meta<-read.csv(meta_add,stringsAsFactors = F)\n",
    "}\n",
    "\n",
    "if (use_facs_map == TRUE){\n",
    "    # facs correction module\n",
    "    facs_map = read.csv(facs_map_add)\n",
    "    meta<- meta[,c(batch,dep_var,inde_var,var_sort)]\n",
    "    cells_keep <- toupper(cells_keep)\n",
    "    meta[,dep_var]<-toupper(meta[,dep_var])\n",
    "    \n",
    "     if(inde_keep==\"all\"){\n",
    "      print(\"option to use all independent variables chosen, automatically assigning comparison for everything\")\n",
    "    }else{\n",
    "      print(paste0(\"option to subset of independent variables chosen, automatically assigning comparison for:\",inde_keep))\n",
    "      meta<-meta[(meta[,inde_var]%in%inde_keep),]\n",
    "    }\n",
    "    meta<-meta[(meta[,dep_var]%in%cells_keep),]\n",
    "\n",
    "    #Check if unique labels count is equal to cell_keep\n",
    "    if(!length(unique(meta[,dep_var])) == length(cells_keep)){\n",
    "      warning(\"length of cell_list and unique labels is not equal, check spelling\")\n",
    "    }\n",
    "    \n",
    "    #Assign a freq count value per cell\n",
    "    meta$freq = 1\n",
    "    #Aggregate the metadata in by grouping variable ()\n",
    "    meta[batch] <- as.vector(meta[batch])\n",
    "    meta[,batch][is.na(meta[,batch])] <- \"not_specified\"\n",
    "    x <- aggregate(meta[,c(\"freq\")], meta[,c(colnames(meta)[!colnames(meta)%in%\"freq\"])], FUN = sum)\n",
    "    #x[var_sort][x[var_sort]==\"nan\"] <-\"Total\"\n",
    "\n",
    "    #convert all labels to uppercase (minimises errors)\n",
    "    x <- as.data.frame(x%>%apply(2,toupper))\n",
    "    #relabel and reorder x\n",
    "    colnames(x)<- c(\"batch\",\"variable\",\"timepoint\",\"sort\",\"value\")\n",
    "    col_order <- c(\"value\",\"timepoint\",\"variable\",\"batch\",\"sort\")\n",
    "        x <- x[, col_order]\n",
    "\n",
    "    #Create a mappable field in both dfs\n",
    "    x$ident_sort <- paste0(x$batch,x$sort)\n",
    "    x$ident_sort <- toupper(x$ident_sort)\n",
    "    facs_map$ident_sort <- paste0(facs_map[,batch],facs_map[,var_sort])\n",
    "    facs_map$ident_sort <- toupper(facs_map$ident_sort)\n",
    "    x$value<-as.integer(x$value)\n",
    "\n",
    "    #get the grouped counts for sort ids within defined \"correct within\" args\n",
    "    x <- as.data.table(x)\n",
    "    x_temp <- x[x$sort%in%correct_between]\n",
    "    x_temp[, sample_total := sum(value), by = batch]\n",
    "    x_temp[, lane_count := sum(value), by = ident_sort]\n",
    "    x_unsorted <- x[!x$sort%in%correct_between]\n",
    "    x_unsorted[, sample_total := sum(value), by = batch]\n",
    "    x_unsorted[, lane_count := sum(value), by = ident_sort]\n",
    "    x<-rbind(x_temp, x_unsorted)\n",
    "\n",
    "    #map the multipliers\n",
    "    x$sort_multiplier <- mapvalues(x$ident_sort,facs_map$ident_sort,as.numeric(facs_map$parent_Multiplier))\n",
    "\n",
    "    #Make the corrections\n",
    "    x$corrected_counts <- (as.numeric(x$sort_multiplier)/(x$lane_count/x$sample_total))*x$value\n",
    "    x$pre_correction_counts <- x$value\n",
    "    x$value <- x$corrected_counts\n",
    "    \n",
    "    #Convert data to proportional data if quasibinom option chosen\n",
    "    if(dist==\"quasi\"){\n",
    "        x_temp <- x[x$sort%in%correct_between]\n",
    "        x_temp<- x_temp %>% dplyr::group_by(batch) %>% dplyr::mutate(percent = corrected_counts/sum(corrected_counts))\n",
    "        x_unsorted <- x[!x$sort%in%correct_between]\n",
    "        x_unsorted <- x_unsorted %>% dplyr::group_by(batch) %>% dplyr::mutate(percent = corrected_counts/sum(corrected_counts))\n",
    "        x<-rbind(x_temp, x_unsorted)  \n",
    "    }\n",
    "    } #End of facs correction\n",
    "    else{ #if no facs correction\n",
    "    meta<- meta[,c(batch,dep_var,inde_var)]\n",
    "    cells_keep <- toupper(cells_keep)\n",
    "    meta[,dep_var]<-toupper(meta[,dep_var])\n",
    "\n",
    "    if(inde_keep==\"all\"){\n",
    "      print(\"option to use all independent variables chosen, automatically assigning comparison for everything\")\n",
    "    }else{\n",
    "      print(paste0(\"option to subset of independent variables chosen, automatically assigning comparison for:\",inde_keep))\n",
    "      meta<-meta[(meta[,inde_var]%in%inde_keep),]\n",
    "    }\n",
    "    meta<-meta[(meta[,dep_var]%in%cells_keep),]\n",
    "\n",
    "    #Check if unique labels count is equal to cell_keep\n",
    "    if(!length(unique(meta[,dep_var])) == length(cells_keep)){\n",
    "      warning(\"length of cell_list and unique labels is not equal, check spelling\")\n",
    "    }\n",
    "\n",
    "    #Assign a freq count value per cell\n",
    "    meta$freq = 1\n",
    "\n",
    "    #Aggregate the metadata in by grouping variable ()\n",
    "    meta[batch] <- as.vector(meta[batch])\n",
    "    meta[,batch][is.na(meta[,batch])] <- \"not_specified\"\n",
    "    x <- aggregate(meta[,c(\"freq\")], meta[,c(colnames(meta)[!colnames(meta)%in%\"freq\"])], FUN = sum)\n",
    "    #convert all labels to uppercase (minimises errors)\n",
    "    x <- as.data.frame(x%>%apply(2,toupper))\n",
    "    #relabel and reorder x\n",
    "    colnames(x)<- c(\"batch\",\"variable\",\"timepoint\",\"value\")\n",
    "    col_order <- c(\"value\",\"timepoint\",\"variable\",\"batch\")\n",
    "    x <- x[, col_order]\n",
    "    x$value<-as.integer(x$value)\n",
    "    \n",
    "    #Convert data to proportional data if quasibinom option chosen\n",
    "    if(dist==\"quasi\"){\n",
    "      x <- x %>% dplyr::group_by(batch) %>% dplyr::mutate(percent = value/sum(value))\n",
    "    }\n",
    "}\n",
    "\n",
    "\n",
    "# Define all your conditions that group your replicates as the \"batch variable\" (e.g donors), this goes into df of conditional \"variates\"\n",
    "len = length(unique(x$batch))\n",
    "condition = as.data.frame(1: len)\n",
    "colnames(condition)<-\"len\"\n",
    "condition$len <-gsub(\"^\",\"cond_\",condition$len)\n",
    "condition$cond <-unique(x$batch)\n",
    "\n",
    "# Define the variates in \"condition$cond\" across dataset\n",
    "conditions<-as.character(unique(x$timepoint))\n",
    "\n",
    "# Define as many empty variables as many conditions you want to test:\n",
    "n<-length(conditions)\n",
    "test_vecs<-as.data.frame(gtools::combinations(n,2,conditions))\n",
    "\n",
    "#Create a unpopulated df\n",
    "score_results<- data.frame(row.names = paste0(test_vecs$V1,\"_vs_\",test_vecs$V2))\n",
    "}"
   ]
  },
  {
   "cell_type": "markdown",
   "id": "latin-northwest",
   "metadata": {},
   "source": [
    "# Compute module"
   ]
  },
  {
   "cell_type": "code",
   "execution_count": 197,
   "id": "verified-negative",
   "metadata": {},
   "outputs": [],
   "source": [
    "#overall\n",
    "#nb = glm(formula = percent ~ timepoint+celltype, data = x1, family=quasibinomial)"
   ]
  },
  {
   "cell_type": "code",
   "execution_count": 198,
   "id": "comparative-violin",
   "metadata": {},
   "outputs": [
    {
     "name": "stderr",
     "output_type": "stream",
     "text": [
      "Warning message in cor.test.default(d$percent, as.numeric(d$timepoint), method = \"spearman\"):\n",
      "“Cannot compute exact p-value with ties”\n",
      "Warning message in cor.test.default(d$percent, as.numeric(d$timepoint), method = \"spearman\"):\n",
      "“Cannot compute exact p-value with ties”\n",
      "Warning message in cor.test.default(d$percent, as.numeric(d$timepoint), method = \"spearman\"):\n",
      "“Cannot compute exact p-value with ties”\n",
      "Warning message in cor.test.default(d$percent, as.numeric(d$timepoint), method = \"spearman\"):\n",
      "“Cannot compute exact p-value with ties”\n",
      "Warning message in cor.test.default(d$percent, as.numeric(d$timepoint), method = \"spearman\"):\n",
      "“Cannot compute exact p-value with ties”\n",
      "Warning message in cor.test.default(d$percent, as.numeric(d$timepoint), method = \"spearman\"):\n",
      "“Cannot compute exact p-value with ties”\n",
      "Warning message in cor.test.default(d$percent, as.numeric(d$timepoint), method = \"spearman\"):\n",
      "“Cannot compute exact p-value with ties”\n",
      "Warning message in cor.test.default(d$percent, as.numeric(d$timepoint), method = \"spearman\"):\n",
      "“Cannot compute exact p-value with ties”\n",
      "Warning message in cor.test.default(d$percent, as.numeric(d$timepoint), method = \"spearman\"):\n",
      "“Cannot compute exact p-value with ties”\n"
     ]
    },
    {
     "name": "stdout",
     "output_type": "stream",
     "text": [
      "Error in if (dispersion == 1) Inf else object$df.residual : \n",
      "  missing value where TRUE/FALSE needed\n"
     ]
    },
    {
     "name": "stderr",
     "output_type": "stream",
     "text": [
      "Warning message in cor.test.default(d$percent, as.numeric(d$timepoint), method = \"spearman\"):\n",
      "“Cannot compute exact p-value with ties”\n"
     ]
    },
    {
     "data": {
      "text/html": [
       "1.36174282246609e-16"
      ],
      "text/latex": [
       "1.36174282246609e-16"
      ],
      "text/markdown": [
       "1.36174282246609e-16"
      ],
      "text/plain": [
       "[1] 1.361743e-16"
      ]
     },
     "metadata": {},
     "output_type": "display_data"
    }
   ],
   "source": [
    "# Compute the p-values for increasing labeled fraction (using negative binomial regression)\n",
    "  if(\"score_results_concat\"%in%ls()){\n",
    "    remove(score_results_concat)\n",
    "  }\n",
    "spearman_tot <-vector()\n",
    "  pv_tot <-vector()\n",
    "  for(i in 1:length(unique(x$variable))){\n",
    "    #pv_temp<-vector()\n",
    "    pv_temp<-rep(\"NA\",NROW(score_results))\n",
    "    temp_test_list<-vector()\n",
    "    x$variable <- factor(x$variable)\n",
    "    cell = levels(x$variable)[i]\n",
    "    totals = aggregate(x$value, by = list(x$batch), FUN = sum)\n",
    "    colnames(totals) <- c(\"batch\", \"total\")\n",
    "    d = data.frame(subset(x, variable == cell))\n",
    "    d <- merge(d, totals, by = \"batch\")\n",
    "    #QC block\n",
    "    if(any(d$total == 0)) {\n",
    "      warning(\"Removing sample that didn't detect this celltype\")\n",
    "      d = subset(d, total > 0)\n",
    "    }\n",
    "    if(length(unique(d$timepoint))<=1){\n",
    "      warning(\"One or fewer unique independent variables detected in loop, proceeding with next loop\")\n",
    "    }else{\n",
    "      for (ref in 1:NROW(test_vecs)){\n",
    "        temp_vec<-test_vecs[ref,]\n",
    "        reference <- as.character(unlist(temp_vec[1]))\n",
    "        test <-as.character(unlist(temp_vec[2]))\n",
    "        test_name<-paste0(reference,\"_v_\",test)\n",
    "        temp_test_list[ref] = test_name\n",
    "        #test block\n",
    "        \n",
    "        if (!overall==TRUE){\n",
    "        if(reference%in%d$timepoint&&test%in%d$timepoint){\n",
    "          x1 = d[d$timepoint %in% c(reference, test), ]\n",
    "          if(dist==\"quasi\"){\n",
    "            nb = glm(formula = percent ~ timepoint, data = x1, family=quasibinomial)\n",
    "            #Error checking\n",
    "            t <- try(anova(nb, test = \"F\")$`Pr(>F)`[2])\n",
    "            if(\"try-error\" %in% class(t)){pv_temp[ref]<-\"NA\"}else{\n",
    "            pv_temp[ref] = anova(nb, test = \"F\")$`Pr(>F)`[2]\n",
    "            }\n",
    "            score_results[,cell] <- pv_temp\n",
    "          }else{\n",
    "            nb = MASS::glm.nb(formula = value ~ timepoint + offset(log(as.numeric(x1$total))), data = x1, maxit = 1000)#, control=glm.control(trace = 3))\n",
    "              tryCatch(anova(nb, test = \"LRT\")$`Pr(>Chi)`[2],error=function(e){pv_temp[ref]<<-\"NA\"})\n",
    "              pv_temp[ref] = anova(nb, test = \"LRT\")$`Pr(>Chi)`[2]\n",
    "              score_results[,cell] <- pv_temp\n",
    "          }\n",
    "        }\n",
    "        }\n",
    "      }\n",
    "      #Compute overall score\n",
    "      if(dist==\"quasi\"){\n",
    "        d <- aggregate(d[,c(\"percent\")], d[,c(\"batch\",'timepoint')], FUN = sum)\n",
    "        d$percent <- d$x\n",
    "        nb_tot = glm(formula = percent ~ timepoint, data = d, family=quasibinomial)\n",
    "        #Error checking\n",
    "        t <- try(anova(nb_tot, test = \"F\")$`Pr(>F)`[2])\n",
    "        if(\"try-error\" %in% class(t)){pav_tot_val<-\"NA\"}else{\n",
    "        pav_tot_val<-anova(nb_tot, test = \"F\")$`Pr(>F)`[2]\n",
    "        }\n",
    "      if(is.na(pav_tot_val)==FALSE){\n",
    "        pv_tot[i] = pav_tot_val\n",
    "      }else{\n",
    "        pv_tot[i] <- \"NA\"\n",
    "      }\n",
    "      }else{\n",
    "        nb_tot = MASS::glm.nb(formula = value ~ timepoint + offset(log(as.numeric(d$total))), data = d, maxit = 1000)#, control=glm.control(trace = 3))\n",
    "        pav_tot_val <- anova(nb_tot, test = \"LRT\")$`Pr(>Chi)`[2]\n",
    "      if(is.na(pav_tot_val)==FALSE){\n",
    "        pv_tot[i] = pav_tot_val\n",
    "      }else{\n",
    "        pv_tot[i] <- \"NA\"\n",
    "      }\n",
    "      }\n",
    "    #test sperman's\n",
    "    spearman <- cor.test(d$percent,as.numeric(d$timepoint),method = \"spearman\")\n",
    "    pval_spearman <- spearman$p.value\n",
    "    spearman_tot[i] <- pval_spearman\n",
    "      \n",
    "    }\n",
    "    #if(!\"score_results_concat\"%in%ls()){\n",
    "    #  score_results_concat<-score_results\n",
    "    #}else{\n",
    "    #  score_results_concat<-cbind(score_results_concat,score_results)\n",
    "    #}\n",
    "  }\n",
    "  score_results_final<-rbind(score_results,spearman_tot,pv_tot)\n",
    "  base::row.names(score_results_final[NROW(score_results_final),])<-\"overall\"\n",
    "\n",
    "\n",
    "###############################################################################\n",
    "###############################################################################\n",
    "####results module####\n",
    "rownames(score_results_final)[rownames(score_results_final)%in%rownames(tail(score_results_final,2))] <- c(\"Spearmans_test\",\"overall_per_cell\")\n",
    "score_results_final<-score_results_final[,order(colnames(score_results_final))]\n",
    "\n",
    "#add sig codes\n",
    "sig_codes<- tail(score_results_final,1)\n",
    "for (z in colnames(sig_codes)){\n",
    "     if(sig_codes[z][,1]<0.00099){\n",
    "       sig_codes[z]<-\"***\" }\n",
    "    if(sig_codes[z][,1]<0.0099){\n",
    "       sig_codes[z]<-\"**\" }\n",
    "    if(sig_codes[z][,1]<0.05){\n",
    "       sig_codes[z]<-\"*\" }\n",
    "    else{sig_codes[z] <- 'ns'}\n",
    "}\n",
    "rownames(sig_codes)<-\"sig_codes\"\n",
    "score_results_final<-rbind(score_results_final,sig_codes)\n",
    "\n",
    "#add overarching pval for  two-way additive model with celltype and time\n",
    "tot <- aggregate(x[,c(\"percent\")], x[,c(\"batch\",'timepoint','variable')], FUN = sum)\n",
    "nb_overall = glm(formula = percent ~  variable + timepoint, data = tot, family=quasibinomial)\n",
    "pav_overall_val<-anova(nb_overall, test = \"F\")\n",
    "pav_overall_val<-tail(pav_overall_val,1)[,\"Pr(>F)\"]\n",
    "score_results_final[nrow(score_results_final)+1,][1]<-pav_overall_val\n",
    "rownames(score_results_final)[rownames(score_results_final)==rownames(tail(score_results_final,1))] <-\"overarching_all_cells_all_timepoints\"\n",
    "\n",
    "date<-gsub( \" .*$\", \"\", Sys.time())\n",
    "write.csv(score_results_final,paste0(output_dr,\"/\",run_id,\"_\",date,\".csv\"))"
   ]
  },
  {
   "cell_type": "code",
   "execution_count": 199,
   "id": "surgical-supervision",
   "metadata": {},
   "outputs": [
    {
     "data": {
      "text/html": [
       "<table class=\"dataframe\">\n",
       "<caption>A data.frame: 9 × 2</caption>\n",
       "<thead>\n",
       "\t<tr><th scope=col>batch</th><th scope=col>x</th></tr>\n",
       "\t<tr><th scope=col>&lt;chr&gt;</th><th scope=col>&lt;dbl&gt;</th></tr>\n",
       "</thead>\n",
       "<tbody>\n",
       "\t<tr><td>F21    </td><td>1</td></tr>\n",
       "\t<tr><td>F29    </td><td>2</td></tr>\n",
       "\t<tr><td>F30    </td><td>2</td></tr>\n",
       "\t<tr><td>F38    </td><td>1</td></tr>\n",
       "\t<tr><td>F41    </td><td>1</td></tr>\n",
       "\t<tr><td>F45    </td><td>1</td></tr>\n",
       "\t<tr><td>F50    </td><td>1</td></tr>\n",
       "\t<tr><td>F51    </td><td>1</td></tr>\n",
       "\t<tr><td>SB19PCW</td><td>1</td></tr>\n",
       "</tbody>\n",
       "</table>\n"
      ],
      "text/latex": [
       "A data.frame: 9 × 2\n",
       "\\begin{tabular}{ll}\n",
       " batch & x\\\\\n",
       " <chr> & <dbl>\\\\\n",
       "\\hline\n",
       "\t F21     & 1\\\\\n",
       "\t F29     & 2\\\\\n",
       "\t F30     & 2\\\\\n",
       "\t F38     & 1\\\\\n",
       "\t F41     & 1\\\\\n",
       "\t F45     & 1\\\\\n",
       "\t F50     & 1\\\\\n",
       "\t F51     & 1\\\\\n",
       "\t SB19PCW & 1\\\\\n",
       "\\end{tabular}\n"
      ],
      "text/markdown": [
       "\n",
       "A data.frame: 9 × 2\n",
       "\n",
       "| batch &lt;chr&gt; | x &lt;dbl&gt; |\n",
       "|---|---|\n",
       "| F21     | 1 |\n",
       "| F29     | 2 |\n",
       "| F30     | 2 |\n",
       "| F38     | 1 |\n",
       "| F41     | 1 |\n",
       "| F45     | 1 |\n",
       "| F50     | 1 |\n",
       "| F51     | 1 |\n",
       "| SB19PCW | 1 |\n",
       "\n"
      ],
      "text/plain": [
       "  batch   x\n",
       "1 F21     1\n",
       "2 F29     2\n",
       "3 F30     2\n",
       "4 F38     1\n",
       "5 F41     1\n",
       "6 F45     1\n",
       "7 F50     1\n",
       "8 F51     1\n",
       "9 SB19PCW 1"
      ]
     },
     "metadata": {},
     "output_type": "display_data"
    }
   ],
   "source": [
    "test <- aggregate(tot[,c(\"percent\")], tot[\"batch\"], FUN = sum)\n",
    "test"
   ]
  },
  {
   "cell_type": "markdown",
   "id": "talented-valuable",
   "metadata": {},
   "source": [
    "# Trend testing"
   ]
  },
  {
   "cell_type": "code",
   "execution_count": 200,
   "id": "twelve-appreciation",
   "metadata": {},
   "outputs": [
    {
     "name": "stdout",
     "output_type": "stream",
     "text": [
      "[1] \"parameters met to use Bartels trend test statistic\"\n",
      "[1] \"parameters met to use Bartels trend test statistic\"\n",
      "[1] \"parameters met to use Bartels trend test statistic\"\n",
      "[1] \"parameters met to use Bartels trend test statistic\"\n",
      "[1] \"parameters met to use Bartels trend test statistic\"\n",
      "[1] \"parameters met to use Bartels trend test statistic\"\n",
      "[1] \"parameters met to use Bartels trend test statistic\"\n",
      "[1] \"parameters met to use Bartels trend test statistic\"\n",
      "[1] \"parameters met to use Bartels trend test statistic\"\n",
      "[1] \"parameters met to use Bartels trend test statistic\"\n"
     ]
    }
   ],
   "source": [
    "#Decide if prop goes up or down (use non-parametric trend test)\n",
    "\n",
    "direction = NULL\n",
    "cell_list = NULL\n",
    "rho = NULL\n",
    "r = NULL\n",
    "for(i in 1:length(unique(x$variable))) {\n",
    "  cell = levels(x$variable)[i]\n",
    "  d = data.frame(subset(x, variable == cell))\n",
    "  totals = aggregate(d$percent, by = list(d$timepoint), FUN = sum)\n",
    "  colnames(totals) <- c(\"timepoint\", \"total\")\n",
    "  d <- merge(d, totals, by = \"timepoint\")\n",
    "  d <- d[(!d$timepoint==\"STAGE 4\"),]\n",
    "  \n",
    "  #Create order for factors\n",
    "  order(unique(d$timepoint))\n",
    "  d$factor_levels <- ordered(d$timepoint, levels = c(\"STAGE 1\", \"STAGE 2\", \"STAGE 3\", \"STAGE 4\"))\n",
    "  #d$factor_levels <- ordered(d$timepoint, levels = c(\"DOWNS\", \"FBM\"))\n",
    "  d1<-d[!duplicated(d$timepoint),]\n",
    "  d1$time_factor <- order(d1$factor_levels)\n",
    "  \n",
    "  if(length(unique(d$timepoint))>=2){\n",
    "    print(\"parameters met to use Bartels trend test statistic\")\n",
    "    #d1$time_factor<-order(d1$timepoint)\n",
    "    ts_d<-as.ts(d1)\n",
    "    #sig<-bartels.test(ts_d)\n",
    "    sig <- cor.test(d1$percent,d1$time_factor,method = \"spearman\")\n",
    "    t <- try(cor.test(d1$percent,d1$time_factor,method = \"pearson\"))\n",
    "    if(\"try-error\" %in% class(t)){ \n",
    "        sig2 <-\"NA\"\n",
    "        r <- append(r, \"NA\")}else{\n",
    "    sig2 <- cor.test(d1$total,d1$time_factor,method = \"pearson\")\n",
    "    r <- append(r, sig2$estimate)\n",
    "    }\n",
    "      \n",
    "    \n",
    "    cell_list <- append(cell_list,cell)\n",
    "    rho<- append(rho,sig$estimate)\n",
    "    if(as.numeric(sig$estimate) == '1' ){\n",
    "      #direction <- append(direction,\"No_direction\")\n",
    "      reference <-as.character(d1$timepoint[d1$time_factor== min(d1$time_factor)]) # !\n",
    "      test <- as.character(d1$timepoint[d1$time_factor== max(d1$time_factor)]) # !\n",
    "      x1 = d[d$time %in% c(reference, test), ]\n",
    "      x_sums_test <- sum(x1$value[x1$timepoint==test])\n",
    "      x_sums_ref<- sum(x1$value[x1$timepoint==reference])\n",
    "      if(x_sums_test > x_sums_ref){\n",
    "        direction <- append(direction,\"up\")\n",
    "      }else{\n",
    "        direction<-append(direction,\"down\")\n",
    "      }\n",
    "    }else if(sig$estimate > '0' ){\n",
    "      direction<-append(direction,\"up\")\n",
    "    }else{\n",
    "      direction<-append(direction,\"down\")\n",
    "    }\n",
    "    \n",
    "  }else{\n",
    "    #If no statistic can be applied, use simple arithmic and compare largest to smallest factor\n",
    "    reference <-as.character(d1$timepoint[d1$time_factor== min(d1$time_factor)]) # !\n",
    "    test <- as.character(d1$timepoint[d1$time_factor== max(d1$time_factor)]) # !\n",
    "    x1 = d[d$time %in% c(reference, test), ]\n",
    "    x_sums_test <- sum(x1$value[x1$timepoint==test])\n",
    "    x_sums_ref<- sum(x1$value[x1$timepoint==reference])\n",
    "    \n",
    "    cell_list <- append(cell_list,cell)\n",
    "    rho<- append(rho,\"NA\")\n",
    "    r<- append(r,\"NA\")\n",
    "    if(x_sums_test > x_sums_ref){\n",
    "      direction <- append(direction,\"up\")\n",
    "    }else{\n",
    "      direction<-append(direction,\"down\")\n",
    "    }\n",
    "  }\n",
    "}\n",
    "polarity<-data.frame(cell_list,direction,rho,r)\n",
    "write.csv(polarity,\"/nfs/team205/ig7/work_backups/backup_210306/scripts_dont_modify/neg_binom/out/reviewers_overall_bm_polarity.csv\")\n",
    "#pv$polarity_of_change <- direction"
   ]
  },
  {
   "cell_type": "markdown",
   "id": "eastern-procedure",
   "metadata": {},
   "source": [
    "# Append polarity scores to score sheet"
   ]
  },
  {
   "cell_type": "code",
   "execution_count": 201,
   "id": "rough-impossible",
   "metadata": {},
   "outputs": [],
   "source": [
    "polarity <- as.data.frame((t(polarity)))\n",
    "polarity <- as.data.frame(polarity)\n",
    "names(polarity) <- as.character(unlist(polarity[1,]))\n",
    "polarity = polarity[-1,]\n",
    "polarity_scores <- rbind(score_results_final,(polarity))\n",
    "\n",
    "date<-gsub( \" .*$\", \"\", Sys.time())\n",
    "write.csv(polarity_scores,paste0(output_dr,\"/\",run_id,\"_polarity_scores_\",date,\".csv\"))"
   ]
  },
  {
   "cell_type": "code",
   "execution_count": 204,
   "id": "armed-traveler",
   "metadata": {},
   "outputs": [
    {
     "data": {
      "image/png": "[encoded data removed]",
      "text/plain": [
       "plot without title"
      ]
     },
     "metadata": {
      "image/png": {
       "height": 420,
       "width": 420
      }
     },
     "output_type": "display_data"
    }
   ],
   "source": [
    "library(\"ggpubr\")\n",
    "\n",
    "ggqqplot(d$percent, ylab = \"prop_spread\")"
   ]
  },
  {
   "cell_type": "code",
   "execution_count": 3,
   "id": "respiratory-pledge",
   "metadata": {},
   "outputs": [],
   "source": [
    "facs_gating_df <- read.csv(\"~/mount/gdrive/Pan_fetal/meta_share/030621_FACs_gating_proportions.csv\")"
   ]
  },
  {
   "cell_type": "code",
   "execution_count": 13,
   "id": "entertaining-legend",
   "metadata": {},
   "outputs": [
    {
     "data": {
      "image/png": "[encoded data removed]",
      "text/plain": [
       "plot without title"
      ]
     },
     "metadata": {
      "image/png": {
       "height": 420,
       "width": 420
      }
     },
     "output_type": "display_data"
    }
   ],
   "source": [
    "library(ggplot2)\n",
    "library(dplyr)\n",
    "\n",
    "facs_gating_df %>%\n",
    "    filter(sort.ids %in% c(\"CD45+\", \"CD45-\")) %>%\n",
    "ggplot(aes(count/total_live_events, parent_Multiplier, color=sort.ids)) + geom_jitter()"
   ]
  },
  {
   "cell_type": "code",
   "execution_count": null,
   "id": "included-telephone",
   "metadata": {},
   "outputs": [],
   "source": []
  }
 ],
 "metadata": {
  "kernelspec": {
   "display_name": "R",
   "language": "R",
   "name": "ir"
  },
  "language_info": {
   "codemirror_mode": "r",
   "file_extension": ".r",
   "mimetype": "text/x-r-source",
   "name": "R",
   "pygments_lexer": "r",
   "version": "4.0.4"
  }
 },
 "nbformat": 4,
 "nbformat_minor": 5
}
