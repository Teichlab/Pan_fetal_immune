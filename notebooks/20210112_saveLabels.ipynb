{
 "cells": [
  {
   "cell_type": "markdown",
   "metadata": {},
   "source": [
    "## Fetal Immune Atlas - save labels in anndata\n",
    "\n",
    "In this notebook I load the raw merged anndata file and add the labels unified in `20201230_UniformCellLabels.ipynb`, fixing some inconsistencies on cell names between organs."
   ]
  },
  {
   "cell_type": "code",
   "execution_count": 1,
   "metadata": {},
   "outputs": [
    {
     "name": "stderr",
     "output_type": "stream",
     "text": [
      "/home/jovyan/.local/lib/python3.7/site-packages/sklearn/externals/six.py:31: DeprecationWarning: The module is deprecated in version 0.21 and will be removed in version 0.23 since we've dropped support for Python 2.7. Please rely on the official version of six (https://pypi.org/project/six/).\n",
      "  \"(https://pypi.org/project/six/).\", DeprecationWarning)\n"
     ]
    }
   ],
   "source": [
    "import os,sys\n",
    "import numpy as np \n",
    "import pandas as pd\n",
    "import scanpy as sc\n",
    "import scanpy.external as sce\n",
    "import anndata\n",
    "from bbknn import bbknn\n",
    "import scipy\n",
    "\n",
    "## For geosketch integration\n",
    "from geosketch import gs, uniform, srs, kmeanspp\n",
    "from scanorama import transform\n",
    "from scipy.sparse import csr_matrix, find\n",
    "from sklearn.metrics.pairwise import rbf_kernel\n",
    "from sklearn.neighbors import NearestNeighbors\n",
    "from sklearn.preprocessing import normalize\n",
    "# from subprocess import Popen\n",
    "# import sys\n",
    "from time import time\n",
    "from datetime import datetime"
   ]
  },
  {
   "cell_type": "markdown",
   "metadata": {},
   "source": [
    "### Load merged dataset "
   ]
  },
  {
   "cell_type": "code",
   "execution_count": 2,
   "metadata": {},
   "outputs": [
    {
     "name": "stderr",
     "output_type": "stream",
     "text": [
      "Variable names are not unique. To make them unique, call `.var_names_make_unique`.\n"
     ]
    }
   ],
   "source": [
    "merged_raw = sc.read_h5ad('/nfs/team205/ed6/data/Fetal_immune/PAN.A01.v01.entire_data_normalised_log.wGut.h5ad')"
   ]
  },
  {
   "cell_type": "code",
   "execution_count": 3,
   "metadata": {},
   "outputs": [],
   "source": [
    "merged_raw.obs['batch'] = [x+y for x,y in zip(merged_raw.obs['organ'],merged_raw.obs['method'])]\n",
    "merged_raw.obs['bbk'] = [x+y for x,y in zip(merged_raw.obs['donor'],merged_raw.obs['method'])]"
   ]
  },
  {
   "cell_type": "markdown",
   "metadata": {},
   "source": [
    "Change barcodes for gut cells"
   ]
  },
  {
   "cell_type": "code",
   "execution_count": 4,
   "metadata": {},
   "outputs": [],
   "source": [
    "def _rename_gut_cells(x):\n",
    "    if \"FCA\" not in x:\n",
    "        x = x.split(\"_\")[8].split('-')[1] + \"-1\"  + \"_\" + \"_\".join(x.split(\"_\")[3:6])\n",
    "    else: \n",
    "        x = x.split(\"_\")[7].split('-')[1] + \"-1\" + \"_\" + \"_\".join(x.split(\"_\")[3:5]) \n",
    "    return(x)"
   ]
  },
  {
   "cell_type": "code",
   "execution_count": 5,
   "metadata": {},
   "outputs": [],
   "source": [
    "obs_names = merged_raw.obs_names.values\n",
    "gut_ixs = np.where(merged_raw.obs.organ==\"GU\")[0]\n",
    "for i in gut_ixs:\n",
    "    obs_names[i] = _rename_gut_cells(obs_names[i])"
   ]
  },
  {
   "cell_type": "code",
   "execution_count": 6,
   "metadata": {},
   "outputs": [],
   "source": [
    "merged_raw.obs_names = obs_names"
   ]
  },
  {
   "cell_type": "markdown",
   "metadata": {},
   "source": [
    "### Add cell type labels\n",
    "\n",
    "Made uniform in `notebooks/20201230_UniformCellLabels.ipynb`"
   ]
  },
  {
   "cell_type": "code",
   "execution_count": 201,
   "metadata": {},
   "outputs": [],
   "source": [
    "annot_dir = '/home/jovyan/mount/gdrive/Pan_fetal/annotations/'\n",
    "annot_df = pd.read_csv(annot_dir + \"uniform_labels_full.csv\", index_col=0)"
   ]
  },
  {
   "cell_type": "code",
   "execution_count": 202,
   "metadata": {},
   "outputs": [],
   "source": [
    "### WARNING!! There are duplicated indices in the skin dataset, here I am solving the brute force way\n",
    "annot_df.loc[annot_df.index[annot_df.index.duplicated(keep=False)],'uniform_label'] = \"NEUTROPHIL\"\n",
    "annot_df.loc[annot_df.index[annot_df.index.duplicated(keep=False)],'cell.labels'] = \"Neutrophile\"\n",
    "\n",
    "annot_df = annot_df[~annot_df.index.duplicated()]"
   ]
  },
  {
   "cell_type": "markdown",
   "metadata": {},
   "source": [
    "Fix names to make them uniform w dataset"
   ]
  },
  {
   "cell_type": "code",
   "execution_count": 203,
   "metadata": {},
   "outputs": [],
   "source": [
    "def _translate_obs_names(x, organ):\n",
    "    if organ in [\"sp\", 'bm']:\n",
    "        if \"FCA\" in x:\n",
    "            obs_name = x.split(\"_\")[3]+ '-' +x.split(\"_\")[5]\n",
    "        else:\n",
    "            obs_name = x\n",
    "    elif organ in [\"ki\"]:\n",
    "        if \"FCA\" in x:\n",
    "            obs_name = x.split(\"_\")[0] + \"-\" + x.split(\"_\")[-1].split('-')[0]\n",
    "        else:\n",
    "            obs_name = x\n",
    "    elif organ in [\"li\", 'ys']:\n",
    "        obs_name = x.split(\"_\")[3]+'-'+x.split(\"_\")[4]\n",
    "    elif organ in [\"sk\"]:\n",
    "        obs_name = x.split(\"-\")[2]+'-'+x.split(\"-\")[0]\n",
    "    elif organ in [\"gu\"]:\n",
    "        obs_name = \"-\".join(x.split(\"-\")[:2]) + \"_\" + x.split(\"-\")[2]\n",
    "    else:\n",
    "        obs_name = x\n",
    "    return(obs_name)"
   ]
  },
  {
   "cell_type": "code",
   "execution_count": 204,
   "metadata": {},
   "outputs": [],
   "source": [
    "# annot_df.index = annot_df[\"old_name\"]\n",
    "annot_df.index = [\"GEX\".join(x.split(\"prime\")) for x in annot_df.index]\n",
    "new_name = [_translate_obs_names(annot_df.index[i],annot_df.organ[i]) for i in range(annot_df.shape[0])]"
   ]
  },
  {
   "cell_type": "code",
   "execution_count": 205,
   "metadata": {},
   "outputs": [],
   "source": [
    "annot_df[\"old_name\"] = annot_df.index\n",
    "annot_df.index = new_name"
   ]
  },
  {
   "cell_type": "code",
   "execution_count": 206,
   "metadata": {},
   "outputs": [],
   "source": [
    "## Subset to cells in the adata\n",
    "annot_df = annot_df.loc[merged_raw.obs_names[merged_raw.obs_names.isin(annot_df.index)]]"
   ]
  },
  {
   "cell_type": "code",
   "execution_count": 207,
   "metadata": {},
   "outputs": [],
   "source": [
    "new_anno = pd.concat([merged_raw.obs, annot_df[['uniform_label', 'uniform_label_expanded_merged', 'uniform_label_lvl0']]], 1)"
   ]
  },
  {
   "cell_type": "code",
   "execution_count": 208,
   "metadata": {},
   "outputs": [],
   "source": [
    "merged_raw.obs = new_anno[~new_anno.Sample.isna()].loc[merged_raw.obs_names]"
   ]
  },
  {
   "cell_type": "markdown",
   "metadata": {},
   "source": [
    "## Add correct metadata"
   ]
  },
  {
   "cell_type": "code",
   "execution_count": 263,
   "metadata": {},
   "outputs": [],
   "source": [
    "metadata = pd.read_csv(\"/home/jovyan/mount/gdrive/Pan_fetal/annotations/manifest_clean_110121.csv\", index_col=0)"
   ]
  },
  {
   "cell_type": "code",
   "execution_count": 264,
   "metadata": {},
   "outputs": [],
   "source": [
    "metadata['method'] = [x.split(\"prime\")[0]+\"GEX\" if \"prime\" in x else x for x in metadata[\"Sequencing\"]]\n",
    "\n",
    "## Rename columns as they are in obs\n",
    "metadata['donor'] = metadata['SAMPLE.NAME']"
   ]
  },
  {
   "cell_type": "code",
   "execution_count": 266,
   "metadata": {},
   "outputs": [
    {
     "name": "stderr",
     "output_type": "stream",
     "text": [
      "/home/jovyan/my-conda-envs/emma_env/lib/python3.7/site-packages/ipykernel_launcher.py:2: SettingWithCopyWarning: \n",
      "A value is trying to be set on a copy of a slice from a DataFrame.\n",
      "Try using .loc[row_indexer,col_indexer] = value instead\n",
      "\n",
      "See the caveats in the documentation: https://pandas.pydata.org/pandas-docs/stable/user_guide/indexing.html#returning-a-view-versus-a-copy\n",
      "  \n"
     ]
    }
   ],
   "source": [
    "clean_metadata = metadata[[\"Sample.lanes\", \"Sort_id\",\"age\", \"method\", \"donor\", \"sex\", \"Processing_method\"]]\n",
    "clean_metadata[\"file\"] = clean_metadata['Sample.lanes']"
   ]
  },
  {
   "cell_type": "code",
   "execution_count": null,
   "metadata": {},
   "outputs": [],
   "source": [
    "new_obs = merged_raw.obs.reset_index().merge(clean_metadata, on=['file', \"donor\", \"method\"], how='left', indicator=True)\n",
    "new_obs = new_obs.set_index(\"index\")\n",
    "\n",
    "## Check that the merge has worked properly\n",
    "if not new_obs.shape[0] == merged_raw.obs.shape[0]:\n",
    "    print(\"--- WARNING!! The new obs has more rows than the old obs ---\")\n",
    "\n",
    "if np.any(new_obs._merge==\"right_only\"):\n",
    "    print(\"--- WARNING!! Some values are unique to metadata ---\")\n",
    "\n",
    "if not new_obs.index.is_unique:\n",
    "    print(\"--- WARNING!! Duplicate indices ---\")\n",
    "    \n"
   ]
  },
  {
   "cell_type": "code",
   "execution_count": 303,
   "metadata": {},
   "outputs": [],
   "source": [
    "new_obs = new_obs.drop([\"sort\", \"_merge\"],1)"
   ]
  },
  {
   "cell_type": "code",
   "execution_count": 308,
   "metadata": {},
   "outputs": [],
   "source": [
    "new_obs.to_csv(\"/nfs/team205/ed6/data/Fetal_immune/PAN.A01.v01.entire_data_normalised_log.wGut.full_obs.csv\")"
   ]
  }
 ],
 "metadata": {
  "kernelspec": {
   "display_name": "Python (emma_env)",
   "language": "python",
   "name": "emma_env"
  },
  "language_info": {
   "codemirror_mode": {
    "name": "ipython",
    "version": 3
   },
   "file_extension": ".py",
   "mimetype": "text/x-python",
   "name": "python",
   "nbconvert_exporter": "python",
   "pygments_lexer": "ipython3",
   "version": "3.7.8"
  }
 },
 "nbformat": 4,
 "nbformat_minor": 4
}
