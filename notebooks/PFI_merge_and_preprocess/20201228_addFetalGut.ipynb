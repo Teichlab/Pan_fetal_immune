{
 "cells": [
  {
   "cell_type": "markdown",
   "metadata": {},
   "source": [
    "# Add fetal gut data to Fetal Immune atlas\n",
    "\n",
    "In this notebook I am loading and preprocessing data from the fetal gut samples following the code from `Pan_fetal_immune/legacy_code/PAN.A01.v01.Import_data.ipynb` as strictly as possible."
   ]
  },
  {
   "cell_type": "markdown",
   "metadata": {},
   "source": [
    "### Import modules"
   ]
  },
  {
   "cell_type": "code",
   "execution_count": 1,
   "metadata": {},
   "outputs": [],
   "source": [
    "# importing scjp\n",
    "%load_ext autoreload\n",
    "%autoreload 2\n",
    "import os, sys\n",
    "cwd = '/nfs/team205/ed6/data/Fetal_immune/Pan_fetal/JP_archive/a18_Pan_fetal'\n",
    "sys.path.append(cwd)\n",
    "# import scjp"
   ]
  },
  {
   "cell_type": "code",
   "execution_count": 2,
   "metadata": {},
   "outputs": [
    {
     "name": "stderr",
     "output_type": "stream",
     "text": [
      "/home/jovyan/.local/lib/python3.7/site-packages/sklearn/linear_model/least_angle.py:30: DeprecationWarning: `np.float` is a deprecated alias for the builtin `float`. To silence this warning, use `float` by itself. Doing this will not modify any behavior and is safe. If you specifically wanted the numpy scalar type, use `np.float64` here.\n",
      "Deprecated in NumPy 1.20; for more details and guidance: https://numpy.org/devdocs/release/1.20.0-notes.html#deprecations\n",
      "  method='lar', copy_X=True, eps=np.finfo(np.float).eps,\n",
      "/home/jovyan/.local/lib/python3.7/site-packages/sklearn/linear_model/least_angle.py:167: DeprecationWarning: `np.float` is a deprecated alias for the builtin `float`. To silence this warning, use `float` by itself. Doing this will not modify any behavior and is safe. If you specifically wanted the numpy scalar type, use `np.float64` here.\n",
      "Deprecated in NumPy 1.20; for more details and guidance: https://numpy.org/devdocs/release/1.20.0-notes.html#deprecations\n",
      "  method='lar', copy_X=True, eps=np.finfo(np.float).eps,\n",
      "/home/jovyan/.local/lib/python3.7/site-packages/sklearn/linear_model/least_angle.py:284: DeprecationWarning: `np.float` is a deprecated alias for the builtin `float`. To silence this warning, use `float` by itself. Doing this will not modify any behavior and is safe. If you specifically wanted the numpy scalar type, use `np.float64` here.\n",
      "Deprecated in NumPy 1.20; for more details and guidance: https://numpy.org/devdocs/release/1.20.0-notes.html#deprecations\n",
      "  eps=np.finfo(np.float).eps, copy_Gram=True, verbose=0,\n",
      "/home/jovyan/.local/lib/python3.7/site-packages/sklearn/linear_model/least_angle.py:862: DeprecationWarning: `np.float` is a deprecated alias for the builtin `float`. To silence this warning, use `float` by itself. Doing this will not modify any behavior and is safe. If you specifically wanted the numpy scalar type, use `np.float64` here.\n",
      "Deprecated in NumPy 1.20; for more details and guidance: https://numpy.org/devdocs/release/1.20.0-notes.html#deprecations\n",
      "  eps=np.finfo(np.float).eps, copy_X=True, fit_path=True,\n",
      "/home/jovyan/.local/lib/python3.7/site-packages/sklearn/linear_model/least_angle.py:1101: DeprecationWarning: `np.float` is a deprecated alias for the builtin `float`. To silence this warning, use `float` by itself. Doing this will not modify any behavior and is safe. If you specifically wanted the numpy scalar type, use `np.float64` here.\n",
      "Deprecated in NumPy 1.20; for more details and guidance: https://numpy.org/devdocs/release/1.20.0-notes.html#deprecations\n",
      "  eps=np.finfo(np.float).eps, copy_X=True, fit_path=True,\n",
      "/home/jovyan/.local/lib/python3.7/site-packages/sklearn/linear_model/least_angle.py:1127: DeprecationWarning: `np.float` is a deprecated alias for the builtin `float`. To silence this warning, use `float` by itself. Doing this will not modify any behavior and is safe. If you specifically wanted the numpy scalar type, use `np.float64` here.\n",
      "Deprecated in NumPy 1.20; for more details and guidance: https://numpy.org/devdocs/release/1.20.0-notes.html#deprecations\n",
      "  eps=np.finfo(np.float).eps, positive=False):\n",
      "/home/jovyan/.local/lib/python3.7/site-packages/sklearn/linear_model/least_angle.py:1362: DeprecationWarning: `np.float` is a deprecated alias for the builtin `float`. To silence this warning, use `float` by itself. Doing this will not modify any behavior and is safe. If you specifically wanted the numpy scalar type, use `np.float64` here.\n",
      "Deprecated in NumPy 1.20; for more details and guidance: https://numpy.org/devdocs/release/1.20.0-notes.html#deprecations\n",
      "  max_n_alphas=1000, n_jobs=None, eps=np.finfo(np.float).eps,\n",
      "/home/jovyan/.local/lib/python3.7/site-packages/sklearn/linear_model/least_angle.py:1602: DeprecationWarning: `np.float` is a deprecated alias for the builtin `float`. To silence this warning, use `float` by itself. Doing this will not modify any behavior and is safe. If you specifically wanted the numpy scalar type, use `np.float64` here.\n",
      "Deprecated in NumPy 1.20; for more details and guidance: https://numpy.org/devdocs/release/1.20.0-notes.html#deprecations\n",
      "  max_n_alphas=1000, n_jobs=None, eps=np.finfo(np.float).eps,\n",
      "/home/jovyan/.local/lib/python3.7/site-packages/sklearn/linear_model/least_angle.py:1738: DeprecationWarning: `np.float` is a deprecated alias for the builtin `float`. To silence this warning, use `float` by itself. Doing this will not modify any behavior and is safe. If you specifically wanted the numpy scalar type, use `np.float64` here.\n",
      "Deprecated in NumPy 1.20; for more details and guidance: https://numpy.org/devdocs/release/1.20.0-notes.html#deprecations\n",
      "  eps=np.finfo(np.float).eps, copy_X=True, positive=False):\n",
      "/home/jovyan/.local/lib/python3.7/site-packages/sklearn/decomposition/online_lda.py:29: DeprecationWarning: `np.float` is a deprecated alias for the builtin `float`. To silence this warning, use `float` by itself. Doing this will not modify any behavior and is safe. If you specifically wanted the numpy scalar type, use `np.float64` here.\n",
      "Deprecated in NumPy 1.20; for more details and guidance: https://numpy.org/devdocs/release/1.20.0-notes.html#deprecations\n",
      "  EPS = np.finfo(np.float).eps\n"
     ]
    }
   ],
   "source": [
    "# useful imports\n",
    "import numpy as np\n",
    "import scipy as scipy\n",
    "import scanpy as sc\n",
    "import scanpy.external as sce\n",
    "import pandas as pd\n",
    "import pickle as pkl\n",
    "import matplotlib.pyplot as plt\n",
    "import seaborn as sns\n",
    "from collections import defaultdict, Counter\n",
    "import networkx as nx\n",
    "import igraph, re, glob\n",
    "from bbknn import bbknn\n",
    "from geosketch import gs\n",
    "import scrublet as scr\n",
    "import joblib as jl\n",
    "from datetime import datetime\n",
    "def timestamp():\n",
    "    return datetime.now().strftime(\"%y%m%d%H%M\")"
   ]
  },
  {
   "cell_type": "code",
   "execution_count": 3,
   "metadata": {},
   "outputs": [
    {
     "name": "stdout",
     "output_type": "stream",
     "text": [
      "Running Scanpy 1.6.0, on 2021-02-20 18:03.\n"
     ]
    }
   ],
   "source": [
    "# setting scanpy\n",
    "sc.settings.verbosity = 3\n",
    "sc.settings.set_figure_params(dpi=100, color_map='OrRd')\n",
    "sc.logging.print_version_and_date()"
   ]
  },
  {
   "cell_type": "code",
   "execution_count": 4,
   "metadata": {},
   "outputs": [],
   "source": [
    "# other environmental imports\n",
    "%load_ext rpy2.ipython"
   ]
  },
  {
   "cell_type": "code",
   "execution_count": 5,
   "metadata": {},
   "outputs": [],
   "source": [
    "# # printing version\n",
    "# version = 'PAN.A01.v01.'\n",
    "# Name = 'PAN.A01.v01.Import_data.ipynb'\n",
    "# print('Version: %s'%(version))\n",
    "\n",
    "# scjp.save_html('PAN.A01.v01.Import_data.ipynb')"
   ]
  },
  {
   "cell_type": "markdown",
   "metadata": {},
   "source": [
    "## Load full atlas dataset\n",
    "\n",
    "This was generated in `Pan_fetal_immune/legacy_code/PAN.A01.v01.Import_data.ipynb`. "
   ]
  },
  {
   "cell_type": "code",
   "execution_count": 6,
   "metadata": {},
   "outputs": [
    {
     "name": "stderr",
     "output_type": "stream",
     "text": [
      "Variable names are not unique. To make them unique, call `.var_names_make_unique`.\n"
     ]
    }
   ],
   "source": [
    "# merged_raw = sc.read_h5ad('/nfs/team205/ed6/data/Fetal_immune/Pan_fetal/working_data/PAN.A01.v01.entire_data_normalised_log.h5ad')"
   ]
  },
  {
   "cell_type": "code",
   "execution_count": 7,
   "metadata": {},
   "outputs": [
    {
     "data": {
      "text/plain": [
       "AnnData object with n_obs × n_vars = 849542 × 33694\n",
       "    obs: 'Sample', 'n_counts', 'n_genes', 'donor', 'organ', 'sort', 'method', 'file', 'mito', 'doublet_scores', 'predicted_doublets', 'name'\n",
       "    var: 'GeneName', 'GeneID'"
      ]
     },
     "execution_count": 7,
     "metadata": {},
     "output_type": "execute_result"
    }
   ],
   "source": [
    "# merged_raw"
   ]
  },
  {
   "cell_type": "markdown",
   "metadata": {},
   "source": [
    "## Load fetal gut data"
   ]
  },
  {
   "cell_type": "code",
   "execution_count": 5,
   "metadata": {},
   "outputs": [],
   "source": [
    "gut_data_dir = '/nfs/team205/ed6/data/Fetal_immune/fetal_gut/'\n",
    "file_list = [x for x in os.listdir(gut_data_dir) if x.startswith(\"cellranger\") and not x.endswith(\".h5ad\")]\n",
    "file_name_list = [\"_\".join(x.split(\"_\")[3:]).split(\"_GRCh\")[0] for x in file_list]"
   ]
  },
  {
   "cell_type": "markdown",
   "metadata": {},
   "source": [
    "Read metadata table from gdrive"
   ]
  },
  {
   "cell_type": "code",
   "execution_count": 6,
   "metadata": {},
   "outputs": [],
   "source": [
    "gut_meta = pd.read_csv(\"/home/jovyan/mount/gdrive/Pan_fetal/meta_share/metadata_fetal_gut_RE.csv\")"
   ]
  },
  {
   "cell_type": "code",
   "execution_count": 7,
   "metadata": {},
   "outputs": [],
   "source": [
    "gut_meta.index = gut_meta[\"file\"]"
   ]
  },
  {
   "cell_type": "code",
   "execution_count": 8,
   "metadata": {},
   "outputs": [],
   "source": [
    "smp_list = gut_meta.loc[file_name_list][\"sample\"].values.tolist()"
   ]
  },
  {
   "cell_type": "code",
   "execution_count": 9,
   "metadata": {},
   "outputs": [],
   "source": [
    "def convert_obs_name(obs_name):\n",
    "#     obs_name = obs_name.split(\"-\")[0]\n",
    "    fetus = obs_name.split(\"-\")[0]\n",
    "    organ = obs_name.split(\"-\")[1]\n",
    "    sort = obs_name.split(\"-\")[2]\n",
    "    method = '5GEX' if '5GEX' in obs_name else '3GEX'\n",
    "    return (fetus,organ,sort,method)"
   ]
  },
  {
   "cell_type": "code",
   "execution_count": 10,
   "metadata": {},
   "outputs": [],
   "source": [
    "def read_files(filename, sample, raw_file_path = gut_data_dir,\n",
    "               min_n_count = 2000, min_n_gene = 500, max_ne_gene = 7000):    \n",
    "    try:\n",
    "        path = '%s/%s/raw/'%(raw_file_path,filename)\n",
    "        adata = sc.read(path+'matrix.mtx',cache=True).transpose()\n",
    "    except:\n",
    "        try:\n",
    "            path = '%s/%s/'%(raw_file_path,filename)\n",
    "            adata = sc.read(path+'matrix.mtx',cache=True).transpose()\n",
    "        except:\n",
    "            path = '%s/%s/filtered_gene_bc_matrices/GRCh38/'%(raw_file_path,filename)\n",
    "            adata = sc.read(path+'matrix.mtx',cache=True).transpose()      \n",
    "\n",
    "    adata.var_names = np.genfromtxt(path + 'genes.tsv',dtype=str)[:,1]\n",
    "    adata.obs_names = np.genfromtxt(path + 'barcodes.tsv',dtype=str)\n",
    "    adata.obs_names = [filename+\"-\"+x.strip(\"-1\") for x in adata.obs_names]\n",
    "    adata.var['GeneName'] = np.genfromtxt(path + 'genes.tsv', dtype=str)[:, 1]\n",
    "    adata.var['GeneID'] = np.genfromtxt(path + 'genes.tsv', dtype=str)[:, 0]\n",
    "    adata.obs['Sample'] = sample\n",
    "\n",
    "    # caculate n_counts / n_genes per cell\n",
    "    adata.obs['n_counts'] = np.sum(adata.X, axis=1).A1\n",
    "    adata.obs['n_genes'] = np.sum(adata.X>0,axis=1)\n",
    "\n",
    "    # filter cells\n",
    "    print(\"Filtering cells...\")\n",
    "    clist = []\n",
    "    clist.append(np.array(adata.obs['n_counts'] > min_n_count))\n",
    "    clist.append(np.array(adata.obs['n_genes'] > min_n_gene))\n",
    "    clist.append(np.array(adata.obs['n_genes'] < max_n_gene))\n",
    "\n",
    "    c = np.column_stack(clist).all(axis=1)\n",
    "    adata = adata[c].copy()\n",
    "\n",
    "    adata = adata[:,np.argsort(adata.var.GeneID)]\n",
    "\n",
    "    adata.obs['donor'] = [convert_obs_name(x)[0] for x in adata.obs['Sample']]\n",
    "    adata.obs['organ'] = [convert_obs_name(x)[1] for x in adata.obs['Sample']]\n",
    "    adata.obs['sort'] = [convert_obs_name(x)[2] for x in adata.obs['Sample']]\n",
    "    adata.obs['method'] = ['5GEX' if '5GEX' in x else '3GEX' for x in adata.obs['Sample']]\n",
    "    adata.obs['file'] = filename\n",
    "\n",
    "    mito_genes = adata.var_names.str.startswith('MT-')\n",
    "    adata.obs['mito'] = (np.sum(adata.X[:, mito_genes],axis=1).A1) / (np.sum(adata.X,axis=1).A1)\n",
    "\n",
    "    print(\"Computing doublets...\")\n",
    "    scrub = scr.Scrublet(adata.X)\n",
    "    if adata.shape[0] < 30:\n",
    "        doublet_scores, predicted_doublets = scrub.scrub_doublets(verbose=False, n_prin_comps=adata.shape[0] - 1)\n",
    "    else:\n",
    "        doublet_scores, predicted_doublets = scrub.scrub_doublets(verbose=False)\n",
    "    adata.obs['doublet_scores'] = doublet_scores\n",
    "    adata.obs['predicted_doublets'] = predicted_doublets\n",
    "\n",
    "    sc.write('/nfs/team205/ed6/data/Fetal_immune/fetal_gut/%s_filtered'%(filename),adata)"
   ]
  },
  {
   "cell_type": "code",
   "execution_count": 153,
   "metadata": {},
   "outputs": [
    {
     "name": "stdout",
     "output_type": "stream",
     "text": [
      "... reading from cache file cache/nfs-team205-ed6-data-Fetal_immune-fetal_gut-cellranger202_count_30328_Human_colon_16S7985394_GRCh38-1_2_0-raw-matrix.h5ad\n"
     ]
    },
    {
     "name": "stderr",
     "output_type": "stream",
     "text": [
      "/home/jovyan/my-conda-envs/emma_env/lib/python3.7/site-packages/anndata/_core/anndata.py:1094: FutureWarning: is_categorical is deprecated and will be removed in a future version.  Use is_categorical_dtype instead\n",
      "  if not is_categorical(df_full[k]):\n",
      "Variable names are not unique. To make them unique, call `.var_names_make_unique`.\n",
      "Trying to set attribute `.obs` of view, copying.\n"
     ]
    },
    {
     "name": "stdout",
     "output_type": "stream",
     "text": [
      "Filtering cells...\n"
     ]
    },
    {
     "name": "stderr",
     "output_type": "stream",
     "text": [
      "Variable names are not unique. To make them unique, call `.var_names_make_unique`.\n",
      "Variable names are not unique. To make them unique, call `.var_names_make_unique`.\n"
     ]
    },
    {
     "name": "stdout",
     "output_type": "stream",
     "text": [
      "Computing doublets...\n"
     ]
    },
    {
     "name": "stderr",
     "output_type": "stream",
     "text": [
      "/home/jovyan/my-conda-envs/emma_env/lib/python3.7/site-packages/anndata/_core/anndata.py:1192: FutureWarning: is_categorical is deprecated and will be removed in a future version.  Use is_categorical_dtype instead\n",
      "  if is_string_dtype(df[key]) and not is_categorical(df[key])\n",
      "... storing 'Sample' as categorical\n",
      "... storing 'donor' as categorical\n",
      "... storing 'organ' as categorical\n",
      "... storing 'sort' as categorical\n",
      "... storing 'method' as categorical\n",
      "... storing 'file' as categorical\n",
      "... storing 'GeneName' as categorical\n"
     ]
    },
    {
     "name": "stdout",
     "output_type": "stream",
     "text": [
      "... reading from cache file cache/nfs-team205-ed6-data-Fetal_immune-fetal_gut-cellranger210_count_31512_Human_colon_16S8159190_GRCh38-1_2_0-raw-matrix.h5ad\n"
     ]
    },
    {
     "name": "stderr",
     "output_type": "stream",
     "text": [
      "/home/jovyan/my-conda-envs/emma_env/lib/python3.7/site-packages/anndata/_core/anndata.py:1094: FutureWarning: is_categorical is deprecated and will be removed in a future version.  Use is_categorical_dtype instead\n",
      "  if not is_categorical(df_full[k]):\n",
      "Variable names are not unique. To make them unique, call `.var_names_make_unique`.\n",
      "Trying to set attribute `.obs` of view, copying.\n"
     ]
    },
    {
     "name": "stdout",
     "output_type": "stream",
     "text": [
      "Filtering cells...\n"
     ]
    },
    {
     "name": "stderr",
     "output_type": "stream",
     "text": [
      "Variable names are not unique. To make them unique, call `.var_names_make_unique`.\n",
      "Variable names are not unique. To make them unique, call `.var_names_make_unique`.\n"
     ]
    },
    {
     "name": "stdout",
     "output_type": "stream",
     "text": [
      "Computing doublets...\n"
     ]
    },
    {
     "name": "stderr",
     "output_type": "stream",
     "text": [
      "/home/jovyan/my-conda-envs/emma_env/lib/python3.7/site-packages/anndata/_core/anndata.py:1192: FutureWarning: is_categorical is deprecated and will be removed in a future version.  Use is_categorical_dtype instead\n",
      "  if is_string_dtype(df[key]) and not is_categorical(df[key])\n",
      "... storing 'Sample' as categorical\n",
      "... storing 'donor' as categorical\n",
      "... storing 'organ' as categorical\n",
      "... storing 'sort' as categorical\n",
      "... storing 'method' as categorical\n",
      "... storing 'file' as categorical\n",
      "... storing 'GeneName' as categorical\n"
     ]
    },
    {
     "name": "stdout",
     "output_type": "stream",
     "text": [
      "... reading from cache file cache/nfs-team205-ed6-data-Fetal_immune-fetal_gut-cellranger202_count_30328_Human_colon_16S7985390_GRCh38-1_2_0-raw-matrix.h5ad\n"
     ]
    },
    {
     "name": "stderr",
     "output_type": "stream",
     "text": [
      "/home/jovyan/my-conda-envs/emma_env/lib/python3.7/site-packages/anndata/_core/anndata.py:1094: FutureWarning: is_categorical is deprecated and will be removed in a future version.  Use is_categorical_dtype instead\n",
      "  if not is_categorical(df_full[k]):\n",
      "Variable names are not unique. To make them unique, call `.var_names_make_unique`.\n",
      "Trying to set attribute `.obs` of view, copying.\n",
      "Variable names are not unique. To make them unique, call `.var_names_make_unique`.\n",
      "Variable names are not unique. To make them unique, call `.var_names_make_unique`.\n"
     ]
    },
    {
     "name": "stdout",
     "output_type": "stream",
     "text": [
      "Filtering cells...\n",
      "Computing doublets...\n"
     ]
    },
    {
     "name": "stderr",
     "output_type": "stream",
     "text": [
      "/home/jovyan/my-conda-envs/emma_env/lib/python3.7/site-packages/anndata/_core/anndata.py:1192: FutureWarning: is_categorical is deprecated and will be removed in a future version.  Use is_categorical_dtype instead\n",
      "  if is_string_dtype(df[key]) and not is_categorical(df[key])\n",
      "... storing 'Sample' as categorical\n",
      "... storing 'donor' as categorical\n",
      "... storing 'organ' as categorical\n",
      "... storing 'sort' as categorical\n",
      "... storing 'method' as categorical\n",
      "... storing 'file' as categorical\n",
      "... storing 'GeneName' as categorical\n"
     ]
    },
    {
     "name": "stdout",
     "output_type": "stream",
     "text": [
      "... reading from cache file cache/nfs-team205-ed6-data-Fetal_immune-fetal_gut-cellranger210_count_31512_Human_colon_16S8159184_GRCh38-1_2_0-raw-matrix.h5ad\n",
      "Filtering cells...\n"
     ]
    },
    {
     "name": "stderr",
     "output_type": "stream",
     "text": [
      "/home/jovyan/my-conda-envs/emma_env/lib/python3.7/site-packages/anndata/_core/anndata.py:1094: FutureWarning: is_categorical is deprecated and will be removed in a future version.  Use is_categorical_dtype instead\n",
      "  if not is_categorical(df_full[k]):\n",
      "Variable names are not unique. To make them unique, call `.var_names_make_unique`.\n",
      "Trying to set attribute `.obs` of view, copying.\n",
      "Variable names are not unique. To make them unique, call `.var_names_make_unique`.\n",
      "Variable names are not unique. To make them unique, call `.var_names_make_unique`.\n"
     ]
    },
    {
     "name": "stdout",
     "output_type": "stream",
     "text": [
      "Computing doublets...\n"
     ]
    },
    {
     "name": "stderr",
     "output_type": "stream",
     "text": [
      "/home/jovyan/my-conda-envs/emma_env/lib/python3.7/site-packages/anndata/_core/anndata.py:1192: FutureWarning: is_categorical is deprecated and will be removed in a future version.  Use is_categorical_dtype instead\n",
      "  if is_string_dtype(df[key]) and not is_categorical(df[key])\n",
      "... storing 'Sample' as categorical\n",
      "... storing 'donor' as categorical\n",
      "... storing 'organ' as categorical\n",
      "... storing 'sort' as categorical\n",
      "... storing 'method' as categorical\n",
      "... storing 'file' as categorical\n",
      "... storing 'GeneName' as categorical\n"
     ]
    },
    {
     "name": "stdout",
     "output_type": "stream",
     "text": [
      "... reading from cache file cache/nfs-team205-ed6-data-Fetal_immune-fetal_gut-cellranger210_count_31512_Human_colon_16S8159186_GRCh38-1_2_0-raw-matrix.h5ad\n"
     ]
    },
    {
     "name": "stderr",
     "output_type": "stream",
     "text": [
      "/home/jovyan/my-conda-envs/emma_env/lib/python3.7/site-packages/anndata/_core/anndata.py:1094: FutureWarning: is_categorical is deprecated and will be removed in a future version.  Use is_categorical_dtype instead\n",
      "  if not is_categorical(df_full[k]):\n",
      "Variable names are not unique. To make them unique, call `.var_names_make_unique`.\n",
      "Trying to set attribute `.obs` of view, copying.\n"
     ]
    },
    {
     "name": "stdout",
     "output_type": "stream",
     "text": [
      "Filtering cells...\n"
     ]
    },
    {
     "name": "stderr",
     "output_type": "stream",
     "text": [
      "Variable names are not unique. To make them unique, call `.var_names_make_unique`.\n",
      "Variable names are not unique. To make them unique, call `.var_names_make_unique`.\n"
     ]
    },
    {
     "name": "stdout",
     "output_type": "stream",
     "text": [
      "Computing doublets...\n"
     ]
    },
    {
     "name": "stderr",
     "output_type": "stream",
     "text": [
      "/home/jovyan/my-conda-envs/emma_env/lib/python3.7/site-packages/anndata/_core/anndata.py:1192: FutureWarning: is_categorical is deprecated and will be removed in a future version.  Use is_categorical_dtype instead\n",
      "  if is_string_dtype(df[key]) and not is_categorical(df[key])\n",
      "... storing 'Sample' as categorical\n",
      "... storing 'donor' as categorical\n",
      "... storing 'organ' as categorical\n",
      "... storing 'sort' as categorical\n",
      "... storing 'method' as categorical\n",
      "... storing 'file' as categorical\n",
      "... storing 'GeneName' as categorical\n"
     ]
    },
    {
     "name": "stdout",
     "output_type": "stream",
     "text": [
      "... reading from cache file cache/nfs-team205-ed6-data-Fetal_immune-fetal_gut-cellranger210_count_31512_Human_colon_16S8159182_GRCh38-1_2_0-raw-matrix.h5ad\n",
      "Filtering cells...\n"
     ]
    },
    {
     "name": "stderr",
     "output_type": "stream",
     "text": [
      "/home/jovyan/my-conda-envs/emma_env/lib/python3.7/site-packages/anndata/_core/anndata.py:1094: FutureWarning: is_categorical is deprecated and will be removed in a future version.  Use is_categorical_dtype instead\n",
      "  if not is_categorical(df_full[k]):\n",
      "Variable names are not unique. To make them unique, call `.var_names_make_unique`.\n",
      "Trying to set attribute `.obs` of view, copying.\n",
      "Variable names are not unique. To make them unique, call `.var_names_make_unique`.\n",
      "Variable names are not unique. To make them unique, call `.var_names_make_unique`.\n"
     ]
    },
    {
     "name": "stdout",
     "output_type": "stream",
     "text": [
      "Computing doublets...\n"
     ]
    },
    {
     "name": "stderr",
     "output_type": "stream",
     "text": [
      "/home/jovyan/my-conda-envs/emma_env/lib/python3.7/site-packages/anndata/_core/anndata.py:1192: FutureWarning: is_categorical is deprecated and will be removed in a future version.  Use is_categorical_dtype instead\n",
      "  if is_string_dtype(df[key]) and not is_categorical(df[key])\n",
      "... storing 'Sample' as categorical\n",
      "... storing 'donor' as categorical\n",
      "... storing 'organ' as categorical\n",
      "... storing 'sort' as categorical\n",
      "... storing 'method' as categorical\n",
      "... storing 'file' as categorical\n",
      "... storing 'GeneName' as categorical\n"
     ]
    },
    {
     "name": "stdout",
     "output_type": "stream",
     "text": [
      "... reading from cache file cache/nfs-team205-ed6-data-Fetal_immune-fetal_gut-cellranger202_count_31131_FCA_gut8015061_GRCh38-1_2_0-raw-matrix.h5ad\n"
     ]
    },
    {
     "name": "stderr",
     "output_type": "stream",
     "text": [
      "/home/jovyan/my-conda-envs/emma_env/lib/python3.7/site-packages/anndata/_core/anndata.py:1094: FutureWarning: is_categorical is deprecated and will be removed in a future version.  Use is_categorical_dtype instead\n",
      "  if not is_categorical(df_full[k]):\n",
      "Variable names are not unique. To make them unique, call `.var_names_make_unique`.\n",
      "Trying to set attribute `.obs` of view, copying.\n",
      "Variable names are not unique. To make them unique, call `.var_names_make_unique`.\n",
      "Variable names are not unique. To make them unique, call `.var_names_make_unique`.\n",
      "/home/jovyan/my-conda-envs/emma_env/lib/python3.7/site-packages/anndata/_core/anndata.py:1192: FutureWarning: is_categorical is deprecated and will be removed in a future version.  Use is_categorical_dtype instead\n",
      "  if is_string_dtype(df[key]) and not is_categorical(df[key])\n",
      "... storing 'Sample' as categorical\n",
      "... storing 'donor' as categorical\n",
      "... storing 'organ' as categorical\n",
      "... storing 'sort' as categorical\n",
      "... storing 'method' as categorical\n",
      "... storing 'file' as categorical\n"
     ]
    },
    {
     "name": "stdout",
     "output_type": "stream",
     "text": [
      "Filtering cells...\n",
      "Computing doublets...\n"
     ]
    },
    {
     "name": "stderr",
     "output_type": "stream",
     "text": [
      "... storing 'GeneName' as categorical\n"
     ]
    },
    {
     "name": "stdout",
     "output_type": "stream",
     "text": [
      "... reading from cache file cache/nfs-team205-ed6-data-Fetal_immune-fetal_gut-cellranger202_count_30328_Human_colon_16S7985392_GRCh38-1_2_0-raw-matrix.h5ad\n",
      "Filtering cells...\n"
     ]
    },
    {
     "name": "stderr",
     "output_type": "stream",
     "text": [
      "/home/jovyan/my-conda-envs/emma_env/lib/python3.7/site-packages/anndata/_core/anndata.py:1094: FutureWarning: is_categorical is deprecated and will be removed in a future version.  Use is_categorical_dtype instead\n",
      "  if not is_categorical(df_full[k]):\n",
      "Variable names are not unique. To make them unique, call `.var_names_make_unique`.\n",
      "Trying to set attribute `.obs` of view, copying.\n",
      "Variable names are not unique. To make them unique, call `.var_names_make_unique`.\n",
      "Variable names are not unique. To make them unique, call `.var_names_make_unique`.\n"
     ]
    },
    {
     "name": "stdout",
     "output_type": "stream",
     "text": [
      "Computing doublets...\n"
     ]
    },
    {
     "name": "stderr",
     "output_type": "stream",
     "text": [
      "/home/jovyan/my-conda-envs/emma_env/lib/python3.7/site-packages/anndata/_core/anndata.py:1192: FutureWarning: is_categorical is deprecated and will be removed in a future version.  Use is_categorical_dtype instead\n",
      "  if is_string_dtype(df[key]) and not is_categorical(df[key])\n",
      "... storing 'Sample' as categorical\n",
      "... storing 'donor' as categorical\n",
      "... storing 'organ' as categorical\n",
      "... storing 'sort' as categorical\n",
      "... storing 'method' as categorical\n",
      "... storing 'file' as categorical\n",
      "... storing 'GeneName' as categorical\n"
     ]
    },
    {
     "name": "stdout",
     "output_type": "stream",
     "text": [
      "... reading from cache file cache/nfs-team205-ed6-data-Fetal_immune-fetal_gut-cellranger202_count_31131_FCA_gut8015059_GRCh38-1_2_0-raw-matrix.h5ad\n"
     ]
    },
    {
     "name": "stderr",
     "output_type": "stream",
     "text": [
      "/home/jovyan/my-conda-envs/emma_env/lib/python3.7/site-packages/anndata/_core/anndata.py:1094: FutureWarning: is_categorical is deprecated and will be removed in a future version.  Use is_categorical_dtype instead\n",
      "  if not is_categorical(df_full[k]):\n",
      "Variable names are not unique. To make them unique, call `.var_names_make_unique`.\n",
      "Trying to set attribute `.obs` of view, copying.\n",
      "Variable names are not unique. To make them unique, call `.var_names_make_unique`.\n",
      "Variable names are not unique. To make them unique, call `.var_names_make_unique`.\n",
      "/home/jovyan/my-conda-envs/emma_env/lib/python3.7/site-packages/anndata/_core/anndata.py:1192: FutureWarning: is_categorical is deprecated and will be removed in a future version.  Use is_categorical_dtype instead\n",
      "  if is_string_dtype(df[key]) and not is_categorical(df[key])\n",
      "... storing 'Sample' as categorical\n",
      "... storing 'donor' as categorical\n",
      "... storing 'organ' as categorical\n",
      "... storing 'sort' as categorical\n",
      "... storing 'method' as categorical\n",
      "... storing 'file' as categorical\n"
     ]
    },
    {
     "name": "stdout",
     "output_type": "stream",
     "text": [
      "Filtering cells...\n",
      "Computing doublets...\n"
     ]
    },
    {
     "name": "stderr",
     "output_type": "stream",
     "text": [
      "... storing 'GeneName' as categorical\n"
     ]
    },
    {
     "name": "stdout",
     "output_type": "stream",
     "text": [
      "... reading from cache file cache/nfs-team205-ed6-data-Fetal_immune-fetal_gut-cellranger202_count_30328_Human_colon_16S7985389_GRCh38-1_2_0-raw-matrix.h5ad\n"
     ]
    },
    {
     "name": "stderr",
     "output_type": "stream",
     "text": [
      "/home/jovyan/my-conda-envs/emma_env/lib/python3.7/site-packages/anndata/_core/anndata.py:1094: FutureWarning: is_categorical is deprecated and will be removed in a future version.  Use is_categorical_dtype instead\n",
      "  if not is_categorical(df_full[k]):\n",
      "Variable names are not unique. To make them unique, call `.var_names_make_unique`.\n",
      "Trying to set attribute `.obs` of view, copying.\n"
     ]
    },
    {
     "name": "stdout",
     "output_type": "stream",
     "text": [
      "Filtering cells...\n"
     ]
    },
    {
     "name": "stderr",
     "output_type": "stream",
     "text": [
      "Variable names are not unique. To make them unique, call `.var_names_make_unique`.\n",
      "Variable names are not unique. To make them unique, call `.var_names_make_unique`.\n"
     ]
    },
    {
     "name": "stdout",
     "output_type": "stream",
     "text": [
      "Computing doublets...\n"
     ]
    },
    {
     "name": "stderr",
     "output_type": "stream",
     "text": [
      "/home/jovyan/my-conda-envs/emma_env/lib/python3.7/site-packages/anndata/_core/anndata.py:1192: FutureWarning: is_categorical is deprecated and will be removed in a future version.  Use is_categorical_dtype instead\n",
      "  if is_string_dtype(df[key]) and not is_categorical(df[key])\n",
      "... storing 'Sample' as categorical\n",
      "... storing 'donor' as categorical\n",
      "... storing 'organ' as categorical\n",
      "... storing 'sort' as categorical\n",
      "... storing 'method' as categorical\n",
      "... storing 'file' as categorical\n",
      "... storing 'GeneName' as categorical\n"
     ]
    },
    {
     "name": "stdout",
     "output_type": "stream",
     "text": [
      "... reading from cache file cache/nfs-team205-ed6-data-Fetal_immune-fetal_gut-cellranger202_count_31131_FCA_gut8015058_GRCh38-1_2_0-raw-matrix.h5ad\n"
     ]
    },
    {
     "name": "stderr",
     "output_type": "stream",
     "text": [
      "/home/jovyan/my-conda-envs/emma_env/lib/python3.7/site-packages/anndata/_core/anndata.py:1094: FutureWarning: is_categorical is deprecated and will be removed in a future version.  Use is_categorical_dtype instead\n",
      "  if not is_categorical(df_full[k]):\n",
      "Variable names are not unique. To make them unique, call `.var_names_make_unique`.\n",
      "Trying to set attribute `.obs` of view, copying.\n",
      "Variable names are not unique. To make them unique, call `.var_names_make_unique`.\n",
      "Variable names are not unique. To make them unique, call `.var_names_make_unique`.\n",
      "/home/jovyan/my-conda-envs/emma_env/lib/python3.7/site-packages/anndata/_core/anndata.py:1192: FutureWarning: is_categorical is deprecated and will be removed in a future version.  Use is_categorical_dtype instead\n",
      "  if is_string_dtype(df[key]) and not is_categorical(df[key])\n",
      "... storing 'Sample' as categorical\n",
      "... storing 'donor' as categorical\n",
      "... storing 'organ' as categorical\n",
      "... storing 'sort' as categorical\n",
      "... storing 'method' as categorical\n",
      "... storing 'file' as categorical\n",
      "... storing 'predicted_doublets' as categorical\n"
     ]
    },
    {
     "name": "stdout",
     "output_type": "stream",
     "text": [
      "Filtering cells...\n",
      "Computing doublets...\n"
     ]
    },
    {
     "name": "stderr",
     "output_type": "stream",
     "text": [
      "... storing 'GeneName' as categorical\n"
     ]
    },
    {
     "name": "stdout",
     "output_type": "stream",
     "text": [
      "... reading from cache file cache/nfs-team205-ed6-data-Fetal_immune-fetal_gut-cellranger210_count_31512_Human_colon_16S8159185_GRCh38-1_2_0-raw-matrix.h5ad\n"
     ]
    },
    {
     "name": "stderr",
     "output_type": "stream",
     "text": [
      "/home/jovyan/my-conda-envs/emma_env/lib/python3.7/site-packages/anndata/_core/anndata.py:1094: FutureWarning: is_categorical is deprecated and will be removed in a future version.  Use is_categorical_dtype instead\n",
      "  if not is_categorical(df_full[k]):\n",
      "Variable names are not unique. To make them unique, call `.var_names_make_unique`.\n",
      "Trying to set attribute `.obs` of view, copying.\n",
      "Variable names are not unique. To make them unique, call `.var_names_make_unique`.\n",
      "Variable names are not unique. To make them unique, call `.var_names_make_unique`.\n"
     ]
    },
    {
     "name": "stdout",
     "output_type": "stream",
     "text": [
      "Filtering cells...\n",
      "Computing doublets...\n"
     ]
    },
    {
     "name": "stderr",
     "output_type": "stream",
     "text": [
      "/home/jovyan/my-conda-envs/emma_env/lib/python3.7/site-packages/anndata/_core/anndata.py:1192: FutureWarning: is_categorical is deprecated and will be removed in a future version.  Use is_categorical_dtype instead\n",
      "  if is_string_dtype(df[key]) and not is_categorical(df[key])\n",
      "... storing 'Sample' as categorical\n",
      "... storing 'donor' as categorical\n",
      "... storing 'organ' as categorical\n",
      "... storing 'sort' as categorical\n",
      "... storing 'method' as categorical\n",
      "... storing 'file' as categorical\n",
      "... storing 'GeneName' as categorical\n"
     ]
    },
    {
     "name": "stdout",
     "output_type": "stream",
     "text": [
      "... reading from cache file cache/nfs-team205-ed6-data-Fetal_immune-fetal_gut-cellranger210_count_31512_Human_colon_16S8159189_GRCh38-1_2_0-raw-matrix.h5ad\n"
     ]
    },
    {
     "name": "stderr",
     "output_type": "stream",
     "text": [
      "/home/jovyan/my-conda-envs/emma_env/lib/python3.7/site-packages/anndata/_core/anndata.py:1094: FutureWarning: is_categorical is deprecated and will be removed in a future version.  Use is_categorical_dtype instead\n",
      "  if not is_categorical(df_full[k]):\n",
      "Variable names are not unique. To make them unique, call `.var_names_make_unique`.\n",
      "Trying to set attribute `.obs` of view, copying.\n"
     ]
    },
    {
     "name": "stdout",
     "output_type": "stream",
     "text": [
      "Filtering cells...\n"
     ]
    },
    {
     "name": "stderr",
     "output_type": "stream",
     "text": [
      "Variable names are not unique. To make them unique, call `.var_names_make_unique`.\n",
      "Variable names are not unique. To make them unique, call `.var_names_make_unique`.\n"
     ]
    },
    {
     "name": "stdout",
     "output_type": "stream",
     "text": [
      "Computing doublets...\n"
     ]
    },
    {
     "name": "stderr",
     "output_type": "stream",
     "text": [
      "/home/jovyan/my-conda-envs/emma_env/lib/python3.7/site-packages/anndata/_core/anndata.py:1192: FutureWarning: is_categorical is deprecated and will be removed in a future version.  Use is_categorical_dtype instead\n",
      "  if is_string_dtype(df[key]) and not is_categorical(df[key])\n",
      "... storing 'Sample' as categorical\n",
      "... storing 'donor' as categorical\n",
      "... storing 'organ' as categorical\n",
      "... storing 'sort' as categorical\n",
      "... storing 'method' as categorical\n",
      "... storing 'file' as categorical\n",
      "... storing 'GeneName' as categorical\n"
     ]
    },
    {
     "name": "stdout",
     "output_type": "stream",
     "text": [
      "... writing an h5ad cache file to speedup reading next time\n",
      "Filtering cells...\n"
     ]
    },
    {
     "name": "stderr",
     "output_type": "stream",
     "text": [
      "/home/jovyan/my-conda-envs/emma_env/lib/python3.7/site-packages/anndata/_core/anndata.py:1094: FutureWarning: is_categorical is deprecated and will be removed in a future version.  Use is_categorical_dtype instead\n",
      "  if not is_categorical(df_full[k]):\n",
      "Variable names are not unique. To make them unique, call `.var_names_make_unique`.\n",
      "Trying to set attribute `.obs` of view, copying.\n",
      "Variable names are not unique. To make them unique, call `.var_names_make_unique`.\n",
      "Variable names are not unique. To make them unique, call `.var_names_make_unique`.\n"
     ]
    },
    {
     "name": "stdout",
     "output_type": "stream",
     "text": [
      "Computing doublets...\n"
     ]
    },
    {
     "name": "stderr",
     "output_type": "stream",
     "text": [
      "/home/jovyan/my-conda-envs/emma_env/lib/python3.7/site-packages/anndata/_core/anndata.py:1192: FutureWarning: is_categorical is deprecated and will be removed in a future version.  Use is_categorical_dtype instead\n",
      "  if is_string_dtype(df[key]) and not is_categorical(df[key])\n",
      "... storing 'Sample' as categorical\n",
      "... storing 'donor' as categorical\n",
      "... storing 'organ' as categorical\n",
      "... storing 'sort' as categorical\n",
      "... storing 'method' as categorical\n",
      "... storing 'file' as categorical\n",
      "... storing 'GeneName' as categorical\n"
     ]
    },
    {
     "name": "stdout",
     "output_type": "stream",
     "text": [
      "... writing an h5ad cache file to speedup reading next time\n",
      "Filtering cells...\n"
     ]
    },
    {
     "name": "stderr",
     "output_type": "stream",
     "text": [
      "/home/jovyan/my-conda-envs/emma_env/lib/python3.7/site-packages/anndata/_core/anndata.py:1094: FutureWarning: is_categorical is deprecated and will be removed in a future version.  Use is_categorical_dtype instead\n",
      "  if not is_categorical(df_full[k]):\n",
      "Variable names are not unique. To make them unique, call `.var_names_make_unique`.\n",
      "Trying to set attribute `.obs` of view, copying.\n",
      "Variable names are not unique. To make them unique, call `.var_names_make_unique`.\n",
      "Variable names are not unique. To make them unique, call `.var_names_make_unique`.\n"
     ]
    },
    {
     "name": "stdout",
     "output_type": "stream",
     "text": [
      "Computing doublets...\n"
     ]
    },
    {
     "name": "stderr",
     "output_type": "stream",
     "text": [
      "/home/jovyan/my-conda-envs/emma_env/lib/python3.7/site-packages/anndata/_core/anndata.py:1192: FutureWarning: is_categorical is deprecated and will be removed in a future version.  Use is_categorical_dtype instead\n",
      "  if is_string_dtype(df[key]) and not is_categorical(df[key])\n",
      "... storing 'Sample' as categorical\n",
      "... storing 'donor' as categorical\n",
      "... storing 'organ' as categorical\n",
      "... storing 'sort' as categorical\n",
      "... storing 'method' as categorical\n",
      "... storing 'file' as categorical\n",
      "... storing 'GeneName' as categorical\n"
     ]
    },
    {
     "name": "stdout",
     "output_type": "stream",
     "text": [
      "... writing an h5ad cache file to speedup reading next time\n"
     ]
    },
    {
     "name": "stderr",
     "output_type": "stream",
     "text": [
      "/home/jovyan/my-conda-envs/emma_env/lib/python3.7/site-packages/anndata/_core/anndata.py:1094: FutureWarning: is_categorical is deprecated and will be removed in a future version.  Use is_categorical_dtype instead\n",
      "  if not is_categorical(df_full[k]):\n",
      "Variable names are not unique. To make them unique, call `.var_names_make_unique`.\n",
      "Trying to set attribute `.obs` of view, copying.\n"
     ]
    },
    {
     "name": "stdout",
     "output_type": "stream",
     "text": [
      "Filtering cells...\n"
     ]
    },
    {
     "name": "stderr",
     "output_type": "stream",
     "text": [
      "Variable names are not unique. To make them unique, call `.var_names_make_unique`.\n",
      "Variable names are not unique. To make them unique, call `.var_names_make_unique`.\n"
     ]
    },
    {
     "name": "stdout",
     "output_type": "stream",
     "text": [
      "Computing doublets...\n"
     ]
    },
    {
     "name": "stderr",
     "output_type": "stream",
     "text": [
      "/home/jovyan/my-conda-envs/emma_env/lib/python3.7/site-packages/anndata/_core/anndata.py:1192: FutureWarning: is_categorical is deprecated and will be removed in a future version.  Use is_categorical_dtype instead\n",
      "  if is_string_dtype(df[key]) and not is_categorical(df[key])\n",
      "... storing 'Sample' as categorical\n",
      "... storing 'donor' as categorical\n",
      "... storing 'organ' as categorical\n",
      "... storing 'sort' as categorical\n",
      "... storing 'method' as categorical\n",
      "... storing 'file' as categorical\n",
      "... storing 'GeneName' as categorical\n"
     ]
    },
    {
     "name": "stdout",
     "output_type": "stream",
     "text": [
      "... writing an h5ad cache file to speedup reading next time\n"
     ]
    },
    {
     "name": "stderr",
     "output_type": "stream",
     "text": [
      "/home/jovyan/my-conda-envs/emma_env/lib/python3.7/site-packages/anndata/_core/anndata.py:1094: FutureWarning: is_categorical is deprecated and will be removed in a future version.  Use is_categorical_dtype instead\n",
      "  if not is_categorical(df_full[k]):\n",
      "Variable names are not unique. To make them unique, call `.var_names_make_unique`.\n",
      "Trying to set attribute `.obs` of view, copying.\n",
      "Variable names are not unique. To make them unique, call `.var_names_make_unique`.\n",
      "Variable names are not unique. To make them unique, call `.var_names_make_unique`.\n",
      "/home/jovyan/my-conda-envs/emma_env/lib/python3.7/site-packages/anndata/_core/anndata.py:1192: FutureWarning: is_categorical is deprecated and will be removed in a future version.  Use is_categorical_dtype instead\n",
      "  if is_string_dtype(df[key]) and not is_categorical(df[key])\n",
      "... storing 'Sample' as categorical\n",
      "... storing 'donor' as categorical\n",
      "... storing 'organ' as categorical\n",
      "... storing 'sort' as categorical\n",
      "... storing 'method' as categorical\n",
      "... storing 'file' as categorical\n"
     ]
    },
    {
     "name": "stdout",
     "output_type": "stream",
     "text": [
      "Filtering cells...\n",
      "Computing doublets...\n"
     ]
    },
    {
     "name": "stderr",
     "output_type": "stream",
     "text": [
      "... storing 'GeneName' as categorical\n"
     ]
    },
    {
     "name": "stdout",
     "output_type": "stream",
     "text": [
      "... writing an h5ad cache file to speedup reading next time\n"
     ]
    },
    {
     "name": "stderr",
     "output_type": "stream",
     "text": [
      "/home/jovyan/my-conda-envs/emma_env/lib/python3.7/site-packages/anndata/_core/anndata.py:1094: FutureWarning: is_categorical is deprecated and will be removed in a future version.  Use is_categorical_dtype instead\n",
      "  if not is_categorical(df_full[k]):\n",
      "Variable names are not unique. To make them unique, call `.var_names_make_unique`.\n",
      "Trying to set attribute `.obs` of view, copying.\n",
      "Variable names are not unique. To make them unique, call `.var_names_make_unique`.\n",
      "Variable names are not unique. To make them unique, call `.var_names_make_unique`.\n"
     ]
    },
    {
     "name": "stdout",
     "output_type": "stream",
     "text": [
      "Filtering cells...\n",
      "Computing doublets...\n"
     ]
    },
    {
     "name": "stderr",
     "output_type": "stream",
     "text": [
      "/home/jovyan/my-conda-envs/emma_env/lib/python3.7/site-packages/anndata/_core/anndata.py:1192: FutureWarning: is_categorical is deprecated and will be removed in a future version.  Use is_categorical_dtype instead\n",
      "  if is_string_dtype(df[key]) and not is_categorical(df[key])\n",
      "... storing 'Sample' as categorical\n",
      "... storing 'donor' as categorical\n",
      "... storing 'organ' as categorical\n",
      "... storing 'sort' as categorical\n",
      "... storing 'method' as categorical\n",
      "... storing 'file' as categorical\n",
      "... storing 'GeneName' as categorical\n"
     ]
    },
    {
     "name": "stdout",
     "output_type": "stream",
     "text": [
      "... writing an h5ad cache file to speedup reading next time\n"
     ]
    },
    {
     "name": "stderr",
     "output_type": "stream",
     "text": [
      "/home/jovyan/my-conda-envs/emma_env/lib/python3.7/site-packages/anndata/_core/anndata.py:1094: FutureWarning: is_categorical is deprecated and will be removed in a future version.  Use is_categorical_dtype instead\n",
      "  if not is_categorical(df_full[k]):\n",
      "Variable names are not unique. To make them unique, call `.var_names_make_unique`.\n",
      "Trying to set attribute `.obs` of view, copying.\n"
     ]
    },
    {
     "name": "stdout",
     "output_type": "stream",
     "text": [
      "Filtering cells...\n"
     ]
    },
    {
     "name": "stderr",
     "output_type": "stream",
     "text": [
      "Variable names are not unique. To make them unique, call `.var_names_make_unique`.\n",
      "Variable names are not unique. To make them unique, call `.var_names_make_unique`.\n"
     ]
    },
    {
     "name": "stdout",
     "output_type": "stream",
     "text": [
      "Computing doublets...\n"
     ]
    },
    {
     "name": "stderr",
     "output_type": "stream",
     "text": [
      "/home/jovyan/my-conda-envs/emma_env/lib/python3.7/site-packages/anndata/_core/anndata.py:1192: FutureWarning: is_categorical is deprecated and will be removed in a future version.  Use is_categorical_dtype instead\n",
      "  if is_string_dtype(df[key]) and not is_categorical(df[key])\n",
      "... storing 'Sample' as categorical\n",
      "... storing 'donor' as categorical\n",
      "... storing 'organ' as categorical\n",
      "... storing 'sort' as categorical\n",
      "... storing 'method' as categorical\n",
      "... storing 'file' as categorical\n",
      "... storing 'GeneName' as categorical\n"
     ]
    },
    {
     "name": "stdout",
     "output_type": "stream",
     "text": [
      "... reading from cache file cache/nfs-team205-ed6-data-Fetal_immune-fetal_gut-cellranger202_count_31131_FCA_gut8015057_GRCh38-1_2_0-raw-matrix.h5ad\n"
     ]
    },
    {
     "name": "stderr",
     "output_type": "stream",
     "text": [
      "/home/jovyan/my-conda-envs/emma_env/lib/python3.7/site-packages/anndata/_core/anndata.py:1094: FutureWarning: is_categorical is deprecated and will be removed in a future version.  Use is_categorical_dtype instead\n",
      "  if not is_categorical(df_full[k]):\n",
      "Variable names are not unique. To make them unique, call `.var_names_make_unique`.\n",
      "Trying to set attribute `.obs` of view, copying.\n",
      "Variable names are not unique. To make them unique, call `.var_names_make_unique`.\n",
      "Variable names are not unique. To make them unique, call `.var_names_make_unique`.\n",
      "/home/jovyan/my-conda-envs/emma_env/lib/python3.7/site-packages/anndata/_core/anndata.py:1192: FutureWarning: is_categorical is deprecated and will be removed in a future version.  Use is_categorical_dtype instead\n",
      "  if is_string_dtype(df[key]) and not is_categorical(df[key])\n",
      "... storing 'Sample' as categorical\n",
      "... storing 'donor' as categorical\n",
      "... storing 'organ' as categorical\n",
      "... storing 'sort' as categorical\n",
      "... storing 'method' as categorical\n",
      "... storing 'file' as categorical\n"
     ]
    },
    {
     "name": "stdout",
     "output_type": "stream",
     "text": [
      "Filtering cells...\n",
      "Computing doublets...\n"
     ]
    },
    {
     "name": "stderr",
     "output_type": "stream",
     "text": [
      "... storing 'GeneName' as categorical\n"
     ]
    },
    {
     "name": "stdout",
     "output_type": "stream",
     "text": [
      "... writing an h5ad cache file to speedup reading next time\n"
     ]
    },
    {
     "name": "stderr",
     "output_type": "stream",
     "text": [
      "/home/jovyan/my-conda-envs/emma_env/lib/python3.7/site-packages/anndata/_core/anndata.py:1094: FutureWarning: is_categorical is deprecated and will be removed in a future version.  Use is_categorical_dtype instead\n",
      "  if not is_categorical(df_full[k]):\n",
      "Variable names are not unique. To make them unique, call `.var_names_make_unique`.\n",
      "Trying to set attribute `.obs` of view, copying.\n"
     ]
    },
    {
     "name": "stdout",
     "output_type": "stream",
     "text": [
      "Filtering cells...\n"
     ]
    },
    {
     "name": "stderr",
     "output_type": "stream",
     "text": [
      "Variable names are not unique. To make them unique, call `.var_names_make_unique`.\n",
      "Variable names are not unique. To make them unique, call `.var_names_make_unique`.\n"
     ]
    },
    {
     "name": "stdout",
     "output_type": "stream",
     "text": [
      "Computing doublets...\n"
     ]
    },
    {
     "name": "stderr",
     "output_type": "stream",
     "text": [
      "/home/jovyan/my-conda-envs/emma_env/lib/python3.7/site-packages/anndata/_core/anndata.py:1192: FutureWarning: is_categorical is deprecated and will be removed in a future version.  Use is_categorical_dtype instead\n",
      "  if is_string_dtype(df[key]) and not is_categorical(df[key])\n",
      "... storing 'Sample' as categorical\n",
      "... storing 'donor' as categorical\n",
      "... storing 'organ' as categorical\n",
      "... storing 'sort' as categorical\n",
      "... storing 'method' as categorical\n",
      "... storing 'file' as categorical\n",
      "... storing 'GeneName' as categorical\n"
     ]
    }
   ],
   "source": [
    "for k,v in dict(zip(smp_list, file_list)).items():\n",
    "    read_files(v,k)"
   ]
  },
  {
   "cell_type": "markdown",
   "metadata": {},
   "source": [
    "## Merge dataset\n",
    "\n",
    "Code borrowed from `scjp` module"
   ]
  },
  {
   "cell_type": "code",
   "execution_count": 11,
   "metadata": {},
   "outputs": [],
   "source": [
    "def merge_matrix(ad,obskeys = None,use_raw = False,keep_only_mutual=False):\n",
    "    '''merge matrix stored in ad\n",
    "    ad: dictionary of anndata to merge\n",
    "    obskeys: list to merge within anndata\n",
    "    use_raw: if True, merge from .raw.X'''\n",
    "    \n",
    "    smp_list = list(ad.keys())\n",
    "    obs_dict = defaultdict(list)\n",
    "    obs_names = []\n",
    "    \n",
    "    for smp in smp_list:\n",
    "        ad[smp].obs['name'] = smp\n",
    "    \n",
    "    if not obskeys:\n",
    "        obskey_list = []\n",
    "        obskeys = []\n",
    "        for sample in smp_list:\n",
    "            obskey_list.extend(list(ad[sample].obs.columns))\n",
    "        for (obskey, number) in Counter(obskey_list).items():\n",
    "            if number == len(smp_list):\n",
    "                obskeys.append(obskey)\n",
    "            else:\n",
    "                if keep_only_mutual:\n",
    "                    pass\n",
    "                else:\n",
    "                    for sample in smp_list:\n",
    "                        if obskey not in ad[sample].obs.columns:\n",
    "                            ad[sample].obs[obskey]='n/a'\n",
    "                    obskeys.append(obskey)\n",
    "                               \n",
    "    for sample in smp_list:\n",
    "        obs_names.extend(list(ad[sample].obs_names))\n",
    "        for key in obskeys:   \n",
    "            obs_dict[key].extend(list(ad[sample].obs[key]))\n",
    "    \n",
    "    from scipy.sparse import vstack\n",
    "    if use_raw == True:\n",
    "        stack = vstack([ad[x].raw.X for x in smp_list]) # stack data\n",
    "        adata = sc.AnnData(stack, var = ad[smp_list[0]].raw.var)\n",
    "    else:\n",
    "        stack = vstack([ad[x].X for x in smp_list]) # stack data\n",
    "        adata = sc.AnnData(stack, var = ad[smp_list[0]].var)\n",
    "      \n",
    "    \n",
    "    adata.obs_names = obs_names\n",
    "    print(len(adata))\n",
    "    for obs_col in obs_dict:\n",
    "        print(obs_col)\n",
    "        adata.obs[obs_col] = obs_dict[obs_col]\n",
    "    return adata"
   ]
  },
  {
   "cell_type": "code",
   "execution_count": 12,
   "metadata": {},
   "outputs": [
    {
     "name": "stderr",
     "output_type": "stream",
     "text": [
      "Variable names are not unique. To make them unique, call `.var_names_make_unique`.\n",
      "Variable names are not unique. To make them unique, call `.var_names_make_unique`.\n",
      "Variable names are not unique. To make them unique, call `.var_names_make_unique`.\n",
      "Variable names are not unique. To make them unique, call `.var_names_make_unique`.\n",
      "Variable names are not unique. To make them unique, call `.var_names_make_unique`.\n",
      "Variable names are not unique. To make them unique, call `.var_names_make_unique`.\n",
      "Variable names are not unique. To make them unique, call `.var_names_make_unique`.\n",
      "Variable names are not unique. To make them unique, call `.var_names_make_unique`.\n",
      "Variable names are not unique. To make them unique, call `.var_names_make_unique`.\n",
      "Variable names are not unique. To make them unique, call `.var_names_make_unique`.\n",
      "Variable names are not unique. To make them unique, call `.var_names_make_unique`.\n",
      "Variable names are not unique. To make them unique, call `.var_names_make_unique`.\n",
      "Variable names are not unique. To make them unique, call `.var_names_make_unique`.\n",
      "Variable names are not unique. To make them unique, call `.var_names_make_unique`.\n",
      "Variable names are not unique. To make them unique, call `.var_names_make_unique`.\n",
      "Variable names are not unique. To make them unique, call `.var_names_make_unique`.\n",
      "Variable names are not unique. To make them unique, call `.var_names_make_unique`.\n",
      "Variable names are not unique. To make them unique, call `.var_names_make_unique`.\n",
      "Variable names are not unique. To make them unique, call `.var_names_make_unique`.\n",
      "Variable names are not unique. To make them unique, call `.var_names_make_unique`.\n",
      "Variable names are not unique. To make them unique, call `.var_names_make_unique`.\n"
     ]
    }
   ],
   "source": [
    "ad = {}\n",
    "\n",
    "for sample,filename in dict(zip(smp_list, file_list)).items():\n",
    "    ad[sample] = sc.read('/nfs/team205/ed6/data/Fetal_immune/fetal_gut/%s_filtered'%(filename))"
   ]
  },
  {
   "cell_type": "code",
   "execution_count": 13,
   "metadata": {},
   "outputs": [
    {
     "name": "stderr",
     "output_type": "stream",
     "text": [
      "Variable names are not unique. To make them unique, call `.var_names_make_unique`.\n"
     ]
    },
    {
     "name": "stdout",
     "output_type": "stream",
     "text": [
      "81363\n",
      "Sample\n",
      "n_counts\n",
      "n_genes\n",
      "donor\n",
      "organ\n",
      "sort\n",
      "method\n",
      "file\n",
      "mito\n",
      "doublet_scores\n",
      "predicted_doublets\n",
      "name\n"
     ]
    }
   ],
   "source": [
    "merged_gut = merge_matrix(ad)"
   ]
  },
  {
   "cell_type": "code",
   "execution_count": 14,
   "metadata": {},
   "outputs": [
    {
     "data": {
      "text/plain": [
       "12481.0"
      ]
     },
     "execution_count": 14,
     "metadata": {},
     "output_type": "execute_result"
    }
   ],
   "source": [
    "merged_gut.X.max()"
   ]
  },
  {
   "cell_type": "markdown",
   "metadata": {},
   "source": [
    "### Add to raw data of pan fetal atlas"
   ]
  },
  {
   "cell_type": "code",
   "execution_count": 15,
   "metadata": {},
   "outputs": [
    {
     "name": "stderr",
     "output_type": "stream",
     "text": [
      "Variable names are not unique. To make them unique, call `.var_names_make_unique`.\n"
     ]
    }
   ],
   "source": [
    "merged_raw = sc.read_h5ad('/nfs/team205/ed6/data/Fetal_immune/PAN.A01.v01.entire_data_raw_count.h5ad')"
   ]
  },
  {
   "cell_type": "code",
   "execution_count": 16,
   "metadata": {},
   "outputs": [
    {
     "data": {
      "text/plain": [
       "AnnData object with n_obs × n_vars = 849542 × 33694\n",
       "    obs: 'Sample', 'n_counts', 'n_genes', 'donor', 'organ', 'sort', 'method', 'file', 'mito', 'doublet_scores', 'predicted_doublets', 'name'\n",
       "    var: 'GeneName', 'GeneID'"
      ]
     },
     "execution_count": 16,
     "metadata": {},
     "output_type": "execute_result"
    }
   ],
   "source": [
    "merged_raw"
   ]
  },
  {
   "cell_type": "code",
   "execution_count": 17,
   "metadata": {},
   "outputs": [],
   "source": [
    "merged_gut.obs['organ'] = \"GU\""
   ]
  },
  {
   "cell_type": "code",
   "execution_count": 26,
   "metadata": {},
   "outputs": [],
   "source": [
    "# del merged_gut.uns[\"log1p\"]"
   ]
  },
  {
   "cell_type": "code",
   "execution_count": 19,
   "metadata": {},
   "outputs": [
    {
     "name": "stderr",
     "output_type": "stream",
     "text": [
      "Variable names are not unique. To make them unique, call `.var_names_make_unique`.\n"
     ]
    },
    {
     "name": "stdout",
     "output_type": "stream",
     "text": [
      "930905\n",
      "Sample\n",
      "n_counts\n",
      "n_genes\n",
      "donor\n",
      "organ\n",
      "sort\n",
      "method\n",
      "file\n",
      "mito\n",
      "doublet_scores\n",
      "predicted_doublets\n",
      "name\n"
     ]
    }
   ],
   "source": [
    "merged_raw_new = merge_matrix({'all':merged_raw,'gut':merged_gut})"
   ]
  },
  {
   "cell_type": "code",
   "execution_count": 20,
   "metadata": {},
   "outputs": [
    {
     "data": {
      "text/plain": [
       "FCAImmP7179363-AAACCTGAGCAGATCG                                                   False\n",
       "FCAImmP7179363-AAACCTGAGCTGATAA                                                   False\n",
       "FCAImmP7179363-AAACCTGAGGGTTTCT                                                   False\n",
       "FCAImmP7179363-AAACCTGGTAGAGGAA                                                   False\n",
       "FCAImmP7179363-AAACCTGGTCTTTCAT                                                   False\n",
       "                                                                                  ...  \n",
       "cellranger202_count_30328_Human_colon_16S7985391_GRCh38-1_2_0-TTTGGTTTCTTGTTTG    False\n",
       "cellranger202_count_30328_Human_colon_16S7985391_GRCh38-1_2_0-TTTGTCAAGCCAGTAG    False\n",
       "cellranger202_count_30328_Human_colon_16S7985391_GRCh38-1_2_0-TTTGTCAGTCCTCTTG    False\n",
       "cellranger202_count_30328_Human_colon_16S7985391_GRCh38-1_2_0-TTTGTCAGTTTCGCTC    False\n",
       "cellranger202_count_30328_Human_colon_16S7985391_GRCh38-1_2_0-TTTGTCATCTCCAGGG    False\n",
       "Name: predicted_doublets, Length: 930905, dtype: object"
      ]
     },
     "execution_count": 20,
     "metadata": {},
     "output_type": "execute_result"
    }
   ],
   "source": [
    "merged_raw_new.obs.predicted_doublets"
   ]
  },
  {
   "cell_type": "code",
   "execution_count": 21,
   "metadata": {},
   "outputs": [],
   "source": [
    "merged_raw_new.obs['batch'] = [x+y for x,y in zip(merged_raw_new.obs['organ'],merged_raw_new.obs['method'])]\n",
    "merged_raw_new.obs['bbk'] = [x+y for x,y in zip(merged_raw_new.obs['donor'],merged_raw_new.obs['method'])]"
   ]
  },
  {
   "cell_type": "code",
   "execution_count": 22,
   "metadata": {},
   "outputs": [
    {
     "name": "stderr",
     "output_type": "stream",
     "text": [
      "... storing 'Sample' as categorical\n",
      "... storing 'donor' as categorical\n",
      "... storing 'organ' as categorical\n",
      "... storing 'sort' as categorical\n",
      "... storing 'method' as categorical\n",
      "... storing 'file' as categorical\n",
      "... storing 'predicted_doublets' as categorical\n",
      "... storing 'name' as categorical\n",
      "... storing 'batch' as categorical\n",
      "... storing 'bbk' as categorical\n"
     ]
    }
   ],
   "source": [
    "merged_raw_new.write_h5ad('/nfs/team205/ed6/data/Fetal_immune/PAN.A01.v01.entire_data_raw_count.wGut.h5ad')"
   ]
  },
  {
   "cell_type": "markdown",
   "metadata": {},
   "source": [
    "## Preprocessing"
   ]
  },
  {
   "cell_type": "code",
   "execution_count": 23,
   "metadata": {},
   "outputs": [
    {
     "name": "stdout",
     "output_type": "stream",
     "text": [
      "normalizing by total count per cell\n"
     ]
    },
    {
     "name": "stderr",
     "output_type": "stream",
     "text": [
      "/home/jovyan/my-conda-envs/emma_env/lib/python3.7/site-packages/anndata/_core/anndata.py:1094: FutureWarning: is_categorical is deprecated and will be removed in a future version.  Use is_categorical_dtype instead\n",
      "  if not is_categorical(df_full[k]):\n",
      "Variable names are not unique. To make them unique, call `.var_names_make_unique`.\n",
      "Variable names are not unique. To make them unique, call `.var_names_make_unique`.\n"
     ]
    },
    {
     "name": "stdout",
     "output_type": "stream",
     "text": [
      "    finished (0:00:03): normalized adata.X and added    'n_counts', counts per cell before normalization (adata.obs)\n"
     ]
    }
   ],
   "source": [
    "sc.pp.normalize_per_cell(merged_gut, counts_per_cell_after=10e4)"
   ]
  },
  {
   "cell_type": "code",
   "execution_count": 24,
   "metadata": {},
   "outputs": [],
   "source": [
    "sc.pp.log1p(merged_gut)"
   ]
  },
  {
   "cell_type": "markdown",
   "metadata": {},
   "source": [
    "### Add to pan fetal dataset"
   ]
  },
  {
   "cell_type": "code",
   "execution_count": null,
   "metadata": {},
   "outputs": [],
   "source": [
    "merged_raw = sc.read_h5ad('/nfs/team205/ed6/data/Fetal_immune/Pan_fetal/working_data/PAN.A01.v01.entire_data_normalised_log.h5ad')"
   ]
  },
  {
   "cell_type": "code",
   "execution_count": 25,
   "metadata": {},
   "outputs": [],
   "source": [
    "merged_gut.obs['organ'] = \"GU\""
   ]
  },
  {
   "cell_type": "code",
   "execution_count": 26,
   "metadata": {},
   "outputs": [],
   "source": [
    "del merged_gut.uns[\"log1p\"]"
   ]
  },
  {
   "cell_type": "code",
   "execution_count": 27,
   "metadata": {},
   "outputs": [
    {
     "name": "stderr",
     "output_type": "stream",
     "text": [
      "Variable names are not unique. To make them unique, call `.var_names_make_unique`.\n"
     ]
    },
    {
     "name": "stdout",
     "output_type": "stream",
     "text": [
      "913795\n",
      "Sample\n",
      "n_counts\n",
      "n_genes\n",
      "donor\n",
      "organ\n",
      "sort\n",
      "method\n",
      "file\n",
      "mito\n",
      "doublet_scores\n",
      "predicted_doublets\n",
      "name\n"
     ]
    }
   ],
   "source": [
    "merged_raw_new = merge_matrix({'all':merged_raw,'gut':merged_gut})"
   ]
  },
  {
   "cell_type": "code",
   "execution_count": 36,
   "metadata": {},
   "outputs": [
    {
     "data": {
      "text/plain": [
       "False    899543\n",
       "True      14247\n",
       "nan           5\n",
       "Name: predicted_doublets, dtype: int64"
      ]
     },
     "execution_count": 36,
     "metadata": {},
     "output_type": "execute_result"
    }
   ],
   "source": [
    "merged_raw_new.obs.predicted_doublets"
   ]
  },
  {
   "cell_type": "code",
   "execution_count": 37,
   "metadata": {},
   "outputs": [],
   "source": [
    "merged_raw_new.obs['batch'] = [x+y for x,y in zip(merged_raw_new.obs['organ'],merged_raw_new.obs['method'])]\n",
    "merged_raw_new.obs['bbk'] = [x+y for x,y in zip(merged_raw_new.obs['donor'],merged_raw_new.obs['method'])]"
   ]
  },
  {
   "cell_type": "code",
   "execution_count": 43,
   "metadata": {},
   "outputs": [],
   "source": [
    "merged_raw_new.write_h5ad('/nfs/team205/ed6/data/Fetal_immune/PAN.A01.v01.entire_data_normalised_log.wGut.h5ad')"
   ]
  },
  {
   "cell_type": "markdown",
   "metadata": {},
   "source": [
    "## Checking the contents of data"
   ]
  },
  {
   "cell_type": "code",
   "execution_count": 48,
   "metadata": {},
   "outputs": [],
   "source": [
    "org_dict = {}\n",
    "for org in set(merged_raw_new.obs['organ']):\n",
    "    org_dict[org] = Counter(merged_raw_new.obs['donor'][merged_raw_new.obs['organ']==org])"
   ]
  },
  {
   "cell_type": "code",
   "execution_count": 49,
   "metadata": {},
   "outputs": [],
   "source": [
    "df = pd.DataFrame(org_dict)"
   ]
  },
  {
   "cell_type": "code",
   "execution_count": 50,
   "metadata": {},
   "outputs": [],
   "source": [
    "df = df.fillna(0)\n",
    "df = df.astype(int)"
   ]
  },
  {
   "cell_type": "code",
   "execution_count": 51,
   "metadata": {},
   "outputs": [
    {
     "data": {
      "text/html": [
       "<div>\n",
       "<style scoped>\n",
       "    .dataframe tbody tr th:only-of-type {\n",
       "        vertical-align: middle;\n",
       "    }\n",
       "\n",
       "    .dataframe tbody tr th {\n",
       "        vertical-align: top;\n",
       "    }\n",
       "\n",
       "    .dataframe thead th {\n",
       "        text-align: right;\n",
       "    }\n",
       "</style>\n",
       "<table border=\"1\" class=\"dataframe\">\n",
       "  <thead>\n",
       "    <tr style=\"text-align: right;\">\n",
       "      <th></th>\n",
       "      <th>SP</th>\n",
       "      <th>TH</th>\n",
       "      <th>BM</th>\n",
       "      <th>GU</th>\n",
       "      <th>LI</th>\n",
       "      <th>KI</th>\n",
       "      <th>TH(pharyn)</th>\n",
       "      <th>YS</th>\n",
       "      <th>SK</th>\n",
       "    </tr>\n",
       "  </thead>\n",
       "  <tbody>\n",
       "    <tr>\n",
       "      <th>F19</th>\n",
       "      <td>0</td>\n",
       "      <td>0</td>\n",
       "      <td>0</td>\n",
       "      <td>0</td>\n",
       "      <td>1942</td>\n",
       "      <td>0</td>\n",
       "      <td>0</td>\n",
       "      <td>0</td>\n",
       "      <td>5605</td>\n",
       "    </tr>\n",
       "    <tr>\n",
       "      <th>F21</th>\n",
       "      <td>9957</td>\n",
       "      <td>8651</td>\n",
       "      <td>6274</td>\n",
       "      <td>0</td>\n",
       "      <td>10093</td>\n",
       "      <td>0</td>\n",
       "      <td>0</td>\n",
       "      <td>0</td>\n",
       "      <td>0</td>\n",
       "    </tr>\n",
       "    <tr>\n",
       "      <th>F22</th>\n",
       "      <td>663</td>\n",
       "      <td>3167</td>\n",
       "      <td>0</td>\n",
       "      <td>0</td>\n",
       "      <td>17382</td>\n",
       "      <td>0</td>\n",
       "      <td>0</td>\n",
       "      <td>76</td>\n",
       "      <td>0</td>\n",
       "    </tr>\n",
       "    <tr>\n",
       "      <th>F23</th>\n",
       "      <td>10258</td>\n",
       "      <td>5838</td>\n",
       "      <td>0</td>\n",
       "      <td>0</td>\n",
       "      <td>7978</td>\n",
       "      <td>0</td>\n",
       "      <td>0</td>\n",
       "      <td>0</td>\n",
       "      <td>0</td>\n",
       "    </tr>\n",
       "    <tr>\n",
       "      <th>F29</th>\n",
       "      <td>11317</td>\n",
       "      <td>11892</td>\n",
       "      <td>15583</td>\n",
       "      <td>0</td>\n",
       "      <td>10866</td>\n",
       "      <td>0</td>\n",
       "      <td>0</td>\n",
       "      <td>0</td>\n",
       "      <td>0</td>\n",
       "    </tr>\n",
       "    <tr>\n",
       "      <th>F30</th>\n",
       "      <td>12375</td>\n",
       "      <td>12969</td>\n",
       "      <td>17440</td>\n",
       "      <td>0</td>\n",
       "      <td>19830</td>\n",
       "      <td>0</td>\n",
       "      <td>0</td>\n",
       "      <td>0</td>\n",
       "      <td>0</td>\n",
       "    </tr>\n",
       "    <tr>\n",
       "      <th>F32</th>\n",
       "      <td>0</td>\n",
       "      <td>0</td>\n",
       "      <td>0</td>\n",
       "      <td>0</td>\n",
       "      <td>9315</td>\n",
       "      <td>0</td>\n",
       "      <td>4926</td>\n",
       "      <td>765</td>\n",
       "      <td>11347</td>\n",
       "    </tr>\n",
       "    <tr>\n",
       "      <th>F33</th>\n",
       "      <td>0</td>\n",
       "      <td>0</td>\n",
       "      <td>0</td>\n",
       "      <td>0</td>\n",
       "      <td>26402</td>\n",
       "      <td>0</td>\n",
       "      <td>0</td>\n",
       "      <td>0</td>\n",
       "      <td>16300</td>\n",
       "    </tr>\n",
       "    <tr>\n",
       "      <th>F34</th>\n",
       "      <td>0</td>\n",
       "      <td>0</td>\n",
       "      <td>0</td>\n",
       "      <td>0</td>\n",
       "      <td>21781</td>\n",
       "      <td>0</td>\n",
       "      <td>0</td>\n",
       "      <td>0</td>\n",
       "      <td>15777</td>\n",
       "    </tr>\n",
       "    <tr>\n",
       "      <th>F35</th>\n",
       "      <td>0</td>\n",
       "      <td>0</td>\n",
       "      <td>0</td>\n",
       "      <td>0</td>\n",
       "      <td>7634</td>\n",
       "      <td>6557</td>\n",
       "      <td>0</td>\n",
       "      <td>1575</td>\n",
       "      <td>8449</td>\n",
       "    </tr>\n",
       "    <tr>\n",
       "      <th>F37</th>\n",
       "      <td>0</td>\n",
       "      <td>0</td>\n",
       "      <td>0</td>\n",
       "      <td>0</td>\n",
       "      <td>0</td>\n",
       "      <td>0</td>\n",
       "      <td>0</td>\n",
       "      <td>15383</td>\n",
       "      <td>0</td>\n",
       "    </tr>\n",
       "    <tr>\n",
       "      <th>F38</th>\n",
       "      <td>7428</td>\n",
       "      <td>9167</td>\n",
       "      <td>3674</td>\n",
       "      <td>0</td>\n",
       "      <td>15149</td>\n",
       "      <td>6059</td>\n",
       "      <td>0</td>\n",
       "      <td>0</td>\n",
       "      <td>12938</td>\n",
       "    </tr>\n",
       "    <tr>\n",
       "      <th>F41</th>\n",
       "      <td>0</td>\n",
       "      <td>9713</td>\n",
       "      <td>12975</td>\n",
       "      <td>0</td>\n",
       "      <td>20644</td>\n",
       "      <td>8495</td>\n",
       "      <td>0</td>\n",
       "      <td>0</td>\n",
       "      <td>4853</td>\n",
       "    </tr>\n",
       "    <tr>\n",
       "      <th>F45</th>\n",
       "      <td>20048</td>\n",
       "      <td>20489</td>\n",
       "      <td>11690</td>\n",
       "      <td>0</td>\n",
       "      <td>18537</td>\n",
       "      <td>6244</td>\n",
       "      <td>0</td>\n",
       "      <td>0</td>\n",
       "      <td>8209</td>\n",
       "    </tr>\n",
       "    <tr>\n",
       "      <th>F50</th>\n",
       "      <td>21057</td>\n",
       "      <td>0</td>\n",
       "      <td>12698</td>\n",
       "      <td>0</td>\n",
       "      <td>0</td>\n",
       "      <td>0</td>\n",
       "      <td>0</td>\n",
       "      <td>0</td>\n",
       "      <td>20291</td>\n",
       "    </tr>\n",
       "    <tr>\n",
       "      <th>F51</th>\n",
       "      <td>41448</td>\n",
       "      <td>0</td>\n",
       "      <td>21953</td>\n",
       "      <td>0</td>\n",
       "      <td>0</td>\n",
       "      <td>0</td>\n",
       "      <td>0</td>\n",
       "      <td>0</td>\n",
       "      <td>27976</td>\n",
       "    </tr>\n",
       "    <tr>\n",
       "      <th>F61</th>\n",
       "      <td>0</td>\n",
       "      <td>0</td>\n",
       "      <td>0</td>\n",
       "      <td>0</td>\n",
       "      <td>33359</td>\n",
       "      <td>0</td>\n",
       "      <td>0</td>\n",
       "      <td>41230</td>\n",
       "      <td>10339</td>\n",
       "    </tr>\n",
       "    <tr>\n",
       "      <th>F64</th>\n",
       "      <td>0</td>\n",
       "      <td>7848</td>\n",
       "      <td>0</td>\n",
       "      <td>0</td>\n",
       "      <td>0</td>\n",
       "      <td>0</td>\n",
       "      <td>0</td>\n",
       "      <td>0</td>\n",
       "      <td>0</td>\n",
       "    </tr>\n",
       "    <tr>\n",
       "      <th>F66</th>\n",
       "      <td>0</td>\n",
       "      <td>0</td>\n",
       "      <td>0</td>\n",
       "      <td>10997</td>\n",
       "      <td>0</td>\n",
       "      <td>0</td>\n",
       "      <td>0</td>\n",
       "      <td>0</td>\n",
       "      <td>0</td>\n",
       "    </tr>\n",
       "    <tr>\n",
       "      <th>F67</th>\n",
       "      <td>0</td>\n",
       "      <td>19855</td>\n",
       "      <td>0</td>\n",
       "      <td>6003</td>\n",
       "      <td>0</td>\n",
       "      <td>0</td>\n",
       "      <td>0</td>\n",
       "      <td>0</td>\n",
       "      <td>0</td>\n",
       "    </tr>\n",
       "    <tr>\n",
       "      <th>F69</th>\n",
       "      <td>2338</td>\n",
       "      <td>0</td>\n",
       "      <td>0</td>\n",
       "      <td>0</td>\n",
       "      <td>0</td>\n",
       "      <td>0</td>\n",
       "      <td>0</td>\n",
       "      <td>0</td>\n",
       "      <td>18331</td>\n",
       "    </tr>\n",
       "    <tr>\n",
       "      <th>F71</th>\n",
       "      <td>0</td>\n",
       "      <td>0</td>\n",
       "      <td>0</td>\n",
       "      <td>0</td>\n",
       "      <td>0</td>\n",
       "      <td>0</td>\n",
       "      <td>0</td>\n",
       "      <td>0</td>\n",
       "      <td>28140</td>\n",
       "    </tr>\n",
       "    <tr>\n",
       "      <th>F72</th>\n",
       "      <td>0</td>\n",
       "      <td>0</td>\n",
       "      <td>0</td>\n",
       "      <td>16328</td>\n",
       "      <td>0</td>\n",
       "      <td>0</td>\n",
       "      <td>0</td>\n",
       "      <td>0</td>\n",
       "      <td>0</td>\n",
       "    </tr>\n",
       "    <tr>\n",
       "      <th>F73</th>\n",
       "      <td>0</td>\n",
       "      <td>0</td>\n",
       "      <td>0</td>\n",
       "      <td>30876</td>\n",
       "      <td>0</td>\n",
       "      <td>0</td>\n",
       "      <td>0</td>\n",
       "      <td>0</td>\n",
       "      <td>0</td>\n",
       "    </tr>\n",
       "    <tr>\n",
       "      <th>F78</th>\n",
       "      <td>0</td>\n",
       "      <td>0</td>\n",
       "      <td>0</td>\n",
       "      <td>49</td>\n",
       "      <td>0</td>\n",
       "      <td>0</td>\n",
       "      <td>0</td>\n",
       "      <td>0</td>\n",
       "      <td>0</td>\n",
       "    </tr>\n",
       "  </tbody>\n",
       "</table>\n",
       "</div>"
      ],
      "text/plain": [
       "        SP     TH     BM     GU     LI    KI  TH(pharyn)     YS     SK\n",
       "F19      0      0      0      0   1942     0           0      0   5605\n",
       "F21   9957   8651   6274      0  10093     0           0      0      0\n",
       "F22    663   3167      0      0  17382     0           0     76      0\n",
       "F23  10258   5838      0      0   7978     0           0      0      0\n",
       "F29  11317  11892  15583      0  10866     0           0      0      0\n",
       "F30  12375  12969  17440      0  19830     0           0      0      0\n",
       "F32      0      0      0      0   9315     0        4926    765  11347\n",
       "F33      0      0      0      0  26402     0           0      0  16300\n",
       "F34      0      0      0      0  21781     0           0      0  15777\n",
       "F35      0      0      0      0   7634  6557           0   1575   8449\n",
       "F37      0      0      0      0      0     0           0  15383      0\n",
       "F38   7428   9167   3674      0  15149  6059           0      0  12938\n",
       "F41      0   9713  12975      0  20644  8495           0      0   4853\n",
       "F45  20048  20489  11690      0  18537  6244           0      0   8209\n",
       "F50  21057      0  12698      0      0     0           0      0  20291\n",
       "F51  41448      0  21953      0      0     0           0      0  27976\n",
       "F61      0      0      0      0  33359     0           0  41230  10339\n",
       "F64      0   7848      0      0      0     0           0      0      0\n",
       "F66      0      0      0  10997      0     0           0      0      0\n",
       "F67      0  19855      0   6003      0     0           0      0      0\n",
       "F69   2338      0      0      0      0     0           0      0  18331\n",
       "F71      0      0      0      0      0     0           0      0  28140\n",
       "F72      0      0      0  16328      0     0           0      0      0\n",
       "F73      0      0      0  30876      0     0           0      0      0\n",
       "F78      0      0      0     49      0     0           0      0      0"
      ]
     },
     "execution_count": 51,
     "metadata": {},
     "output_type": "execute_result"
    }
   ],
   "source": [
    "df.sort_index()"
   ]
  },
  {
   "cell_type": "code",
   "execution_count": null,
   "metadata": {},
   "outputs": [],
   "source": []
  }
 ],
 "metadata": {
  "kernelspec": {
   "display_name": "emma_env",
   "language": "python",
   "name": "emma_env"
  },
  "language_info": {
   "codemirror_mode": {
    "name": "ipython",
    "version": 3
   },
   "file_extension": ".py",
   "mimetype": "text/x-python",
   "name": "python",
   "nbconvert_exporter": "python",
   "pygments_lexer": "ipython3",
   "version": "3.8.6"
  }
 },
 "nbformat": 4,
 "nbformat_minor": 4
}
