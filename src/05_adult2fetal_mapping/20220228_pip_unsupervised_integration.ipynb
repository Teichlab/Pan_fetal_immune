{
 "cells": [
  {
   "cell_type": "markdown",
   "id": "80924923-62c6-42bb-aeb9-9a156db1fd9c",
   "metadata": {},
   "source": [
    "# Adult and fetal unsupervised integration\n",
    "\n",
    "Testing against \"supervised\" scArches integration"
   ]
  },
  {
   "cell_type": "code",
   "execution_count": 1,
   "id": "6d9ae3fd-7aa7-4163-b716-8f5d84b3d26d",
   "metadata": {},
   "outputs": [
    {
     "name": "stderr",
     "output_type": "stream",
     "text": [
      "Global seed set to 0\n"
     ]
    }
   ],
   "source": [
    "import sys,os\n",
    "import scvi\n",
    "import anndata\n",
    "import numpy as np\n",
    "import pandas as pd\n",
    "import scanpy as sc\n",
    "import scipy\n",
    "\n",
    "import torch\n",
    "device = torch.device(\"cuda\")"
   ]
  },
  {
   "cell_type": "code",
   "execution_count": 2,
   "id": "984d1c72-fe30-404c-893b-0385079a3115",
   "metadata": {},
   "outputs": [],
   "source": [
    "import seaborn as sns\n",
    "import matplotlib\n",
    "import matplotlib.pyplot as plt"
   ]
  },
  {
   "cell_type": "code",
   "execution_count": 3,
   "id": "c70f712f-4bdc-469a-a542-4ed0061ef3b7",
   "metadata": {},
   "outputs": [],
   "source": [
    "cwd = '../utils/'\n",
    "sys.path.append(cwd)\n",
    "import genes\n",
    "import panfetal_utils"
   ]
  },
  {
   "cell_type": "markdown",
   "id": "411b5fad-422d-484b-bbf9-4579e5c88ae7",
   "metadata": {},
   "source": [
    "scVI integration utils (see `Pan_fetal_immune/src/02_integration_scRNA/integration_scRNA_run_scVI_subsets_v2.py`)"
   ]
  },
  {
   "cell_type": "code",
   "execution_count": 4,
   "id": "d946a530-f5ec-4887-9801-4ad6f44623a0",
   "metadata": {},
   "outputs": [],
   "source": [
    "def subset_top_hvgs(adata_lognorm, n_top_genes):\n",
    "    dispersion_norm = adata_lognorm.var['dispersions_norm'].values.astype('float32')\n",
    "\n",
    "    dispersion_norm = dispersion_norm[~np.isnan(dispersion_norm)]\n",
    "    dispersion_norm[\n",
    "                ::-1\n",
    "            ].sort()  # interestingly, np.argpartition is slightly slower\n",
    "\n",
    "    disp_cut_off = dispersion_norm[n_top_genes - 1]\n",
    "    gene_subset = adata_lognorm.var['dispersions_norm'].values >= disp_cut_off\n",
    "    return(adata_lognorm[:,gene_subset])\n",
    "\n",
    "def prep_scVI(adata, \n",
    "              n_hvgs = 5000,\n",
    "              remove_cc_genes = True,\n",
    "              remove_tcr_bcr_genes = False\n",
    "             ):\n",
    "    ## Remove cell cycle genes\n",
    "    if remove_cc_genes:\n",
    "        adata = panfetal_utils.remove_geneset(adata,genes.cc_genes)\n",
    "\n",
    "    ## Remove TCR/BCR genes\n",
    "    if remove_tcr_bcr_genes:\n",
    "        adata = panfetal_utils.remove_geneset(adata, genes.IG_genes)\n",
    "        adata = panfetal_utils.remove_geneset(adata, genes.TCR_genes)\n",
    "        \n",
    "    ## HVG selection\n",
    "    adata = subset_top_hvgs(adata, n_top_genes=n_hvgs)\n",
    "    \n",
    "    ## Change gene names to ids\n",
    "    adata.var_names = adata.var['GeneID'].values.copy()\n",
    "    return(adata)\n",
    "\n",
    "def train_scVI(adata, n_dims=20):\n",
    "    adata = scvi.model.SCVI.setup_anndata(adata, \n",
    "                                    categorical_covariate_keys = [\"method\", 'donor'], \n",
    "                                    copy=True)\n",
    "    ## updated in new scArches version\n",
    "    arches_params = dict(\n",
    "        use_layer_norm=\"both\",\n",
    "        use_batch_norm=\"none\",\n",
    "        encode_covariates=True,\n",
    "        dropout_rate=0.2,\n",
    "        n_layers=2,\n",
    "    )\n",
    "    vae = scvi.model.SCVI(adata, n_latent=n_dims, **arches_params)\n",
    "    vae.train(early_stopping=True,\n",
    "        train_size=0.9,\n",
    "        early_stopping_patience=45,\n",
    "        max_epochs=400, \n",
    "        batch_size=1024, \n",
    "        limit_train_batches=20\n",
    "       )\n",
    "    return(vae)"
   ]
  },
  {
   "cell_type": "code",
   "execution_count": null,
   "id": "b58f6d72-da5e-4628-a672-889dca7b76ea",
   "metadata": {},
   "outputs": [],
   "source": [
    "adata = adata[:,~adata.var_names.isin(list(geneset))].copy()"
   ]
  },
  {
   "cell_type": "markdown",
   "id": "8874d48a-9e6e-411e-812e-01a92ca59506",
   "metadata": {},
   "source": [
    "---"
   ]
  },
  {
   "cell_type": "markdown",
   "id": "ce64174b-ae8a-45bc-b2bf-1bc2d3fd2846",
   "metadata": {},
   "source": [
    "## Lymphoid cells"
   ]
  },
  {
   "cell_type": "markdown",
   "id": "5c11942d-356e-4e16-a853-7cba9ab25aee",
   "metadata": {
    "tags": []
   },
   "source": [
    "### Read and merge datasets"
   ]
  },
  {
   "cell_type": "code",
   "execution_count": 140,
   "id": "d005db4c-66dc-4ae7-af47-6813260a62b4",
   "metadata": {},
   "outputs": [],
   "source": [
    "ref_data_dir = '/home/jupyter/mount/gdrive/Pan_fetal/data4gpu_node/'\n",
    "timestamp = '20210429'\n",
    "query_h5ad_file = '/home/jupyter/mount/gdrive/Pan_fetal/data4gpu_node/panimmune_full_LYMPHOID_query.h5ad'\n",
    "split = 'LYMPHOID_NEW'"
   ]
  },
  {
   "cell_type": "code",
   "execution_count": 141,
   "id": "c2b69ae8-c9ed-47a6-9674-68054038550c",
   "metadata": {},
   "outputs": [],
   "source": [
    "query_adata_full = sc.read_h5ad(query_h5ad_file)"
   ]
  },
  {
   "cell_type": "code",
   "execution_count": 7,
   "id": "97a5bcbf-e6b4-414e-87d8-b11df7bc0e1e",
   "metadata": {},
   "outputs": [
    {
     "name": "stderr",
     "output_type": "stream",
     "text": [
      "Variable names are not unique. To make them unique, call `.var_names_make_unique`.\n"
     ]
    }
   ],
   "source": [
    "## Read reference\n",
    "ref_adata = sc.read_h5ad(ref_data_dir + 'PAN.A01.v01.entire_data_raw_count.{t}.{s}.h5ad'.format(t=timestamp, s=split))\n",
    "ref_adata.var_names = ref_adata.var.GeneID\n",
    "\n",
    "## Merge\n",
    "concat_adata = anndata.concat([ref_adata, query_adata_full], axis=0,\n",
    "                              label=\"dataset\", keys=[\"fetal\", \"adult\"],\n",
    "                              join=\"outer\", merge=\"unique\", uns_merge=\"unique\")\n",
    "concat_adata.obs_names = concat_adata.obs_names + \"-\" + concat_adata.obs[\"dataset\"].astype(\"str\")"
   ]
  },
  {
   "cell_type": "code",
   "execution_count": 8,
   "id": "c6c7772b-a3a1-4652-b87c-12185dd3a35f",
   "metadata": {},
   "outputs": [],
   "source": [
    "## Restrict to common genes\n",
    "concat_adata = concat_adata[:,concat_adata.var['GeneID'] == concat_adata.var['gene_ids']].copy()"
   ]
  },
  {
   "cell_type": "markdown",
   "id": "e5767528-4438-4318-8c9f-80da7e4f7d07",
   "metadata": {},
   "source": [
    "### Load metadata for fetal cells"
   ]
  },
  {
   "cell_type": "code",
   "execution_count": 9,
   "id": "910667f7-a498-4e1e-9414-8dd46d89913e",
   "metadata": {},
   "outputs": [
    {
     "name": "stderr",
     "output_type": "stream",
     "text": [
      "/opt/conda/envs/ed6/lib/python3.8/site-packages/IPython/core/interactiveshell.py:3444: DtypeWarning: Columns (6) have mixed types.Specify dtype option on import or set low_memory=False.\n",
      "  exec(code_obj, self.user_global_ns, self.user_ns)\n"
     ]
    }
   ],
   "source": [
    "anno_obs = pd.read_csv(ref_data_dir + \"PAN.A01.v01.entire_data_normalised_log.20210429.full_obs.annotated.clean.csv\", index_col=0)"
   ]
  },
  {
   "cell_type": "code",
   "execution_count": 43,
   "id": "33967df9-64ec-4430-9538-3bef527339f0",
   "metadata": {},
   "outputs": [],
   "source": [
    "fetal_cell_ixs = concat_adata.obs_names[concat_adata.obs['dataset'] == 'fetal'].str.strip('-fetal')\n",
    "fetal_cell_ixs = fetal_cell_ixs[fetal_cell_ixs.isin(anno_obs.index)] # There is a small number of missing cells (42 cells) from anno_obs and I don't know why??\n",
    "\n",
    "concat_adata.obs['organ'] = np.nan\n",
    "concat_adata.obs.loc[fetal_cell_ixs+'-fetal', 'organ'] = anno_obs.loc[fetal_cell_ixs, 'organ'].astype('str').values\n",
    "concat_adata.obs['gestational_age'] = np.nan\n",
    "concat_adata.obs.loc[fetal_cell_ixs+'-fetal', 'gestational_age'] = anno_obs.loc[fetal_cell_ixs, 'age'].astype('int').values\n",
    "concat_adata.obs['annotation_fetal'] = np.nan\n",
    "concat_adata.obs.loc[fetal_cell_ixs+'-fetal', 'annotation_fetal'] = anno_obs.loc[fetal_cell_ixs, 'anno_lvl_2_final_clean'].astype('str').values\n",
    "\n",
    "## Add common metadata (covs used for integration)\n",
    "concat_adata.obs['donor'] = concat_adata.obs['donor'].astype(\"str\")\n",
    "concat_adata.obs['method'] = concat_adata.obs['method'].astype(\"str\")\n",
    "concat_adata.obs.loc[fetal_cell_ixs+'-fetal', 'donor'] = anno_obs.loc[fetal_cell_ixs, 'donor'].astype('str').values\n",
    "concat_adata.obs.loc[fetal_cell_ixs+'-fetal', 'method'] = anno_obs.loc[fetal_cell_ixs, 'method'].astype('str').values\n",
    "concat_adata = concat_adata[concat_adata.obs['donor']!='nan'].copy()"
   ]
  },
  {
   "cell_type": "markdown",
   "id": "2c59ad4c-1fcc-4825-b93e-6826e60c1a1e",
   "metadata": {},
   "source": [
    "### Feature selection"
   ]
  },
  {
   "cell_type": "code",
   "execution_count": 44,
   "id": "4f586468-54ce-4389-8a58-ff3b0483f54e",
   "metadata": {},
   "outputs": [],
   "source": [
    "concat_adata_pp = concat_adata.copy()"
   ]
  },
  {
   "cell_type": "code",
   "execution_count": 45,
   "id": "97ee3244-8379-4d63-b1ce-5efcfa524e3f",
   "metadata": {},
   "outputs": [
    {
     "data": {
      "text/html": [
       "<div>\n",
       "<style scoped>\n",
       "    .dataframe tbody tr th:only-of-type {\n",
       "        vertical-align: middle;\n",
       "    }\n",
       "\n",
       "    .dataframe tbody tr th {\n",
       "        vertical-align: top;\n",
       "    }\n",
       "\n",
       "    .dataframe thead th {\n",
       "        text-align: right;\n",
       "    }\n",
       "</style>\n",
       "<table border=\"1\" class=\"dataframe\">\n",
       "  <thead>\n",
       "    <tr style=\"text-align: right;\">\n",
       "      <th></th>\n",
       "      <th>GeneID</th>\n",
       "      <th>GeneName</th>\n",
       "      <th>gene_names</th>\n",
       "      <th>highly_variable</th>\n",
       "      <th>gene_ids</th>\n",
       "      <th>feature_types</th>\n",
       "      <th>means</th>\n",
       "      <th>dispersions</th>\n",
       "      <th>dispersions_norm</th>\n",
       "    </tr>\n",
       "  </thead>\n",
       "  <tbody>\n",
       "    <tr>\n",
       "      <th>ENSG00000000003</th>\n",
       "      <td>ENSG00000000003</td>\n",
       "      <td>TSPAN6</td>\n",
       "      <td>TSPAN6</td>\n",
       "      <td>False</td>\n",
       "      <td>ENSG00000000003</td>\n",
       "      <td>Gene Expression</td>\n",
       "      <td>2.357552e-01</td>\n",
       "      <td>3.227234</td>\n",
       "      <td>-0.133530</td>\n",
       "    </tr>\n",
       "    <tr>\n",
       "      <th>ENSG00000000005</th>\n",
       "      <td>ENSG00000000005</td>\n",
       "      <td>TNMD</td>\n",
       "      <td>TNMD</td>\n",
       "      <td>False</td>\n",
       "      <td>ENSG00000000005</td>\n",
       "      <td>Gene Expression</td>\n",
       "      <td>6.632406e-04</td>\n",
       "      <td>3.172269</td>\n",
       "      <td>-0.228967</td>\n",
       "    </tr>\n",
       "    <tr>\n",
       "      <th>ENSG00000000419</th>\n",
       "      <td>ENSG00000000419</td>\n",
       "      <td>DPM1</td>\n",
       "      <td>DPM1</td>\n",
       "      <td>False</td>\n",
       "      <td>ENSG00000000419</td>\n",
       "      <td>Gene Expression</td>\n",
       "      <td>1.527216e+00</td>\n",
       "      <td>3.122139</td>\n",
       "      <td>-0.421326</td>\n",
       "    </tr>\n",
       "    <tr>\n",
       "      <th>ENSG00000000457</th>\n",
       "      <td>ENSG00000000457</td>\n",
       "      <td>SCYL3</td>\n",
       "      <td>SCYL3</td>\n",
       "      <td>False</td>\n",
       "      <td>ENSG00000000457</td>\n",
       "      <td>Gene Expression</td>\n",
       "      <td>7.907402e-01</td>\n",
       "      <td>3.261065</td>\n",
       "      <td>-0.201772</td>\n",
       "    </tr>\n",
       "    <tr>\n",
       "      <th>ENSG00000000460</th>\n",
       "      <td>ENSG00000000460</td>\n",
       "      <td>C1orf112</td>\n",
       "      <td>C1orf112</td>\n",
       "      <td>False</td>\n",
       "      <td>ENSG00000000460</td>\n",
       "      <td>Gene Expression</td>\n",
       "      <td>6.091862e-01</td>\n",
       "      <td>3.221283</td>\n",
       "      <td>-0.255356</td>\n",
       "    </tr>\n",
       "    <tr>\n",
       "      <th>...</th>\n",
       "      <td>...</td>\n",
       "      <td>...</td>\n",
       "      <td>...</td>\n",
       "      <td>...</td>\n",
       "      <td>...</td>\n",
       "      <td>...</td>\n",
       "      <td>...</td>\n",
       "      <td>...</td>\n",
       "      <td>...</td>\n",
       "    </tr>\n",
       "    <tr>\n",
       "      <th>ENSG00000282851</th>\n",
       "      <td>ENSG00000282851</td>\n",
       "      <td>BISPR</td>\n",
       "      <td>BISPR</td>\n",
       "      <td>False</td>\n",
       "      <td>ENSG00000282851</td>\n",
       "      <td>Gene Expression</td>\n",
       "      <td>8.704207e-01</td>\n",
       "      <td>3.307917</td>\n",
       "      <td>-0.092907</td>\n",
       "    </tr>\n",
       "    <tr>\n",
       "      <th>ENSG00000282939</th>\n",
       "      <td>ENSG00000282939</td>\n",
       "      <td>TRBV7-2</td>\n",
       "      <td>TRBV7-2</td>\n",
       "      <td>True</td>\n",
       "      <td>ENSG00000282939</td>\n",
       "      <td>Gene Expression</td>\n",
       "      <td>1.785387e+00</td>\n",
       "      <td>6.265013</td>\n",
       "      <td>3.478871</td>\n",
       "    </tr>\n",
       "    <tr>\n",
       "      <th>ENSG00000282961</th>\n",
       "      <td>ENSG00000282961</td>\n",
       "      <td>PRNCR1</td>\n",
       "      <td>PRNCR1</td>\n",
       "      <td>False</td>\n",
       "      <td>ENSG00000282961</td>\n",
       "      <td>Gene Expression</td>\n",
       "      <td>2.188461e-01</td>\n",
       "      <td>3.242173</td>\n",
       "      <td>-0.107590</td>\n",
       "    </tr>\n",
       "    <tr>\n",
       "      <th>ENSG00000283039</th>\n",
       "      <td>ENSG00000283039</td>\n",
       "      <td>KLF18</td>\n",
       "      <td>KLF18</td>\n",
       "      <td>False</td>\n",
       "      <td>ENSG00000283039</td>\n",
       "      <td>Gene Expression</td>\n",
       "      <td>1.000000e-12</td>\n",
       "      <td>NaN</td>\n",
       "      <td>0.000000</td>\n",
       "    </tr>\n",
       "    <tr>\n",
       "      <th>ENSG00000283063</th>\n",
       "      <td>ENSG00000283063</td>\n",
       "      <td>TRBV6-2</td>\n",
       "      <td>TRBV6-2</td>\n",
       "      <td>True</td>\n",
       "      <td>ENSG00000283063</td>\n",
       "      <td>Gene Expression</td>\n",
       "      <td>9.469810e-01</td>\n",
       "      <td>5.952663</td>\n",
       "      <td>4.405865</td>\n",
       "    </tr>\n",
       "  </tbody>\n",
       "</table>\n",
       "<p>21794 rows × 9 columns</p>\n",
       "</div>"
      ],
      "text/plain": [
       "                          GeneID  GeneName gene_names  highly_variable  \\\n",
       "ENSG00000000003  ENSG00000000003    TSPAN6     TSPAN6            False   \n",
       "ENSG00000000005  ENSG00000000005      TNMD       TNMD            False   \n",
       "ENSG00000000419  ENSG00000000419      DPM1       DPM1            False   \n",
       "ENSG00000000457  ENSG00000000457     SCYL3      SCYL3            False   \n",
       "ENSG00000000460  ENSG00000000460  C1orf112   C1orf112            False   \n",
       "...                          ...       ...        ...              ...   \n",
       "ENSG00000282851  ENSG00000282851     BISPR      BISPR            False   \n",
       "ENSG00000282939  ENSG00000282939   TRBV7-2    TRBV7-2             True   \n",
       "ENSG00000282961  ENSG00000282961    PRNCR1     PRNCR1            False   \n",
       "ENSG00000283039  ENSG00000283039     KLF18      KLF18            False   \n",
       "ENSG00000283063  ENSG00000283063   TRBV6-2    TRBV6-2             True   \n",
       "\n",
       "                        gene_ids    feature_types         means  dispersions  \\\n",
       "ENSG00000000003  ENSG00000000003  Gene Expression  2.357552e-01     3.227234   \n",
       "ENSG00000000005  ENSG00000000005  Gene Expression  6.632406e-04     3.172269   \n",
       "ENSG00000000419  ENSG00000000419  Gene Expression  1.527216e+00     3.122139   \n",
       "ENSG00000000457  ENSG00000000457  Gene Expression  7.907402e-01     3.261065   \n",
       "ENSG00000000460  ENSG00000000460  Gene Expression  6.091862e-01     3.221283   \n",
       "...                          ...              ...           ...          ...   \n",
       "ENSG00000282851  ENSG00000282851  Gene Expression  8.704207e-01     3.307917   \n",
       "ENSG00000282939  ENSG00000282939  Gene Expression  1.785387e+00     6.265013   \n",
       "ENSG00000282961  ENSG00000282961  Gene Expression  2.188461e-01     3.242173   \n",
       "ENSG00000283039  ENSG00000283039  Gene Expression  1.000000e-12          NaN   \n",
       "ENSG00000283063  ENSG00000283063  Gene Expression  9.469810e-01     5.952663   \n",
       "\n",
       "                 dispersions_norm  \n",
       "ENSG00000000003         -0.133530  \n",
       "ENSG00000000005         -0.228967  \n",
       "ENSG00000000419         -0.421326  \n",
       "ENSG00000000457         -0.201772  \n",
       "ENSG00000000460         -0.255356  \n",
       "...                           ...  \n",
       "ENSG00000282851         -0.092907  \n",
       "ENSG00000282939          3.478871  \n",
       "ENSG00000282961         -0.107590  \n",
       "ENSG00000283039          0.000000  \n",
       "ENSG00000283063          4.405865  \n",
       "\n",
       "[21794 rows x 9 columns]"
      ]
     },
     "execution_count": 45,
     "metadata": {},
     "output_type": "execute_result"
    }
   ],
   "source": [
    "## Save dispersion estimates for HVG selection\n",
    "concat_adata_pp.var_names_make_unique()\n",
    "sc.pp.normalize_per_cell(concat_adata_pp, counts_per_cell_after=10e4)\n",
    "sc.pp.log1p(concat_adata_pp)\n",
    "sc.pp.highly_variable_genes(concat_adata_pp, min_mean=0.001, max_mean=10, subset=False)\n",
    "concat_adata_pp.var"
   ]
  },
  {
   "cell_type": "code",
   "execution_count": 46,
   "id": "61fa2898-3a9f-49f6-a9fe-3da0c32e52bb",
   "metadata": {},
   "outputs": [],
   "source": [
    "concat_adata.var = concat_adata_pp.var.copy()"
   ]
  },
  {
   "cell_type": "code",
   "execution_count": 47,
   "id": "33d0f1d5-8252-4521-852e-1b8ba1bb184a",
   "metadata": {},
   "outputs": [
    {
     "name": "stderr",
     "output_type": "stream",
     "text": [
      "/opt/conda/envs/ed6/lib/python3.8/site-packages/anndata/_core/anndata.py:1220: FutureWarning: The `inplace` parameter in pandas.Categorical.reorder_categories is deprecated and will be removed in a future version. Reordering categories will always return a new Categorical object.\n",
      "  c.reorder_categories(natsorted(c.categories), inplace=True)\n",
      "... storing 'donor' as categorical\n",
      "/opt/conda/envs/ed6/lib/python3.8/site-packages/anndata/_core/anndata.py:1220: FutureWarning: The `inplace` parameter in pandas.Categorical.reorder_categories is deprecated and will be removed in a future version. Reordering categories will always return a new Categorical object.\n",
      "  c.reorder_categories(natsorted(c.categories), inplace=True)\n",
      "... storing 'method' as categorical\n",
      "/opt/conda/envs/ed6/lib/python3.8/site-packages/anndata/_core/anndata.py:1220: FutureWarning: The `inplace` parameter in pandas.Categorical.reorder_categories is deprecated and will be removed in a future version. Reordering categories will always return a new Categorical object.\n",
      "  c.reorder_categories(natsorted(c.categories), inplace=True)\n",
      "... storing 'organ' as categorical\n",
      "/opt/conda/envs/ed6/lib/python3.8/site-packages/anndata/_core/anndata.py:1220: FutureWarning: The `inplace` parameter in pandas.Categorical.reorder_categories is deprecated and will be removed in a future version. Reordering categories will always return a new Categorical object.\n",
      "  c.reorder_categories(natsorted(c.categories), inplace=True)\n",
      "... storing 'annotation_fetal' as categorical\n"
     ]
    }
   ],
   "source": [
    "concat_adata.write_h5ad(ref_data_dir + 'merged_fetal_adult.LYMPHOID_NEW.h5ad')"
   ]
  },
  {
   "cell_type": "code",
   "execution_count": 69,
   "id": "1f454564-2509-4d07-bf00-c0b298232ded",
   "metadata": {},
   "outputs": [],
   "source": [
    "concat_adata = sc.read_h5ad(ref_data_dir + 'merged_fetal_adult.LYMPHOID_NEW.h5ad')"
   ]
  },
  {
   "cell_type": "code",
   "execution_count": 70,
   "id": "6a78751f-55b3-41d6-9267-aa6c48bf636a",
   "metadata": {},
   "outputs": [],
   "source": [
    "concat_adata = prep_scVI(concat_adata, n_hvgs=7500, remove_cc_genes=True, remove_tcr_bcr_genes=True)"
   ]
  },
  {
   "cell_type": "code",
   "execution_count": 49,
   "id": "4ef433d6-80c3-4112-8e2f-106428754cad",
   "metadata": {},
   "outputs": [],
   "source": [
    "concat_adata.write_h5ad(ref_data_dir + 'merged_fetal_adult.LYMPHOID_NEW.4scvi.h5ad')"
   ]
  },
  {
   "cell_type": "code",
   "execution_count": 50,
   "id": "3f5b979b-cc26-4dda-9854-f33ddc15f024",
   "metadata": {},
   "outputs": [],
   "source": [
    "# concat_adata = sc.read_h5ad(ref_data_dir + 'merged_fetal_adult.LYMPHOID.4scvi.h5ad')"
   ]
  },
  {
   "cell_type": "markdown",
   "id": "a679702f-e624-4032-9887-7b69c263a72b",
   "metadata": {},
   "source": [
    "### Run scVI integration"
   ]
  },
  {
   "cell_type": "code",
   "execution_count": 71,
   "id": "a9796bb2-4ba9-4ad8-8129-4eedf75d1110",
   "metadata": {},
   "outputs": [
    {
     "name": "stdout",
     "output_type": "stream",
     "text": [
      "\u001b[34mINFO    \u001b[0m No batch_key inputted, assuming all cells are same batch                            \n",
      "\u001b[34mINFO    \u001b[0m No label_key inputted, assuming all cells have same label                           \n",
      "\u001b[34mINFO    \u001b[0m Using data from adata.X                                                             \n",
      "\u001b[34mINFO    \u001b[0m Successfully registered anndata object containing \u001b[1;36m504242\u001b[0m cells, \u001b[1;36m7500\u001b[0m vars, \u001b[1;36m1\u001b[0m        \n",
      "         batches, \u001b[1;36m1\u001b[0m labels, and \u001b[1;36m0\u001b[0m proteins. Also registered \u001b[1;36m2\u001b[0m extra categorical covariates   \n",
      "         and \u001b[1;36m0\u001b[0m extra continuous covariates.                                                  \n",
      "\u001b[34mINFO    \u001b[0m Please do not further modify adata until model is trained.                          \n"
     ]
    },
    {
     "name": "stderr",
     "output_type": "stream",
     "text": [
      "GPU available: True, used: True\n",
      "TPU available: False, using: 0 TPU cores\n",
      "LOCAL_RANK: 0 - CUDA_VISIBLE_DEVICES: [0]\n"
     ]
    },
    {
     "name": "stdout",
     "output_type": "stream",
     "text": [
      "Epoch 400/400: 100%|██████████| 400/400 [14:56<00:00,  2.24s/it, loss=1.17e+03, v_num=1]\n"
     ]
    }
   ],
   "source": [
    "vae = train_scVI(concat_adata, n_dims=20)\n",
    "concat_adata.obsm[\"X_scVI\"] = vae.get_latent_representation()"
   ]
  },
  {
   "cell_type": "code",
   "execution_count": 72,
   "id": "c611ceb2-7ae3-438c-b121-2eee410f16b4",
   "metadata": {},
   "outputs": [
    {
     "data": {
      "image/png": "[encoded data removed]",
      "text/plain": [
       "<Figure size 432x288 with 1 Axes>"
      ]
     },
     "metadata": {
      "needs_background": "light"
     },
     "output_type": "display_data"
    }
   ],
   "source": [
    "## Plot convergence\n",
    "sns.set_context(\"talk\")\n",
    "plt.plot(vae.history[\"elbo_train\"], label=\"Training\");\n",
    "plt.plot(vae.history[\"elbo_validation\"], label=\"Validation\");\n",
    "plt.legend();\n",
    "plt.xlabel(\"epoch\");\n",
    "plt.ylabel(\"ELBO\");\n",
    "# plt.savefig(\"{f}/scvi_training_elbo_{s}.pdf\".format(s=s, f=figdir), bbox_inches=\"tight\")"
   ]
  },
  {
   "cell_type": "code",
   "execution_count": 91,
   "id": "7e732cbd-fa9f-43a5-9434-09b190617e96",
   "metadata": {},
   "outputs": [],
   "source": [
    "split='LYMPHOID_NEW'"
   ]
  },
  {
   "cell_type": "code",
   "execution_count": 92,
   "id": "c3fa8f07-d97c-4360-bdfb-dfb96b62b2da",
   "metadata": {},
   "outputs": [],
   "source": [
    "## Save object\n",
    "outname = \"merged_fetal_adult.{s}.scVI_out.npy\".format(s=split)\n",
    "np.save(ref_data_dir + outname, concat_adata.obsm[\"X_scVI\"])\n",
    "\n",
    "# save the model\n",
    "model_dir = 'scvi_merged_fetal_adult_{s}_model/'.format(s=split)\n",
    "if not os.path.exists(ref_data_dir + model_dir):\n",
    "    os.mkdir(ref_data_dir + model_dir)\n",
    "vae.save(ref_data_dir + model_dir, overwrite=True)"
   ]
  },
  {
   "cell_type": "code",
   "execution_count": 75,
   "id": "10e0c406-c2c1-47e2-9c0b-30d515e04ec8",
   "metadata": {},
   "outputs": [],
   "source": [
    "scvi_outs_dir = '/home/jupyter/mount/gdrive/Pan_fetal/data4gpu_node/'\n",
    "model_dir = 'scvi_LYMPHOID_NEW_model/'\n",
    "var_names_model = torch.load(scvi_outs_dir + model_dir + 'model.pt')['var_names']"
   ]
  },
  {
   "cell_type": "code",
   "execution_count": 93,
   "id": "7ac64a2f-d442-455c-b385-58180297e8de",
   "metadata": {},
   "outputs": [],
   "source": [
    "model_dir = 'scvi_merged_fetal_adult_{s}_model/'.format(s=\"LYMPHOID_NEW\")\n",
    "var_names_model_denovo = torch.load(scvi_outs_dir + model_dir + 'model.pt')['var_names']"
   ]
  },
  {
   "cell_type": "code",
   "execution_count": 102,
   "id": "d74bc41d-82fd-460e-bc80-980f99805d27",
   "metadata": {},
   "outputs": [
    {
     "data": {
      "text/plain": [
       "(4074,)"
      ]
     },
     "execution_count": 102,
     "metadata": {},
     "output_type": "execute_result"
    }
   ],
   "source": [
    "np.intersect1d(var_names_model, var_names_model_denovo)"
   ]
  },
  {
   "cell_type": "code",
   "execution_count": 131,
   "id": "640726fd-f54d-470c-a749-afd86eebe79f",
   "metadata": {},
   "outputs": [],
   "source": [
    "n_zeros = (concat_adata_pp[:,[x in var_names_model_denovo for x in concat_adata_pp.var_names]].X != 0).sum(1)"
   ]
  },
  {
   "cell_type": "code",
   "execution_count": 132,
   "id": "e8198fe9-79a0-4cbc-a933-f2360efab327",
   "metadata": {},
   "outputs": [
    {
     "data": {
      "image/png": "[encoded data removed]",
      "text/plain": [
       "<Figure size 432x288 with 1 Axes>"
      ]
     },
     "metadata": {
      "needs_background": "light"
     },
     "output_type": "display_data"
    },
    {
     "data": {
      "image/png": "[encoded data removed]",
      "text/plain": [
       "<Figure size 432x288 with 1 Axes>"
      ]
     },
     "metadata": {
      "needs_background": "light"
     },
     "output_type": "display_data"
    }
   ],
   "source": [
    "plt.hist(np.array(n_zeros[concat_adata_pp.obs['dataset']=='fetal']).ravel(), bins=30);\n",
    "plt.show();\n",
    "plt.hist(np.array(n_zeros[concat_adata_pp.obs['dataset']=='adult']).ravel(), bins=50);"
   ]
  },
  {
   "cell_type": "markdown",
   "id": "1024fe6d-3df1-4328-a28d-e36a31869394",
   "metadata": {},
   "source": [
    "### scVI integration of adult alone"
   ]
  },
  {
   "cell_type": "code",
   "execution_count": null,
   "id": "8698be3b-bdbf-4fd3-ad47-3b2e81b87e40",
   "metadata": {},
   "outputs": [],
   "source": [
    "## Feature selection"
   ]
  },
  {
   "cell_type": "code",
   "execution_count": 142,
   "id": "50a6e3e0-1ac1-44c8-b011-fd2344c1b3d6",
   "metadata": {},
   "outputs": [],
   "source": [
    "query_adata_full_pp = query_adata_full.copy()\n",
    "\n",
    "## Save dispersion estimates for HVG selection\n",
    "query_adata_full_pp.var_names_make_unique()\n",
    "sc.pp.normalize_per_cell(query_adata_full_pp, counts_per_cell_after=10e4)\n",
    "sc.pp.log1p(query_adata_full_pp)\n",
    "sc.pp.highly_variable_genes(query_adata_full_pp, min_mean=0.001, max_mean=10, subset=False)\n",
    "\n",
    "query_adata_full.var = query_adata_full_pp.var.copy()"
   ]
  },
  {
   "cell_type": "code",
   "execution_count": 144,
   "id": "8c6dede8-3ae5-45be-ad9a-f949a60c7e65",
   "metadata": {},
   "outputs": [],
   "source": [
    "query_adata_full.var['GeneID'] = query_adata_full.var['gene_ids'].copy()"
   ]
  },
  {
   "cell_type": "code",
   "execution_count": 145,
   "id": "70831eef-303a-4028-aeb3-fe5d70781605",
   "metadata": {},
   "outputs": [],
   "source": [
    "query_adata_full = prep_scVI(query_adata_full, n_hvgs=7500, remove_cc_genes=True, remove_tcr_bcr_genes=True)"
   ]
  },
  {
   "cell_type": "code",
   "execution_count": 146,
   "id": "d00f9dd3-db60-409e-ba09-5baa055b3b77",
   "metadata": {},
   "outputs": [
    {
     "name": "stdout",
     "output_type": "stream",
     "text": [
      "\u001b[34mINFO    \u001b[0m No batch_key inputted, assuming all cells are same batch                            \n",
      "\u001b[34mINFO    \u001b[0m No label_key inputted, assuming all cells have same label                           \n",
      "\u001b[34mINFO    \u001b[0m Using data from adata.X                                                             \n",
      "\u001b[34mINFO    \u001b[0m Successfully registered anndata object containing \u001b[1;36m264929\u001b[0m cells, \u001b[1;36m7500\u001b[0m vars, \u001b[1;36m1\u001b[0m        \n",
      "         batches, \u001b[1;36m1\u001b[0m labels, and \u001b[1;36m0\u001b[0m proteins. Also registered \u001b[1;36m2\u001b[0m extra categorical covariates   \n",
      "         and \u001b[1;36m0\u001b[0m extra continuous covariates.                                                  \n",
      "\u001b[34mINFO    \u001b[0m Please do not further modify adata until model is trained.                          \n"
     ]
    },
    {
     "name": "stderr",
     "output_type": "stream",
     "text": [
      "GPU available: True, used: True\n",
      "TPU available: False, using: 0 TPU cores\n",
      "LOCAL_RANK: 0 - CUDA_VISIBLE_DEVICES: [0]\n"
     ]
    },
    {
     "name": "stdout",
     "output_type": "stream",
     "text": [
      "Epoch 400/400: 100%|██████████| 400/400 [10:59<00:00,  1.65s/it, loss=996, v_num=1]     \n"
     ]
    }
   ],
   "source": [
    "vae = train_scVI(query_adata_full, n_dims=20)\n",
    "query_adata_full.obsm[\"X_scVI\"] = vae.get_latent_representation()"
   ]
  },
  {
   "cell_type": "code",
   "execution_count": 150,
   "id": "39db830a-e022-4dfe-a0f2-12c95aeb875a",
   "metadata": {},
   "outputs": [],
   "source": [
    "## Save object\n",
    "outname = \"panimmune_full.LYMPHOID.scVI_out.npy\"\n",
    "np.save(ref_data_dir + outname, query_adata_full.obsm[\"X_scVI\"])\n",
    "\n",
    "# save the model\n",
    "model_dir = 'panimmune_full_LYMPHOID_model/'\n",
    "if not os.path.exists(ref_data_dir + model_dir):\n",
    "    os.mkdir(ref_data_dir + model_dir)\n",
    "vae.save(ref_data_dir + model_dir, overwrite=True)"
   ]
  },
  {
   "cell_type": "code",
   "execution_count": 151,
   "id": "3659b01b-e9ce-4ccf-9d6a-56f1c7966e56",
   "metadata": {},
   "outputs": [],
   "source": [
    "scvi_outs_dir = '/home/jupyter/mount/gdrive/Pan_fetal/data4gpu_node/'\n",
    "\n",
    "model_dir = 'scvi_LYMPHOID_NEW_model/'\n",
    "var_names_model_fetal = torch.load(scvi_outs_dir + model_dir + 'model.pt')['var_names']\n",
    "\n",
    "model_dir = 'scvi_merged_fetal_adult_{s}_model/'.format(s=\"LYMPHOID_NEW\")\n",
    "var_names_model_denovo = torch.load(scvi_outs_dir + model_dir + 'model.pt')['var_names']\n",
    "\n",
    "model_dir = 'panimmune_full_LYMPHOID_model/'\n",
    "var_names_model_adult = torch.load(scvi_outs_dir + model_dir + 'model.pt')['var_names']"
   ]
  },
  {
   "cell_type": "code",
   "execution_count": 164,
   "id": "31fb1faa-ae5d-465f-8801-da1bae8bf7f9",
   "metadata": {},
   "outputs": [
    {
     "data": {
      "text/html": [
       "<div>\n",
       "<style scoped>\n",
       "    .dataframe tbody tr th:only-of-type {\n",
       "        vertical-align: middle;\n",
       "    }\n",
       "\n",
       "    .dataframe tbody tr th {\n",
       "        vertical-align: top;\n",
       "    }\n",
       "\n",
       "    .dataframe thead th {\n",
       "        text-align: right;\n",
       "    }\n",
       "</style>\n",
       "<table border=\"1\" class=\"dataframe\">\n",
       "  <thead>\n",
       "    <tr style=\"text-align: right;\">\n",
       "      <th></th>\n",
       "      <th>GeneID</th>\n",
       "      <th>GeneName</th>\n",
       "      <th>gene_names</th>\n",
       "      <th>highly_variable</th>\n",
       "      <th>gene_ids</th>\n",
       "      <th>feature_types</th>\n",
       "      <th>means</th>\n",
       "      <th>dispersions</th>\n",
       "      <th>dispersions_norm</th>\n",
       "    </tr>\n",
       "  </thead>\n",
       "  <tbody>\n",
       "    <tr>\n",
       "      <th>ENSG00000000938</th>\n",
       "      <td>ENSG00000000938</td>\n",
       "      <td>FGR</td>\n",
       "      <td>FGR</td>\n",
       "      <td>True</td>\n",
       "      <td>ENSG00000000938</td>\n",
       "      <td>Gene Expression</td>\n",
       "      <td>1.429890</td>\n",
       "      <td>3.810320</td>\n",
       "      <td>0.647272</td>\n",
       "    </tr>\n",
       "    <tr>\n",
       "      <th>ENSG00000002586</th>\n",
       "      <td>ENSG00000002586</td>\n",
       "      <td>CD99</td>\n",
       "      <td>CD99</td>\n",
       "      <td>False</td>\n",
       "      <td>ENSG00000002586</td>\n",
       "      <td>Gene Expression</td>\n",
       "      <td>4.145276</td>\n",
       "      <td>5.239363</td>\n",
       "      <td>0.251993</td>\n",
       "    </tr>\n",
       "    <tr>\n",
       "      <th>ENSG00000002587</th>\n",
       "      <td>ENSG00000002587</td>\n",
       "      <td>HS3ST1</td>\n",
       "      <td>HS3ST1</td>\n",
       "      <td>True</td>\n",
       "      <td>ENSG00000002587</td>\n",
       "      <td>Gene Expression</td>\n",
       "      <td>0.766446</td>\n",
       "      <td>3.784439</td>\n",
       "      <td>0.503183</td>\n",
       "    </tr>\n",
       "    <tr>\n",
       "      <th>ENSG00000002745</th>\n",
       "      <td>ENSG00000002745</td>\n",
       "      <td>WNT16</td>\n",
       "      <td>WNT16</td>\n",
       "      <td>True</td>\n",
       "      <td>ENSG00000002745</td>\n",
       "      <td>Gene Expression</td>\n",
       "      <td>0.102417</td>\n",
       "      <td>3.613536</td>\n",
       "      <td>0.537218</td>\n",
       "    </tr>\n",
       "    <tr>\n",
       "      <th>ENSG00000002933</th>\n",
       "      <td>ENSG00000002933</td>\n",
       "      <td>TMEM176A</td>\n",
       "      <td>TMEM176A</td>\n",
       "      <td>False</td>\n",
       "      <td>ENSG00000002933</td>\n",
       "      <td>Gene Expression</td>\n",
       "      <td>0.063593</td>\n",
       "      <td>3.447697</td>\n",
       "      <td>0.249267</td>\n",
       "    </tr>\n",
       "    <tr>\n",
       "      <th>...</th>\n",
       "      <td>...</td>\n",
       "      <td>...</td>\n",
       "      <td>...</td>\n",
       "      <td>...</td>\n",
       "      <td>...</td>\n",
       "      <td>...</td>\n",
       "      <td>...</td>\n",
       "      <td>...</td>\n",
       "      <td>...</td>\n",
       "    </tr>\n",
       "    <tr>\n",
       "      <th>ENSG00000282320</th>\n",
       "      <td>ENSG00000282320</td>\n",
       "      <td>TRBJ1-1</td>\n",
       "      <td>TRBJ1-1</td>\n",
       "      <td>False</td>\n",
       "      <td>ENSG00000282320</td>\n",
       "      <td>Gene Expression</td>\n",
       "      <td>0.003801</td>\n",
       "      <td>3.457771</td>\n",
       "      <td>0.266759</td>\n",
       "    </tr>\n",
       "    <tr>\n",
       "      <th>ENSG00000282499</th>\n",
       "      <td>ENSG00000282499</td>\n",
       "      <td>TRBV25-1</td>\n",
       "      <td>TRBV25-1</td>\n",
       "      <td>True</td>\n",
       "      <td>ENSG00000282499</td>\n",
       "      <td>Gene Expression</td>\n",
       "      <td>0.471030</td>\n",
       "      <td>5.620845</td>\n",
       "      <td>2.976718</td>\n",
       "    </tr>\n",
       "    <tr>\n",
       "      <th>ENSG00000282815</th>\n",
       "      <td>ENSG00000282815</td>\n",
       "      <td>TEX13C</td>\n",
       "      <td>TEX13C</td>\n",
       "      <td>False</td>\n",
       "      <td>ENSG00000282815</td>\n",
       "      <td>Gene Expression</td>\n",
       "      <td>0.000142</td>\n",
       "      <td>3.678969</td>\n",
       "      <td>0.650832</td>\n",
       "    </tr>\n",
       "    <tr>\n",
       "      <th>ENSG00000282939</th>\n",
       "      <td>ENSG00000282939</td>\n",
       "      <td>TRBV7-2</td>\n",
       "      <td>TRBV7-2</td>\n",
       "      <td>True</td>\n",
       "      <td>ENSG00000282939</td>\n",
       "      <td>Gene Expression</td>\n",
       "      <td>1.785387</td>\n",
       "      <td>6.265013</td>\n",
       "      <td>3.478871</td>\n",
       "    </tr>\n",
       "    <tr>\n",
       "      <th>ENSG00000283063</th>\n",
       "      <td>ENSG00000283063</td>\n",
       "      <td>TRBV6-2</td>\n",
       "      <td>TRBV6-2</td>\n",
       "      <td>True</td>\n",
       "      <td>ENSG00000283063</td>\n",
       "      <td>Gene Expression</td>\n",
       "      <td>0.946981</td>\n",
       "      <td>5.952663</td>\n",
       "      <td>4.405865</td>\n",
       "    </tr>\n",
       "  </tbody>\n",
       "</table>\n",
       "<p>4074 rows × 9 columns</p>\n",
       "</div>"
      ],
      "text/plain": [
       "                          GeneID  GeneName gene_names  highly_variable  \\\n",
       "ENSG00000000938  ENSG00000000938       FGR        FGR             True   \n",
       "ENSG00000002586  ENSG00000002586      CD99       CD99            False   \n",
       "ENSG00000002587  ENSG00000002587    HS3ST1     HS3ST1             True   \n",
       "ENSG00000002745  ENSG00000002745     WNT16      WNT16             True   \n",
       "ENSG00000002933  ENSG00000002933  TMEM176A   TMEM176A            False   \n",
       "...                          ...       ...        ...              ...   \n",
       "ENSG00000282320  ENSG00000282320   TRBJ1-1    TRBJ1-1            False   \n",
       "ENSG00000282499  ENSG00000282499  TRBV25-1   TRBV25-1             True   \n",
       "ENSG00000282815  ENSG00000282815    TEX13C     TEX13C            False   \n",
       "ENSG00000282939  ENSG00000282939   TRBV7-2    TRBV7-2             True   \n",
       "ENSG00000283063  ENSG00000283063   TRBV6-2    TRBV6-2             True   \n",
       "\n",
       "                        gene_ids    feature_types     means  dispersions  \\\n",
       "ENSG00000000938  ENSG00000000938  Gene Expression  1.429890     3.810320   \n",
       "ENSG00000002586  ENSG00000002586  Gene Expression  4.145276     5.239363   \n",
       "ENSG00000002587  ENSG00000002587  Gene Expression  0.766446     3.784439   \n",
       "ENSG00000002745  ENSG00000002745  Gene Expression  0.102417     3.613536   \n",
       "ENSG00000002933  ENSG00000002933  Gene Expression  0.063593     3.447697   \n",
       "...                          ...              ...       ...          ...   \n",
       "ENSG00000282320  ENSG00000282320  Gene Expression  0.003801     3.457771   \n",
       "ENSG00000282499  ENSG00000282499  Gene Expression  0.471030     5.620845   \n",
       "ENSG00000282815  ENSG00000282815  Gene Expression  0.000142     3.678969   \n",
       "ENSG00000282939  ENSG00000282939  Gene Expression  1.785387     6.265013   \n",
       "ENSG00000283063  ENSG00000283063  Gene Expression  0.946981     5.952663   \n",
       "\n",
       "                 dispersions_norm  \n",
       "ENSG00000000938          0.647272  \n",
       "ENSG00000002586          0.251993  \n",
       "ENSG00000002587          0.503183  \n",
       "ENSG00000002745          0.537218  \n",
       "ENSG00000002933          0.249267  \n",
       "...                           ...  \n",
       "ENSG00000282320          0.266759  \n",
       "ENSG00000282499          2.976718  \n",
       "ENSG00000282815          0.650832  \n",
       "ENSG00000282939          3.478871  \n",
       "ENSG00000283063          4.405865  \n",
       "\n",
       "[4074 rows x 9 columns]"
      ]
     },
     "execution_count": 164,
     "metadata": {},
     "output_type": "execute_result"
    }
   ],
   "source": [
    "concat_adata.var.loc[var_names_model_adult[pd.Series(var_names_model_adult).isin(concat_adata.var_names)]]\n",
    "concat_adata.var.loc[var_names_model_fetal[pd.Series(var_names_model_fetal).isin(concat_adata.var_names)]]"
   ]
  },
  {
   "cell_type": "code",
   "execution_count": 188,
   "id": "069b2453-19b6-42b6-9b99-a85394a12be7",
   "metadata": {},
   "outputs": [
    {
     "data": {
      "image/png": "[encoded data removed]",
      "text/plain": [
       "<Figure size 384x288 with 4 Axes>"
      ]
     },
     "metadata": {
      "needs_background": "light"
     },
     "output_type": "display_data"
    }
   ],
   "source": [
    "import upsetplot\n",
    "from upsetplot import plot\n",
    "from matplotlib import pyplot\n",
    "\n",
    "\n",
    "example = upsetplot.from_contents({\n",
    "    'joint':var_names_model_denovo, \n",
    "    'fetal':var_names_model_fetal,\n",
    "    'adult':var_names_model_adult\n",
    "})\n",
    "\n",
    "plot(example, sort_by='cardinality');"
   ]
  },
  {
   "cell_type": "code",
   "execution_count": 224,
   "id": "6f3c9272-37af-4c35-a4b2-479b1211d7a5",
   "metadata": {},
   "outputs": [
    {
     "data": {
      "text/html": [
       "<div>\n",
       "<style scoped>\n",
       "    .dataframe tbody tr th:only-of-type {\n",
       "        vertical-align: middle;\n",
       "    }\n",
       "\n",
       "    .dataframe tbody tr th {\n",
       "        vertical-align: top;\n",
       "    }\n",
       "\n",
       "    .dataframe thead th {\n",
       "        text-align: right;\n",
       "    }\n",
       "</style>\n",
       "<table border=\"1\" class=\"dataframe\">\n",
       "  <thead>\n",
       "    <tr style=\"text-align: right;\">\n",
       "      <th></th>\n",
       "      <th>GeneID</th>\n",
       "      <th>GeneName</th>\n",
       "    </tr>\n",
       "    <tr>\n",
       "      <th>GeneID</th>\n",
       "      <th></th>\n",
       "      <th></th>\n",
       "    </tr>\n",
       "  </thead>\n",
       "  <tbody>\n",
       "    <tr>\n",
       "      <th>ENSG00000056558</th>\n",
       "      <td>ENSG00000056558</td>\n",
       "      <td>TRAF1</td>\n",
       "    </tr>\n",
       "    <tr>\n",
       "      <th>ENSG00000071575</th>\n",
       "      <td>ENSG00000071575</td>\n",
       "      <td>TRIB2</td>\n",
       "    </tr>\n",
       "    <tr>\n",
       "      <th>ENSG00000072657</th>\n",
       "      <td>ENSG00000072657</td>\n",
       "      <td>TRHDE</td>\n",
       "    </tr>\n",
       "    <tr>\n",
       "      <th>ENSG00000095970</th>\n",
       "      <td>ENSG00000095970</td>\n",
       "      <td>TREM2</td>\n",
       "    </tr>\n",
       "    <tr>\n",
       "      <th>ENSG00000104321</th>\n",
       "      <td>ENSG00000104321</td>\n",
       "      <td>TRPA1</td>\n",
       "    </tr>\n",
       "    <tr>\n",
       "      <th>...</th>\n",
       "      <td>...</td>\n",
       "      <td>...</td>\n",
       "    </tr>\n",
       "    <tr>\n",
       "      <th>ENSG00000282173</th>\n",
       "      <td>ENSG00000282173</td>\n",
       "      <td>TRBJ1-5</td>\n",
       "    </tr>\n",
       "    <tr>\n",
       "      <th>ENSG00000282320</th>\n",
       "      <td>ENSG00000282320</td>\n",
       "      <td>TRBJ1-1</td>\n",
       "    </tr>\n",
       "    <tr>\n",
       "      <th>ENSG00000282499</th>\n",
       "      <td>ENSG00000282499</td>\n",
       "      <td>TRBV25-1</td>\n",
       "    </tr>\n",
       "    <tr>\n",
       "      <th>ENSG00000282939</th>\n",
       "      <td>ENSG00000282939</td>\n",
       "      <td>TRBV7-2</td>\n",
       "    </tr>\n",
       "    <tr>\n",
       "      <th>ENSG00000283063</th>\n",
       "      <td>ENSG00000283063</td>\n",
       "      <td>TRBV6-2</td>\n",
       "    </tr>\n",
       "  </tbody>\n",
       "</table>\n",
       "<p>191 rows × 2 columns</p>\n",
       "</div>"
      ],
      "text/plain": [
       "                          GeneID  GeneName\n",
       "GeneID                                    \n",
       "ENSG00000056558  ENSG00000056558     TRAF1\n",
       "ENSG00000071575  ENSG00000071575     TRIB2\n",
       "ENSG00000072657  ENSG00000072657     TRHDE\n",
       "ENSG00000095970  ENSG00000095970     TREM2\n",
       "ENSG00000104321  ENSG00000104321     TRPA1\n",
       "...                          ...       ...\n",
       "ENSG00000282173  ENSG00000282173   TRBJ1-5\n",
       "ENSG00000282320  ENSG00000282320   TRBJ1-1\n",
       "ENSG00000282499  ENSG00000282499  TRBV25-1\n",
       "ENSG00000282939  ENSG00000282939   TRBV7-2\n",
       "ENSG00000283063  ENSG00000283063   TRBV6-2\n",
       "\n",
       "[191 rows x 2 columns]"
      ]
     },
     "execution_count": 224,
     "metadata": {},
     "output_type": "execute_result"
    }
   ],
   "source": [
    "ref_adata.var.loc[var_names_model_fetal][ref_adata.var.loc[var_names_model_fetal]['GeneName'].str.startswith('TR')]"
   ]
  },
  {
   "cell_type": "code",
   "execution_count": 216,
   "id": "53e2f31f-b566-44b0-971a-c2baf01c16c6",
   "metadata": {},
   "outputs": [
    {
     "data": {
      "text/plain": [
       "ENSG00000163395           IGFN1\n",
       "ENSG00000211596           IGKJ2\n",
       "ENSG00000271402      IGKV2OR2-2\n",
       "ENSG00000271015     IGKV2OR2-7D\n",
       "ENSG00000270450      IGKV2OR2-7\n",
       "ENSG00000278537      IGKV2OR2-8\n",
       "ENSG00000253412    IGHVIII-13-1\n",
       "ENSG00000253367    IGHVIII-25-1\n",
       "ENSG00000253482     IGHVII-26-2\n",
       "ENSG00000254289        IGHV3-32\n",
       "ENSG00000253491     IGHVII-30-1\n",
       "ENSG00000270474        IGHV3-29\n",
       "ENSG00000253359        IGHV3-37\n",
       "ENSG00000253989    IGHVIII-38-1\n",
       "ENSG00000253862    IGHVIII-47-1\n",
       "ENSG00000253386     IGHVII-49-1\n",
       "ENSG00000254167    IGHVIII-51-1\n",
       "ENSG00000253941     IGHVII-51-2\n",
       "ENSG00000253759        IGHV3-57\n",
       "ENSG00000253674     IGHVII-78-1\n",
       "ENSG00000188624           IGFL3\n",
       "ENSG00000253889        IGLVI-38\n",
       "ENSG00000253963         IGLV3-2\n",
       "ENSG00000271138    IGLVIVOR22-1\n",
       "Name: gene_names, dtype: object"
      ]
     },
     "execution_count": 216,
     "metadata": {},
     "output_type": "execute_result"
    }
   ],
   "source": [
    "query_adata_full[:, adult_specific].var['gene_names'][query_adata_full[:, adult_specific].var['gene_names'].str.startswith(\"IG\")]"
   ]
  },
  {
   "cell_type": "code",
   "execution_count": 210,
   "id": "5ed5d6ab-90eb-4602-9d95-b62b9089c845",
   "metadata": {},
   "outputs": [
    {
     "data": {
      "text/plain": [
       "array(['AC020911.1', 'AC018638.7', 'AP001825.1', 'AJ003147.1',\n",
       "       'AP000753.2', 'AL357793.1', 'LINC02271', 'LINC01990', 'AC005580.1',\n",
       "       'MAD1L1', 'ZNF396', 'AC020978.5', 'AC241644.3', 'SYDE2', 'GK3P',\n",
       "       'AC080129.2', 'LINC01855', 'AC135068.9', 'HEY2', 'AL160408.4',\n",
       "       'AL133387.2', 'HSPB9', 'AC124784.1', 'AC010327.4', 'AL157838.1',\n",
       "       'ROBO1', 'SOX3', 'AC091100.1', 'TRIM39-RPP21', 'AP001830.1',\n",
       "       'ZNF436', 'PRDM12', 'GNG14', 'AC013726.1', 'SULF1', 'AC073591.1',\n",
       "       'AP003392.6', 'AC005329.3', 'AL591503.1', 'AP000759.1',\n",
       "       'AL353622.2', 'LINC00924', 'RARRES3', 'AC017104.3', 'AC104984.3',\n",
       "       'AL021807.1', 'LINC02365', 'AC018754.1', 'AL122125.1',\n",
       "       'AC110615.1', 'SHC4', 'LINC01865', 'AL353801.2', 'LMOD1',\n",
       "       'AL355916.2', 'AL008718.2', 'AC055874.1', 'AC008676.1',\n",
       "       'AL391117.1', 'AL512770.1', 'AL121974.1', 'C3AR1', 'AC008514.1',\n",
       "       'AL139280.1', 'AC005387.1', 'AL022310.1', 'AC016705.2', 'GRIN2C',\n",
       "       'AC006547.3', 'AC023906.4', 'AL022328.3', 'PCLAF', 'AC104316.1',\n",
       "       'CYP3A43', 'AP001266.2', 'AL161431.1', 'CASK-AS1', 'ZFAT-AS1',\n",
       "       'HCAR1', 'AL513318.2', 'AL359555.1', 'AC010746.1', 'AL133464.1',\n",
       "       'AC105020.2', 'AL358075.1', 'PRR7-AS1', 'AC009831.1', 'AL451062.3',\n",
       "       'PAK3', 'ALPG', 'AC004232.2', 'ADHFE1', 'LINC02312', 'AC005899.1',\n",
       "       'AC100863.1', 'AC002511.1', 'AC110285.3', 'AL445363.1', 'MAPT-AS1',\n",
       "       'AC104389.4'], dtype=object)"
      ]
     },
     "execution_count": 210,
     "metadata": {},
     "output_type": "execute_result"
    }
   ],
   "source": [
    "intersect_df = example.reset_index()\n",
    "fetal_specific = intersect_df[(~intersect_df['joint']) & (~intersect_df['adult']) & intersect_df['fetal']]['id']\n",
    "adult_specific = intersect_df[(~intersect_df['joint']) & (intersect_df['adult']) & (~intersect_df['fetal'])]['id']\n",
    "np.random.choice(ref_adata[:, fetal_specific].var['GeneName'], 100)"
   ]
  },
  {
   "cell_type": "markdown",
   "id": "69cbd3b3-2ece-46dc-9446-7863672047bd",
   "metadata": {},
   "source": [
    "---"
   ]
  },
  {
   "cell_type": "markdown",
   "id": "c5685ea4-ac2d-42cc-9e56-22dee30c492b",
   "metadata": {},
   "source": [
    "## Myeloid cells"
   ]
  },
  {
   "cell_type": "markdown",
   "id": "1c159768-4b9a-40d1-a826-a47450a12539",
   "metadata": {
    "tags": []
   },
   "source": [
    "### Read and merge datasets"
   ]
  },
  {
   "cell_type": "code",
   "execution_count": 54,
   "id": "fb385129-22d8-4615-aa52-a3458d494e24",
   "metadata": {},
   "outputs": [],
   "source": [
    "ref_data_dir = '/home/jupyter/mount/gdrive/Pan_fetal/data4gpu_node/'\n",
    "timestamp = '20210429'\n",
    "query_h5ad_file = '/home/jupyter/mount/gdrive/Pan_fetal/data4gpu_node/panimmune_full_MYELOID_query.h5ad'\n",
    "split = 'MYELOID_NEW'"
   ]
  },
  {
   "cell_type": "code",
   "execution_count": 55,
   "id": "96fdfc8f-6e74-4c6f-95ef-7ba6c7b38ff3",
   "metadata": {},
   "outputs": [],
   "source": [
    "query_adata_full = sc.read_h5ad(query_h5ad_file)"
   ]
  },
  {
   "cell_type": "code",
   "execution_count": 56,
   "id": "0bfb63c5-08a1-40b4-b593-5600c154df3c",
   "metadata": {},
   "outputs": [
    {
     "name": "stderr",
     "output_type": "stream",
     "text": [
      "Variable names are not unique. To make them unique, call `.var_names_make_unique`.\n"
     ]
    }
   ],
   "source": [
    "## Read reference\n",
    "ref_adata = sc.read_h5ad(ref_data_dir + 'PAN.A01.v01.entire_data_raw_count.{t}.{s}.h5ad'.format(t=timestamp, s=split))\n",
    "ref_adata.var_names = ref_adata.var.GeneID\n",
    "\n",
    "## Merge\n",
    "concat_adata = anndata.concat([ref_adata, query_adata_full], axis=0,\n",
    "                              label=\"dataset\", keys=[\"fetal\", \"adult\"],\n",
    "                              join=\"outer\", merge=\"unique\", uns_merge=\"unique\")\n",
    "concat_adata.obs_names = concat_adata.obs_names + \"-\" + concat_adata.obs[\"dataset\"].astype(\"str\")"
   ]
  },
  {
   "cell_type": "code",
   "execution_count": 57,
   "id": "33a19a66-7e08-4a4b-87ce-41b5a369ff2b",
   "metadata": {},
   "outputs": [],
   "source": [
    "## Restrict to common genes\n",
    "concat_adata = concat_adata[:,concat_adata.var['GeneID'] == concat_adata.var['gene_ids']].copy()"
   ]
  },
  {
   "cell_type": "markdown",
   "id": "0613b9e5-1dd5-452d-a874-dde4e567320c",
   "metadata": {},
   "source": [
    "## Load metadata for fetal cells"
   ]
  },
  {
   "cell_type": "code",
   "execution_count": 58,
   "id": "d2378d46-8ce8-408f-a2c3-19acf3c6b9d3",
   "metadata": {},
   "outputs": [
    {
     "name": "stderr",
     "output_type": "stream",
     "text": [
      "/opt/conda/envs/ed6/lib/python3.8/site-packages/IPython/core/interactiveshell.py:3444: DtypeWarning: Columns (6) have mixed types.Specify dtype option on import or set low_memory=False.\n",
      "  exec(code_obj, self.user_global_ns, self.user_ns)\n"
     ]
    }
   ],
   "source": [
    "anno_obs = pd.read_csv(ref_data_dir + \"PAN.A01.v01.entire_data_normalised_log.20210429.full_obs.annotated.clean.csv\", index_col=0)"
   ]
  },
  {
   "cell_type": "code",
   "execution_count": 59,
   "id": "0f5dfc48-9f5c-4c57-b2aa-dc18cdc01f51",
   "metadata": {},
   "outputs": [],
   "source": [
    "fetal_cell_ixs = concat_adata.obs_names[concat_adata.obs['dataset'] == 'fetal'].str.strip('-fetal')\n",
    "fetal_cell_ixs = fetal_cell_ixs[fetal_cell_ixs.isin(anno_obs.index)] # There is a small number of missing cells (42 cells) from anno_obs and I don't know why??\n",
    "\n",
    "concat_adata.obs['organ'] = np.nan\n",
    "concat_adata.obs.loc[fetal_cell_ixs+'-fetal', 'organ'] = anno_obs.loc[fetal_cell_ixs, 'organ'].astype('str').values\n",
    "concat_adata.obs['gestational_age'] = np.nan\n",
    "concat_adata.obs.loc[fetal_cell_ixs+'-fetal', 'gestational_age'] = anno_obs.loc[fetal_cell_ixs, 'age'].astype('int').values\n",
    "concat_adata.obs['annotation_fetal'] = np.nan\n",
    "concat_adata.obs.loc[fetal_cell_ixs+'-fetal', 'annotation_fetal'] = anno_obs.loc[fetal_cell_ixs, 'anno_lvl_2_final_clean'].astype('str').values\n",
    "\n",
    "## Add common metadata (covs used for integration)\n",
    "concat_adata.obs['donor'] = concat_adata.obs['donor'].astype(\"str\")\n",
    "concat_adata.obs['method'] = concat_adata.obs['method'].astype(\"str\")\n",
    "concat_adata.obs.loc[fetal_cell_ixs+'-fetal', 'donor'] = anno_obs.loc[fetal_cell_ixs, 'donor'].astype('str').values\n",
    "concat_adata.obs.loc[fetal_cell_ixs+'-fetal', 'method'] = anno_obs.loc[fetal_cell_ixs, 'method'].astype('str').values\n",
    "concat_adata = concat_adata[concat_adata.obs['donor']!='nan'].copy()"
   ]
  },
  {
   "cell_type": "markdown",
   "id": "d958da24-da69-41ed-a0e3-96cdf6f8e5eb",
   "metadata": {},
   "source": [
    "## Feature selection"
   ]
  },
  {
   "cell_type": "code",
   "execution_count": 60,
   "id": "fac527df-c4f3-4268-848c-544e891f0e40",
   "metadata": {},
   "outputs": [],
   "source": [
    "concat_adata_pp = concat_adata.copy()"
   ]
  },
  {
   "cell_type": "code",
   "execution_count": 61,
   "id": "3a7391c5-7fa5-4bb1-9fc7-5a7ba498ef9f",
   "metadata": {},
   "outputs": [
    {
     "data": {
      "text/html": [
       "<div>\n",
       "<style scoped>\n",
       "    .dataframe tbody tr th:only-of-type {\n",
       "        vertical-align: middle;\n",
       "    }\n",
       "\n",
       "    .dataframe tbody tr th {\n",
       "        vertical-align: top;\n",
       "    }\n",
       "\n",
       "    .dataframe thead th {\n",
       "        text-align: right;\n",
       "    }\n",
       "</style>\n",
       "<table border=\"1\" class=\"dataframe\">\n",
       "  <thead>\n",
       "    <tr style=\"text-align: right;\">\n",
       "      <th></th>\n",
       "      <th>GeneID</th>\n",
       "      <th>GeneName</th>\n",
       "      <th>gene_names</th>\n",
       "      <th>highly_variable</th>\n",
       "      <th>gene_ids</th>\n",
       "      <th>feature_types</th>\n",
       "      <th>means</th>\n",
       "      <th>dispersions</th>\n",
       "      <th>dispersions_norm</th>\n",
       "    </tr>\n",
       "  </thead>\n",
       "  <tbody>\n",
       "    <tr>\n",
       "      <th>ENSG00000000003</th>\n",
       "      <td>ENSG00000000003</td>\n",
       "      <td>TSPAN6</td>\n",
       "      <td>TSPAN6</td>\n",
       "      <td>False</td>\n",
       "      <td>ENSG00000000003</td>\n",
       "      <td>Gene Expression</td>\n",
       "      <td>0.467662</td>\n",
       "      <td>2.829521</td>\n",
       "      <td>-0.481834</td>\n",
       "    </tr>\n",
       "    <tr>\n",
       "      <th>ENSG00000000005</th>\n",
       "      <td>ENSG00000000005</td>\n",
       "      <td>TNMD</td>\n",
       "      <td>TNMD</td>\n",
       "      <td>True</td>\n",
       "      <td>ENSG00000000005</td>\n",
       "      <td>Gene Expression</td>\n",
       "      <td>0.022991</td>\n",
       "      <td>3.384258</td>\n",
       "      <td>0.646807</td>\n",
       "    </tr>\n",
       "    <tr>\n",
       "      <th>ENSG00000000419</th>\n",
       "      <td>ENSG00000000419</td>\n",
       "      <td>DPM1</td>\n",
       "      <td>DPM1</td>\n",
       "      <td>False</td>\n",
       "      <td>ENSG00000000419</td>\n",
       "      <td>Gene Expression</td>\n",
       "      <td>1.479210</td>\n",
       "      <td>2.831757</td>\n",
       "      <td>-0.658613</td>\n",
       "    </tr>\n",
       "    <tr>\n",
       "      <th>ENSG00000000457</th>\n",
       "      <td>ENSG00000000457</td>\n",
       "      <td>SCYL3</td>\n",
       "      <td>SCYL3</td>\n",
       "      <td>False</td>\n",
       "      <td>ENSG00000000457</td>\n",
       "      <td>Gene Expression</td>\n",
       "      <td>0.422044</td>\n",
       "      <td>2.882859</td>\n",
       "      <td>-0.361363</td>\n",
       "    </tr>\n",
       "    <tr>\n",
       "      <th>ENSG00000000460</th>\n",
       "      <td>ENSG00000000460</td>\n",
       "      <td>C1orf112</td>\n",
       "      <td>C1orf112</td>\n",
       "      <td>False</td>\n",
       "      <td>ENSG00000000460</td>\n",
       "      <td>Gene Expression</td>\n",
       "      <td>0.453066</td>\n",
       "      <td>2.842742</td>\n",
       "      <td>-0.451971</td>\n",
       "    </tr>\n",
       "    <tr>\n",
       "      <th>...</th>\n",
       "      <td>...</td>\n",
       "      <td>...</td>\n",
       "      <td>...</td>\n",
       "      <td>...</td>\n",
       "      <td>...</td>\n",
       "      <td>...</td>\n",
       "      <td>...</td>\n",
       "      <td>...</td>\n",
       "      <td>...</td>\n",
       "    </tr>\n",
       "    <tr>\n",
       "      <th>ENSG00000282851</th>\n",
       "      <td>ENSG00000282851</td>\n",
       "      <td>BISPR</td>\n",
       "      <td>BISPR</td>\n",
       "      <td>False</td>\n",
       "      <td>ENSG00000282851</td>\n",
       "      <td>Gene Expression</td>\n",
       "      <td>0.613299</td>\n",
       "      <td>2.989673</td>\n",
       "      <td>-0.120112</td>\n",
       "    </tr>\n",
       "    <tr>\n",
       "      <th>ENSG00000282939</th>\n",
       "      <td>ENSG00000282939</td>\n",
       "      <td>TRBV7-2</td>\n",
       "      <td>TRBV7-2</td>\n",
       "      <td>True</td>\n",
       "      <td>ENSG00000282939</td>\n",
       "      <td>Gene Expression</td>\n",
       "      <td>0.045658</td>\n",
       "      <td>5.255836</td>\n",
       "      <td>3.730287</td>\n",
       "    </tr>\n",
       "    <tr>\n",
       "      <th>ENSG00000282961</th>\n",
       "      <td>ENSG00000282961</td>\n",
       "      <td>PRNCR1</td>\n",
       "      <td>PRNCR1</td>\n",
       "      <td>False</td>\n",
       "      <td>ENSG00000282961</td>\n",
       "      <td>Gene Expression</td>\n",
       "      <td>0.115570</td>\n",
       "      <td>2.921760</td>\n",
       "      <td>-0.115173</td>\n",
       "    </tr>\n",
       "    <tr>\n",
       "      <th>ENSG00000283039</th>\n",
       "      <td>ENSG00000283039</td>\n",
       "      <td>KLF18</td>\n",
       "      <td>KLF18</td>\n",
       "      <td>False</td>\n",
       "      <td>ENSG00000283039</td>\n",
       "      <td>Gene Expression</td>\n",
       "      <td>0.000030</td>\n",
       "      <td>2.124606</td>\n",
       "      <td>-1.428508</td>\n",
       "    </tr>\n",
       "    <tr>\n",
       "      <th>ENSG00000283063</th>\n",
       "      <td>ENSG00000283063</td>\n",
       "      <td>TRBV6-2</td>\n",
       "      <td>TRBV6-2</td>\n",
       "      <td>True</td>\n",
       "      <td>ENSG00000283063</td>\n",
       "      <td>Gene Expression</td>\n",
       "      <td>0.006783</td>\n",
       "      <td>4.577290</td>\n",
       "      <td>2.612362</td>\n",
       "    </tr>\n",
       "  </tbody>\n",
       "</table>\n",
       "<p>21794 rows × 9 columns</p>\n",
       "</div>"
      ],
      "text/plain": [
       "                          GeneID  GeneName gene_names  highly_variable  \\\n",
       "ENSG00000000003  ENSG00000000003    TSPAN6     TSPAN6            False   \n",
       "ENSG00000000005  ENSG00000000005      TNMD       TNMD             True   \n",
       "ENSG00000000419  ENSG00000000419      DPM1       DPM1            False   \n",
       "ENSG00000000457  ENSG00000000457     SCYL3      SCYL3            False   \n",
       "ENSG00000000460  ENSG00000000460  C1orf112   C1orf112            False   \n",
       "...                          ...       ...        ...              ...   \n",
       "ENSG00000282851  ENSG00000282851     BISPR      BISPR            False   \n",
       "ENSG00000282939  ENSG00000282939   TRBV7-2    TRBV7-2             True   \n",
       "ENSG00000282961  ENSG00000282961    PRNCR1     PRNCR1            False   \n",
       "ENSG00000283039  ENSG00000283039     KLF18      KLF18            False   \n",
       "ENSG00000283063  ENSG00000283063   TRBV6-2    TRBV6-2             True   \n",
       "\n",
       "                        gene_ids    feature_types     means  dispersions  \\\n",
       "ENSG00000000003  ENSG00000000003  Gene Expression  0.467662     2.829521   \n",
       "ENSG00000000005  ENSG00000000005  Gene Expression  0.022991     3.384258   \n",
       "ENSG00000000419  ENSG00000000419  Gene Expression  1.479210     2.831757   \n",
       "ENSG00000000457  ENSG00000000457  Gene Expression  0.422044     2.882859   \n",
       "ENSG00000000460  ENSG00000000460  Gene Expression  0.453066     2.842742   \n",
       "...                          ...              ...       ...          ...   \n",
       "ENSG00000282851  ENSG00000282851  Gene Expression  0.613299     2.989673   \n",
       "ENSG00000282939  ENSG00000282939  Gene Expression  0.045658     5.255836   \n",
       "ENSG00000282961  ENSG00000282961  Gene Expression  0.115570     2.921760   \n",
       "ENSG00000283039  ENSG00000283039  Gene Expression  0.000030     2.124606   \n",
       "ENSG00000283063  ENSG00000283063  Gene Expression  0.006783     4.577290   \n",
       "\n",
       "                 dispersions_norm  \n",
       "ENSG00000000003         -0.481834  \n",
       "ENSG00000000005          0.646807  \n",
       "ENSG00000000419         -0.658613  \n",
       "ENSG00000000457         -0.361363  \n",
       "ENSG00000000460         -0.451971  \n",
       "...                           ...  \n",
       "ENSG00000282851         -0.120112  \n",
       "ENSG00000282939          3.730287  \n",
       "ENSG00000282961         -0.115173  \n",
       "ENSG00000283039         -1.428508  \n",
       "ENSG00000283063          2.612362  \n",
       "\n",
       "[21794 rows x 9 columns]"
      ]
     },
     "execution_count": 61,
     "metadata": {},
     "output_type": "execute_result"
    }
   ],
   "source": [
    "## Save dispersion estimates for HVG selection\n",
    "concat_adata_pp.var_names_make_unique()\n",
    "sc.pp.normalize_per_cell(concat_adata_pp, counts_per_cell_after=10e4)\n",
    "sc.pp.log1p(concat_adata_pp)\n",
    "sc.pp.highly_variable_genes(concat_adata_pp, min_mean=0.001, max_mean=10, subset=False)\n",
    "concat_adata_pp.var"
   ]
  },
  {
   "cell_type": "code",
   "execution_count": 62,
   "id": "f12b2bb4-0d11-452e-a60e-feaa81d589fe",
   "metadata": {},
   "outputs": [],
   "source": [
    "concat_adata.var = concat_adata_pp.var.copy()"
   ]
  },
  {
   "cell_type": "code",
   "execution_count": 63,
   "id": "9320524d-1724-4d90-b95c-db0211ec761b",
   "metadata": {},
   "outputs": [
    {
     "name": "stderr",
     "output_type": "stream",
     "text": [
      "/opt/conda/envs/ed6/lib/python3.8/site-packages/anndata/_core/anndata.py:1220: FutureWarning: The `inplace` parameter in pandas.Categorical.reorder_categories is deprecated and will be removed in a future version. Reordering categories will always return a new Categorical object.\n",
      "  c.reorder_categories(natsorted(c.categories), inplace=True)\n",
      "... storing 'donor' as categorical\n",
      "/opt/conda/envs/ed6/lib/python3.8/site-packages/anndata/_core/anndata.py:1220: FutureWarning: The `inplace` parameter in pandas.Categorical.reorder_categories is deprecated and will be removed in a future version. Reordering categories will always return a new Categorical object.\n",
      "  c.reorder_categories(natsorted(c.categories), inplace=True)\n",
      "... storing 'method' as categorical\n",
      "/opt/conda/envs/ed6/lib/python3.8/site-packages/anndata/_core/anndata.py:1220: FutureWarning: The `inplace` parameter in pandas.Categorical.reorder_categories is deprecated and will be removed in a future version. Reordering categories will always return a new Categorical object.\n",
      "  c.reorder_categories(natsorted(c.categories), inplace=True)\n",
      "... storing 'organ' as categorical\n",
      "/opt/conda/envs/ed6/lib/python3.8/site-packages/anndata/_core/anndata.py:1220: FutureWarning: The `inplace` parameter in pandas.Categorical.reorder_categories is deprecated and will be removed in a future version. Reordering categories will always return a new Categorical object.\n",
      "  c.reorder_categories(natsorted(c.categories), inplace=True)\n",
      "... storing 'annotation_fetal' as categorical\n"
     ]
    }
   ],
   "source": [
    "concat_adata.write_h5ad(ref_data_dir + 'merged_fetal_adult.MYELOID_NEW.h5ad')"
   ]
  },
  {
   "cell_type": "code",
   "execution_count": 64,
   "id": "0091ac56-4749-41f1-ba38-e88a26b0bcbd",
   "metadata": {},
   "outputs": [],
   "source": [
    "concat_adata = prep_scVI(concat_adata, n_hvgs=10000, remove_cc_genes=True, remove_tcr_bcr_genes=True)"
   ]
  },
  {
   "cell_type": "code",
   "execution_count": 65,
   "id": "76ffa0a1-5801-4589-95a0-943788fadc6b",
   "metadata": {},
   "outputs": [],
   "source": [
    "concat_adata.write_h5ad(ref_data_dir + 'merged_fetal_adult.MYELOID_NEW.4scvi.h5ad')"
   ]
  },
  {
   "cell_type": "code",
   "execution_count": null,
   "id": "681c0147-6ca6-4f72-87da-57348fae5045",
   "metadata": {},
   "outputs": [],
   "source": [
    "# concat_adata = sc.read_h5ad(ref_data_dir + 'merged_fetal_adult.LYMPHOID.4scvi.h5ad')"
   ]
  },
  {
   "cell_type": "markdown",
   "id": "b3dc10b2-f666-421a-b15d-e13f19a02134",
   "metadata": {},
   "source": [
    "## Run scVI integration"
   ]
  },
  {
   "cell_type": "code",
   "execution_count": 66,
   "id": "52f86843-20b9-4c16-a7eb-6cd8241c5722",
   "metadata": {},
   "outputs": [
    {
     "name": "stdout",
     "output_type": "stream",
     "text": [
      "\u001b[34mINFO    \u001b[0m No batch_key inputted, assuming all cells are same batch                            \n",
      "\u001b[34mINFO    \u001b[0m No label_key inputted, assuming all cells have same label                           \n",
      "\u001b[34mINFO    \u001b[0m Using data from adata.X                                                             \n",
      "\u001b[34mINFO    \u001b[0m Successfully registered anndata object containing \u001b[1;36m276851\u001b[0m cells, \u001b[1;36m10000\u001b[0m vars, \u001b[1;36m1\u001b[0m       \n",
      "         batches, \u001b[1;36m1\u001b[0m labels, and \u001b[1;36m0\u001b[0m proteins. Also registered \u001b[1;36m2\u001b[0m extra categorical covariates   \n",
      "         and \u001b[1;36m0\u001b[0m extra continuous covariates.                                                  \n",
      "\u001b[34mINFO    \u001b[0m Please do not further modify adata until model is trained.                          \n"
     ]
    },
    {
     "name": "stderr",
     "output_type": "stream",
     "text": [
      "GPU available: True, used: True\n",
      "TPU available: False, using: 0 TPU cores\n",
      "LOCAL_RANK: 0 - CUDA_VISIBLE_DEVICES: [0]\n"
     ]
    },
    {
     "name": "stdout",
     "output_type": "stream",
     "text": [
      "Epoch 400/400: 100%|██████████| 400/400 [18:05<00:00,  2.71s/it, loss=2.16e+03, v_num=1]\n"
     ]
    }
   ],
   "source": [
    "vae = train_scVI(concat_adata, n_dims=20)\n",
    "concat_adata.obsm[\"X_scVI\"] = vae.get_latent_representation()"
   ]
  },
  {
   "cell_type": "code",
   "execution_count": 67,
   "id": "c4a5d96c-ffb6-41d0-9485-030619fccd89",
   "metadata": {},
   "outputs": [
    {
     "data": {
      "image/png": "[encoded data removed]",
      "text/plain": [
       "<Figure size 432x288 with 1 Axes>"
      ]
     },
     "metadata": {
      "needs_background": "light"
     },
     "output_type": "display_data"
    }
   ],
   "source": [
    "## Plot convergence\n",
    "sns.set_context(\"talk\")\n",
    "plt.plot(vae.history[\"elbo_train\"], label=\"Training\");\n",
    "plt.plot(vae.history[\"elbo_validation\"], label=\"Validation\");\n",
    "plt.legend();\n",
    "plt.xlabel(\"epoch\");\n",
    "plt.ylabel(\"ELBO\");\n",
    "# plt.savefig(\"{f}/scvi_training_elbo_{s}.pdf\".format(s=s, f=figdir), bbox_inches=\"tight\")"
   ]
  },
  {
   "cell_type": "code",
   "execution_count": 68,
   "id": "61f70f71-2430-453a-8612-838bc30d9aeb",
   "metadata": {},
   "outputs": [],
   "source": [
    "## Save object\n",
    "outname = \"merged_fetal_adult.{s}.scVI_out.npy\".format(s=split)\n",
    "np.save(ref_data_dir + outname, concat_adata.obsm[\"X_scVI\"])\n",
    "\n",
    "# save the model\n",
    "model_dir = 'scvi_merged_fetal_adult_{s}_model/'.format(s=split)\n",
    "if not os.path.exists(ref_data_dir + model_dir):\n",
    "    os.mkdir(ref_data_dir + model_dir)\n",
    "vae.save(ref_data_dir + model_dir, overwrite=True)"
   ]
  },
  {
   "cell_type": "code",
   "execution_count": null,
   "id": "b37442e8-17a0-4257-8c9d-3a5ff537ec63",
   "metadata": {},
   "outputs": [],
   "source": []
  }
 ],
 "metadata": {
  "environment": {
   "name": "common-cu110.m80",
   "type": "gcloud",
   "uri": "gcr.io/deeplearning-platform-release/base-cu110:m80"
  },
  "kernelspec": {
   "display_name": "Python [conda env:ed6]",
   "language": "python",
   "name": "conda-env-ed6-py"
  },
  "language_info": {
   "codemirror_mode": {
    "name": "ipython",
    "version": 3
   },
   "file_extension": ".py",
   "mimetype": "text/x-python",
   "name": "python",
   "nbconvert_exporter": "python",
   "pygments_lexer": "ipython3",
   "version": "3.8.12"
  }
 },
 "nbformat": 4,
 "nbformat_minor": 5
}
