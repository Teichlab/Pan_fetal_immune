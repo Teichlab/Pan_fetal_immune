{
 "cells": [
  {
   "cell_type": "code",
   "execution_count": 2,
   "id": "ideal-professional",
   "metadata": {},
   "outputs": [
    {
     "name": "stderr",
     "output_type": "stream",
     "text": [
      "📜 Retrieving model list from server https://celltypist.cog.sanger.ac.uk/models/models.json\n",
      "📚 Total models in list: 9\n",
      "📂 Storing models in /home/jovyan/.celltypist/data/models\n",
      "💾 Downloading model [1/9]: Immune_All_Low.pkl\n",
      "💾 Downloading model [2/9]: Immune_All_High.pkl\n",
      "💾 Downloading model [3/9]: Immune_All_PIP.pkl\n",
      "💾 Downloading model [4/9]: Immune_All_AddPIP.pkl\n",
      "💾 Downloading model [5/9]: Cells_Intestinal_Tract.pkl\n",
      "💾 Downloading model [6/9]: Cells_Lung_Airway.pkl\n",
      "💾 Downloading model [7/9]: Developing_Mouse_Brain.pkl\n",
      "💾 Downloading model [8/9]: Nuclei_Lung_Airway.pkl\n",
      "💾 Downloading model [9/9]: Pan_Fetal_Human.pkl\n",
      "🔬 Input data has 264929 cells and 31915 genes\n",
      "🔗 Matching reference genes in the model\n",
      "🧬 7121 features used for prediction\n",
      "⚖️ Scaling input data\n",
      "🖋️ Predicting labels\n",
      "✅ Prediction done!\n"
     ]
    },
    {
     "data": {
      "text/plain": [
       "CD4+T                          63162\n",
       "TYPE_1_INNATE_T                49940\n",
       "NK                             37222\n",
       "MATURE_B                       33690\n",
       "TREG                           18250\n",
       "HIGH_MITO                      13220\n",
       "CD8+T                          12095\n",
       "PLASMA_B                        7149\n",
       "B1                              6304\n",
       "TYPE_3_INNATE_T                 4923\n",
       "ILC3                            3998\n",
       "CYCLING_NK                      2431\n",
       "DOUBLET_LYMPHOID_MACROPHAGE     2149\n",
       "MACROPHAGE_ERY                  1445\n",
       "ABT(ENTRY)                       808\n",
       "PROMONOCYTE                      650\n",
       "MID_ERY                          430\n",
       "MACROPHAGE_LYVE1_HIGH            357\n",
       "FIBROBLAST_IV                    284\n",
       "FIBROBLAST_VII                   279\n",
       "DOUBLET                          245\n",
       "MYOFIBROBLAST                    225\n",
       "DOUBLET_IMMUNE_FIBROBLAST        224\n",
       "LMPP_MLP                         221\n",
       "MONOCYTE_III_IL1B                198\n",
       "LATE_ERY                         184\n",
       "MEMP                             176\n",
       "IMMATURE_B                       172\n",
       "DN(Q)_T                          163\n",
       "CYCLING_MPP                      154\n",
       "Name: predicted_labels, dtype: int64"
      ]
     },
     "execution_count": 2,
     "metadata": {},
     "output_type": "execute_result"
    }
   ],
   "source": [
    "import celltypist\n",
    "import scanpy as sc\n",
    "\n",
    "celltypist.models.download_models(force_update = True)\n",
    "model = celltypist.models.Model.load(model = 'Pan_Fetal_Human.pkl')\n",
    "query_h5ad_file = '/nfs/team205/ed6/data/Fetal_immune/panimmune_full_LYMPHOID_query.h5ad'\n",
    "query_adata_full = sc.read_h5ad(query_h5ad_file)\n",
    "sc.pp.normalize_per_cell(query_adata_full, counts_per_cell_after=1e4)\n",
    "sc.pp.log1p(query_adata_full)\n",
    "\n",
    "## match features in model\n",
    "query_adata_full.var_names = query_adata_full.var['GeneName'].astype('str').values\n",
    "\n",
    "predictions = celltypist.annotate(query_adata_full, model = model)\n",
    "\n",
    "query_adata_full = predictions.to_adata()\n",
    "n_cells = query_adata_full.obs['predicted_labels'].value_counts()\n",
    "n_cells[0:30]"
   ]
  },
  {
   "cell_type": "code",
   "execution_count": 9,
   "id": "breeding-shoulder",
   "metadata": {},
   "outputs": [
    {
     "name": "stderr",
     "output_type": "stream",
     "text": [
      "🔬 Input data has 264929 cells and 31915 genes\n",
      "🔗 Matching reference genes in the model\n",
      "🧬 7121 features used for prediction\n",
      "⚖️ Scaling input data\n",
      "🖋️ Predicting labels\n",
      "✅ Prediction done!\n"
     ]
    },
    {
     "data": {
      "text/plain": [
       "CD4+T                          63162\n",
       "TYPE_1_INNATE_T                49940\n",
       "NK                             37222\n",
       "MATURE_B                       33690\n",
       "TREG                           18250\n",
       "HIGH_MITO                      13220\n",
       "CD8+T                          12095\n",
       "PLASMA_B                        7149\n",
       "B1                              6304\n",
       "TYPE_3_INNATE_T                 4923\n",
       "ILC3                            3998\n",
       "CYCLING_NK                      2431\n",
       "DOUBLET_LYMPHOID_MACROPHAGE     2149\n",
       "MACROPHAGE_ERY                  1445\n",
       "ABT(ENTRY)                       808\n",
       "PROMONOCYTE                      650\n",
       "MID_ERY                          430\n",
       "MACROPHAGE_LYVE1_HIGH            357\n",
       "FIBROBLAST_IV                    284\n",
       "FIBROBLAST_VII                   279\n",
       "DOUBLET                          245\n",
       "MYOFIBROBLAST                    225\n",
       "DOUBLET_IMMUNE_FIBROBLAST        224\n",
       "LMPP_MLP                         221\n",
       "MONOCYTE_III_IL1B                198\n",
       "LATE_ERY                         184\n",
       "MEMP                             176\n",
       "IMMATURE_B                       172\n",
       "DN(Q)_T                          163\n",
       "CYCLING_MPP                      154\n",
       "Name: predicted_labels, dtype: int64"
      ]
     },
     "execution_count": 9,
     "metadata": {},
     "output_type": "execute_result"
    }
   ],
   "source": [
    "predictions = celltypist.annotate(query_adata_full, model = 'Pan_Fetal_Human.pkl')\n",
    "\n",
    "query_adata_full = predictions.to_adata()\n",
    "n_cells = query_adata_full.obs['predicted_labels'].value_counts()\n",
    "n_cells[0:30]"
   ]
  },
  {
   "cell_type": "code",
   "execution_count": null,
   "id": "trained-bride",
   "metadata": {},
   "outputs": [],
   "source": []
  }
 ],
 "metadata": {
  "kernelspec": {
   "display_name": "Python (emma_env)",
   "language": "python",
   "name": "emma_env"
  },
  "language_info": {
   "codemirror_mode": {
    "name": "ipython",
    "version": 3
   },
   "file_extension": ".py",
   "mimetype": "text/x-python",
   "name": "python",
   "nbconvert_exporter": "python",
   "pygments_lexer": "ipython3",
   "version": "3.7.8"
  }
 },
 "nbformat": 4,
 "nbformat_minor": 5
}
