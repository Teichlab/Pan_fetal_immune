{
 "cells": [
  {
   "cell_type": "markdown",
   "id": "compact-rider",
   "metadata": {},
   "source": [
    "# Fetal immune Visium ST data - exploration \n",
    "\n",
    "In this notebook we load and visualize spatial transcriptomics data from human developing organs. See [our preprint] for more information on how this data was generated."
   ]
  },
  {
   "cell_type": "code",
   "execution_count": 1,
   "id": "divine-bargain",
   "metadata": {},
   "outputs": [],
   "source": [
    "import scanpy as sc\n",
    "import pandas as pd\n",
    "import numpy as np"
   ]
  },
  {
   "cell_type": "markdown",
   "id": "pursuant-compiler",
   "metadata": {},
   "source": [
    "### Load data\n",
    "\n",
    "AnnData objects in `.h5ad` format can be downloaded from [here](). In this example we explore the data from fetal thymus.  "
   ]
  },
  {
   "cell_type": "code",
   "execution_count": 5,
   "id": "numeric-soundtrack",
   "metadata": {},
   "outputs": [],
   "source": [
    "th_data_file = '/nfs/team205/ed6/data/Fetal_immune/cellxgene_h5ad_files/Visium_data/Visium10X_data_TH.h5ad'\n",
    "# th_data_file = '/path/to/data/Visium10X_data_TH.h5ad'"
   ]
  },
  {
   "cell_type": "code",
   "execution_count": 6,
   "id": "antique-tattoo",
   "metadata": {},
   "outputs": [],
   "source": [
    "adata = sc.read_h5ad(th_data_file)"
   ]
  },
  {
   "cell_type": "code",
   "execution_count": 7,
   "id": "fitted-suicide",
   "metadata": {},
   "outputs": [
    {
     "data": {
      "text/plain": [
       "AnnData object with n_obs × n_vars = 4675 × 14786\n",
       "    obs: 'in_tissue', 'array_row', 'array_col', 'sample', 'n_genes_by_counts', 'log1p_n_genes_by_counts', 'total_counts', 'log1p_total_counts', 'pct_counts_in_top_50_genes', 'pct_counts_in_top_100_genes', 'pct_counts_in_top_200_genes', 'pct_counts_in_top_500_genes', 'mt_frac', 'img_id', 'EXP_id', 'Organ', 'Fetal_id', 'SN', 'Visium_Area_id', 'Age_PCW', 'Digestion time', 'Data_dir', 'Data_dir_name', 'paths', 'sample_id', '_scvi_batch', '_scvi_labels', '_indices', 'total_cell_abundance'\n",
       "    var: 'feature_types', 'genome', 'SYMBOL', 'mt'\n",
       "    uns: 'NMF_celltype_fractions', '_scvi', 'mod', 'spatial'\n",
       "    obsm: 'NMF', 'means_cell_abundance_w_sf', 'q05_cell_abundance_w_sf', 'q95_cell_abundance_w_sf', 'spatial', 'stds_cell_abundance_w_sf'"
      ]
     },
     "execution_count": 7,
     "metadata": {},
     "output_type": "execute_result"
    }
   ],
   "source": [
    "adata"
   ]
  },
  {
   "cell_type": "code",
   "execution_count": 22,
   "id": "atomic-victory",
   "metadata": {},
   "outputs": [
    {
     "data": {
      "text/plain": [
       "spot_id\n",
       "spaceranger130_count_36654_WSSS_F_IMMsp9838711_GRCh38-2020-A_AAACAAGTATCTCCCA-1    F121_LP1_3THY\n",
       "spaceranger130_count_36654_WSSS_F_IMMsp9838711_GRCh38-2020-A_AAACCCGAACGAAATC-1    F121_LP1_3THY\n",
       "spaceranger130_count_36654_WSSS_F_IMMsp9838711_GRCh38-2020-A_AAACCGGAAATGTTAA-1    F121_LP1_3THY\n",
       "spaceranger130_count_36654_WSSS_F_IMMsp9838711_GRCh38-2020-A_AAACGAGACGGTTGAT-1    F121_LP1_3THY\n",
       "spaceranger130_count_36654_WSSS_F_IMMsp9838711_GRCh38-2020-A_AAACTCGTGATATAAG-1    F121_LP1_3THY\n",
       "                                                                                       ...      \n",
       "spaceranger130_count_WSSS_F_IMMsp10864183_GRCh38-2020-A_TTGTGTATGCCACCAA-1         F136_LP4_3THY\n",
       "spaceranger130_count_WSSS_F_IMMsp10864183_GRCh38-2020-A_TTGTGTTTCCCGAAAG-1         F136_LP4_3THY\n",
       "spaceranger130_count_WSSS_F_IMMsp10864183_GRCh38-2020-A_TTGTTAGCAAATTCGA-1         F136_LP4_3THY\n",
       "spaceranger130_count_WSSS_F_IMMsp10864183_GRCh38-2020-A_TTGTTCAGTGTGCTAC-1         F136_LP4_3THY\n",
       "spaceranger130_count_WSSS_F_IMMsp10864183_GRCh38-2020-A_TTGTTGTGTGTCAAGA-1         F136_LP4_3THY\n",
       "Name: img_id, Length: 4675, dtype: category\n",
       "Categories (3, object): ['F121_LP1_3THY', 'F121_LP2_3THY', 'F136_LP4_3THY']"
      ]
     },
     "execution_count": 22,
     "metadata": {},
     "output_type": "execute_result"
    }
   ],
   "source": [
    "adata.obs['img_id']"
   ]
  },
  {
   "cell_type": "code",
   "execution_count": 18,
   "id": "domestic-currency",
   "metadata": {},
   "outputs": [
    {
     "data": {
      "text/plain": [
       "'/nfs/team205/ig7/work_backups/backup_210306/projects/Pan_fetal/Visium/data/spaceranger/'"
      ]
     },
     "execution_count": 18,
     "metadata": {},
     "output_type": "execute_result"
    }
   ],
   "source": [
    "import os\n",
    "df = pd.read_csv(\"../../metadata/p_fetal_visium_data_manifest_IS.csv\")\n",
    "\n",
    "df['Data_dir'][0]"
   ]
  },
  {
   "cell_type": "markdown",
   "id": "fancy-former",
   "metadata": {},
   "source": [
    "_to be continued..._"
   ]
  }
 ],
 "metadata": {
  "kernelspec": {
   "display_name": "Python (emma_env)",
   "language": "python",
   "name": "emma_env"
  },
  "language_info": {
   "codemirror_mode": {
    "name": "ipython",
    "version": 3
   },
   "file_extension": ".py",
   "mimetype": "text/x-python",
   "name": "python",
   "nbconvert_exporter": "python",
   "pygments_lexer": "ipython3",
   "version": "3.7.8"
  }
 },
 "nbformat": 4,
 "nbformat_minor": 5
}
