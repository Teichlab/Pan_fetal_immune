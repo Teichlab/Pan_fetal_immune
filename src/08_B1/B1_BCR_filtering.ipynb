{
 "cells": [
  {
   "cell_type": "markdown",
   "id": "dated-strip",
   "metadata": {},
   "source": [
    "# BCR data preprocessing"
   ]
  },
  {
   "cell_type": "code",
   "execution_count": 1,
   "id": "another-disaster",
   "metadata": {},
   "outputs": [
    {
     "name": "stdout",
     "output_type": "stream",
     "text": [
      "scanpy==1.8.1 anndata==0.7.6 umap==0.5.1 numpy==1.20.2 scipy==1.6.2 pandas==1.2.4 scikit-learn==0.24.2 statsmodels==0.12.2 python-igraph==0.9.1 pynndescent==0.5.2\n"
     ]
    }
   ],
   "source": [
    "import os\n",
    "import airr\n",
    "import pandas as pd\n",
    "import scanpy as sc\n",
    "\n",
    "sc.logging.print_header()"
   ]
  },
  {
   "cell_type": "code",
   "execution_count": 2,
   "id": "entitled-denmark",
   "metadata": {},
   "outputs": [
    {
     "name": "stdout",
     "output_type": "stream",
     "text": [
      "dandelion==0.1.9.dev13 pandas==1.2.4 numpy==1.20.2 matplotlib==3.3.4 networkx==2.5.1 scipy==1.6.2 skbio==0.5.6\n"
     ]
    }
   ],
   "source": [
    "import dandelion as ddl\n",
    "ddl.logging.print_header()"
   ]
  },
  {
   "cell_type": "code",
   "execution_count": 3,
   "id": "fourth-scott",
   "metadata": {},
   "outputs": [],
   "source": [
    "os.chdir('/lustre/scratch117/cellgen/team297/kt16/panfetal')"
   ]
  },
  {
   "cell_type": "code",
   "execution_count": 4,
   "id": "technological-functionality",
   "metadata": {
    "scrolled": true
   },
   "outputs": [
    {
     "data": {
      "text/plain": [
       "AnnData object with n_obs × n_vars = 241950 × 33538\n",
       "    obs: 'n_counts', 'n_genes', 'file', 'mito', 'doublet_scores', 'predicted_doublets', 'name', 'uniform_label', 'uniform_label_expanded_merged', 'uniform_label_lvl0', 'organ', 'Sample.lanes', 'Sort_id', 'age', 'method', 'donor', 'sex', 'Processing_method', 'AnnatomicalPart', 'Sample', 'bbk', 'scvi_clusters', 'anno_lvl_2_LYMPHOID', 'anno_lvl_2_MYELOID', 'anno_lvl_2_MEM_PROGENITORS', 'leiden_150'\n",
       "    var: 'GeneID', 'GeneName', 'highly_variable', 'means', 'dispersions', 'dispersions_norm'\n",
       "    uns: 'anno_lvl_2_LYMPHOID_colors', 'dendrogram_scvi_clusters', 'donor_colors', 'isin_HSC_IMMUNE_colors', 'isin_LYMPHOID_colors', 'isin_MEM_PROGENITORS_colors', 'isin_MYELOID_LYMPHOID_colors', 'isin_MYELOID_colors', 'isin_STROMA_colors', 'leiden_150_pred_label_expanded_colors', 'organ_colors', 'scvi', 'scvi_clusters_colors', 'uniform_label_expanded_merged_propagated_colors'\n",
       "    obsm: 'X_scvi', 'X_umap'\n",
       "    obsp: 'scvi_connectivities', 'scvi_distances'"
      ]
     },
     "execution_count": 4,
     "metadata": {},
     "output_type": "execute_result"
    }
   ],
   "source": [
    "adata = sc.read_h5ad('PAN.A01.v01.entire_data_normalised_log.20210429.LYMPHOID.embedding.h5ad')\n",
    "adata"
   ]
  },
  {
   "cell_type": "code",
   "execution_count": 5,
   "id": "civil-tribute",
   "metadata": {
    "scrolled": true
   },
   "outputs": [
    {
     "data": {
      "text/html": [
       "<div>\n",
       "<style scoped>\n",
       "    .dataframe tbody tr th:only-of-type {\n",
       "        vertical-align: middle;\n",
       "    }\n",
       "\n",
       "    .dataframe tbody tr th {\n",
       "        vertical-align: top;\n",
       "    }\n",
       "\n",
       "    .dataframe thead th {\n",
       "        text-align: right;\n",
       "    }\n",
       "</style>\n",
       "<table border=\"1\" class=\"dataframe\">\n",
       "  <thead>\n",
       "    <tr style=\"text-align: right;\">\n",
       "      <th></th>\n",
       "      <th>sample</th>\n",
       "      <th>prefix</th>\n",
       "      <th>individual</th>\n",
       "    </tr>\n",
       "  </thead>\n",
       "  <tbody>\n",
       "    <tr>\n",
       "      <th>0</th>\n",
       "      <td>WSSS_F_Imm10014564</td>\n",
       "      <td>FCAImmP7292029</td>\n",
       "      <td>F29</td>\n",
       "    </tr>\n",
       "    <tr>\n",
       "      <th>1</th>\n",
       "      <td>WSSS_F_Imm10014565</td>\n",
       "      <td>FCAImmP7292031</td>\n",
       "      <td>F29</td>\n",
       "    </tr>\n",
       "    <tr>\n",
       "      <th>2</th>\n",
       "      <td>WSSS_F_Imm10014566</td>\n",
       "      <td>FCAImmP7292030</td>\n",
       "      <td>F29</td>\n",
       "    </tr>\n",
       "    <tr>\n",
       "      <th>3</th>\n",
       "      <td>WSSS_F_Imm10014567</td>\n",
       "      <td>FCAImmP7555860</td>\n",
       "      <td>F41</td>\n",
       "    </tr>\n",
       "    <tr>\n",
       "      <th>4</th>\n",
       "      <td>WSSS_F_Imm10014568</td>\n",
       "      <td>FCAImmP7555856</td>\n",
       "      <td>F41</td>\n",
       "    </tr>\n",
       "    <tr>\n",
       "      <th>5</th>\n",
       "      <td>WSSS_F_Imm10014569</td>\n",
       "      <td>FCAImmP7555862</td>\n",
       "      <td>F41</td>\n",
       "    </tr>\n",
       "    <tr>\n",
       "      <th>6</th>\n",
       "      <td>WSSS_F_Imm10014570</td>\n",
       "      <td>FCAImmP7555859</td>\n",
       "      <td>F41</td>\n",
       "    </tr>\n",
       "    <tr>\n",
       "      <th>7</th>\n",
       "      <td>WSSS_F_Imm10014571</td>\n",
       "      <td>FCAImmP7579230</td>\n",
       "      <td>F45</td>\n",
       "    </tr>\n",
       "    <tr>\n",
       "      <th>8</th>\n",
       "      <td>WSSS_F_Imm10014572</td>\n",
       "      <td>FCAImmP7579226</td>\n",
       "      <td>F45</td>\n",
       "    </tr>\n",
       "    <tr>\n",
       "      <th>9</th>\n",
       "      <td>WSSS_F_Imm10014573</td>\n",
       "      <td>FCAImmP7579228</td>\n",
       "      <td>F45</td>\n",
       "    </tr>\n",
       "    <tr>\n",
       "      <th>10</th>\n",
       "      <td>WSSS_F_Imm10014574</td>\n",
       "      <td>FCAImmP7579232</td>\n",
       "      <td>F45</td>\n",
       "    </tr>\n",
       "    <tr>\n",
       "      <th>11</th>\n",
       "      <td>WSSS_F_Imm10014575</td>\n",
       "      <td>FCAImmP7803020</td>\n",
       "      <td>F50</td>\n",
       "    </tr>\n",
       "    <tr>\n",
       "      <th>12</th>\n",
       "      <td>WSSS_F_Imm10014576</td>\n",
       "      <td>FCAImmP7803021</td>\n",
       "      <td>F50</td>\n",
       "    </tr>\n",
       "    <tr>\n",
       "      <th>13</th>\n",
       "      <td>WSSS_F_Imm10014577</td>\n",
       "      <td>FCAImmP7803016</td>\n",
       "      <td>F50</td>\n",
       "    </tr>\n",
       "    <tr>\n",
       "      <th>14</th>\n",
       "      <td>WSSS_F_Imm10014578</td>\n",
       "      <td>FCAImmP7803017</td>\n",
       "      <td>F50</td>\n",
       "    </tr>\n",
       "    <tr>\n",
       "      <th>15</th>\n",
       "      <td>WSSS_F_Imm10014579</td>\n",
       "      <td>FCAImmP7803037</td>\n",
       "      <td>F51</td>\n",
       "    </tr>\n",
       "    <tr>\n",
       "      <th>16</th>\n",
       "      <td>WSSS_F_Imm10014580</td>\n",
       "      <td>FCAImmP7803038</td>\n",
       "      <td>F51</td>\n",
       "    </tr>\n",
       "    <tr>\n",
       "      <th>17</th>\n",
       "      <td>WSSS_F_Imm10014581</td>\n",
       "      <td>FCAImmP7803034</td>\n",
       "      <td>F51</td>\n",
       "    </tr>\n",
       "    <tr>\n",
       "      <th>18</th>\n",
       "      <td>WSSS_F_Imm10014582</td>\n",
       "      <td>FCAImmP7803035</td>\n",
       "      <td>F51</td>\n",
       "    </tr>\n",
       "    <tr>\n",
       "      <th>19</th>\n",
       "      <td>WSSS_F_Imm10014583</td>\n",
       "      <td>FCAImmP7803028</td>\n",
       "      <td>F51</td>\n",
       "    </tr>\n",
       "    <tr>\n",
       "      <th>20</th>\n",
       "      <td>WSSS_F_Imm10014584</td>\n",
       "      <td>FCAImmP7803029</td>\n",
       "      <td>F51</td>\n",
       "    </tr>\n",
       "    <tr>\n",
       "      <th>21</th>\n",
       "      <td>WSSS_F_Imm10014585</td>\n",
       "      <td>FCAImmP7803030</td>\n",
       "      <td>F51</td>\n",
       "    </tr>\n",
       "    <tr>\n",
       "      <th>22</th>\n",
       "      <td>WSSS_F_Imm10014586</td>\n",
       "      <td>FCAImmP7862084</td>\n",
       "      <td>F61</td>\n",
       "    </tr>\n",
       "    <tr>\n",
       "      <th>23</th>\n",
       "      <td>WSSS_F_Imm10014587</td>\n",
       "      <td>FCAImmP7964506</td>\n",
       "      <td>F71</td>\n",
       "    </tr>\n",
       "    <tr>\n",
       "      <th>24</th>\n",
       "      <td>WSSS_F_Imm10014588</td>\n",
       "      <td>FCAImmP7964507</td>\n",
       "      <td>F71</td>\n",
       "    </tr>\n",
       "    <tr>\n",
       "      <th>25</th>\n",
       "      <td>FCAImmP7812651</td>\n",
       "      <td>FCAImmP7803024</td>\n",
       "      <td>F50</td>\n",
       "    </tr>\n",
       "    <tr>\n",
       "      <th>26</th>\n",
       "      <td>FCAImmP7812652</td>\n",
       "      <td>FCAImmP7803025</td>\n",
       "      <td>F50</td>\n",
       "    </tr>\n",
       "    <tr>\n",
       "      <th>27</th>\n",
       "      <td>FCA_gut8090116</td>\n",
       "      <td>FCA_gut8015057</td>\n",
       "      <td>F78</td>\n",
       "    </tr>\n",
       "    <tr>\n",
       "      <th>28</th>\n",
       "      <td>FCA_gut8090117</td>\n",
       "      <td>FCA_gut8015058</td>\n",
       "      <td>F78</td>\n",
       "    </tr>\n",
       "    <tr>\n",
       "      <th>29</th>\n",
       "      <td>FCA_gut8090118</td>\n",
       "      <td>FCA_gut8015059</td>\n",
       "      <td>F78</td>\n",
       "    </tr>\n",
       "    <tr>\n",
       "      <th>30</th>\n",
       "      <td>FCA_gut8090119</td>\n",
       "      <td>FCA_gut8015060</td>\n",
       "      <td>F78</td>\n",
       "    </tr>\n",
       "    <tr>\n",
       "      <th>31</th>\n",
       "      <td>FCA_gut8090120</td>\n",
       "      <td>FCA_gut8015061</td>\n",
       "      <td>F78</td>\n",
       "    </tr>\n",
       "    <tr>\n",
       "      <th>32</th>\n",
       "      <td>Human_colon_16S8157863</td>\n",
       "      <td>Human_colon_16S8159182</td>\n",
       "      <td>F72</td>\n",
       "    </tr>\n",
       "    <tr>\n",
       "      <th>33</th>\n",
       "      <td>Human_colon_16S8157864</td>\n",
       "      <td>Human_colon_16S8159183</td>\n",
       "      <td>F72</td>\n",
       "    </tr>\n",
       "    <tr>\n",
       "      <th>34</th>\n",
       "      <td>Human_colon_16S8157865</td>\n",
       "      <td>Human_colon_16S8159184</td>\n",
       "      <td>F72</td>\n",
       "    </tr>\n",
       "    <tr>\n",
       "      <th>35</th>\n",
       "      <td>Human_colon_16S8157866</td>\n",
       "      <td>Human_colon_16S8159185</td>\n",
       "      <td>F72</td>\n",
       "    </tr>\n",
       "    <tr>\n",
       "      <th>36</th>\n",
       "      <td>Human_colon_16S8157867</td>\n",
       "      <td>Human_colon_16S8159186</td>\n",
       "      <td>F72</td>\n",
       "    </tr>\n",
       "    <tr>\n",
       "      <th>37</th>\n",
       "      <td>Human_colon_16S8157868</td>\n",
       "      <td>Human_colon_16S8159187</td>\n",
       "      <td>F73</td>\n",
       "    </tr>\n",
       "    <tr>\n",
       "      <th>38</th>\n",
       "      <td>Human_colon_16S8157869</td>\n",
       "      <td>Human_colon_16S8159188</td>\n",
       "      <td>F73</td>\n",
       "    </tr>\n",
       "    <tr>\n",
       "      <th>39</th>\n",
       "      <td>Human_colon_16S8157870</td>\n",
       "      <td>Human_colon_16S8159189</td>\n",
       "      <td>F73</td>\n",
       "    </tr>\n",
       "    <tr>\n",
       "      <th>40</th>\n",
       "      <td>Human_colon_16S8157871</td>\n",
       "      <td>Human_colon_16S8159190</td>\n",
       "      <td>F73</td>\n",
       "    </tr>\n",
       "  </tbody>\n",
       "</table>\n",
       "</div>"
      ],
      "text/plain": [
       "                    sample                  prefix individual\n",
       "0       WSSS_F_Imm10014564          FCAImmP7292029        F29\n",
       "1       WSSS_F_Imm10014565          FCAImmP7292031        F29\n",
       "2       WSSS_F_Imm10014566          FCAImmP7292030        F29\n",
       "3       WSSS_F_Imm10014567          FCAImmP7555860        F41\n",
       "4       WSSS_F_Imm10014568          FCAImmP7555856        F41\n",
       "5       WSSS_F_Imm10014569          FCAImmP7555862        F41\n",
       "6       WSSS_F_Imm10014570          FCAImmP7555859        F41\n",
       "7       WSSS_F_Imm10014571          FCAImmP7579230        F45\n",
       "8       WSSS_F_Imm10014572          FCAImmP7579226        F45\n",
       "9       WSSS_F_Imm10014573          FCAImmP7579228        F45\n",
       "10      WSSS_F_Imm10014574          FCAImmP7579232        F45\n",
       "11      WSSS_F_Imm10014575          FCAImmP7803020        F50\n",
       "12      WSSS_F_Imm10014576          FCAImmP7803021        F50\n",
       "13      WSSS_F_Imm10014577          FCAImmP7803016        F50\n",
       "14      WSSS_F_Imm10014578          FCAImmP7803017        F50\n",
       "15      WSSS_F_Imm10014579          FCAImmP7803037        F51\n",
       "16      WSSS_F_Imm10014580          FCAImmP7803038        F51\n",
       "17      WSSS_F_Imm10014581          FCAImmP7803034        F51\n",
       "18      WSSS_F_Imm10014582          FCAImmP7803035        F51\n",
       "19      WSSS_F_Imm10014583          FCAImmP7803028        F51\n",
       "20      WSSS_F_Imm10014584          FCAImmP7803029        F51\n",
       "21      WSSS_F_Imm10014585          FCAImmP7803030        F51\n",
       "22      WSSS_F_Imm10014586          FCAImmP7862084        F61\n",
       "23      WSSS_F_Imm10014587          FCAImmP7964506        F71\n",
       "24      WSSS_F_Imm10014588          FCAImmP7964507        F71\n",
       "25          FCAImmP7812651          FCAImmP7803024        F50\n",
       "26          FCAImmP7812652          FCAImmP7803025        F50\n",
       "27          FCA_gut8090116          FCA_gut8015057        F78\n",
       "28          FCA_gut8090117          FCA_gut8015058        F78\n",
       "29          FCA_gut8090118          FCA_gut8015059        F78\n",
       "30          FCA_gut8090119          FCA_gut8015060        F78\n",
       "31          FCA_gut8090120          FCA_gut8015061        F78\n",
       "32  Human_colon_16S8157863  Human_colon_16S8159182        F72\n",
       "33  Human_colon_16S8157864  Human_colon_16S8159183        F72\n",
       "34  Human_colon_16S8157865  Human_colon_16S8159184        F72\n",
       "35  Human_colon_16S8157866  Human_colon_16S8159185        F72\n",
       "36  Human_colon_16S8157867  Human_colon_16S8159186        F72\n",
       "37  Human_colon_16S8157868  Human_colon_16S8159187        F73\n",
       "38  Human_colon_16S8157869  Human_colon_16S8159188        F73\n",
       "39  Human_colon_16S8157870  Human_colon_16S8159189        F73\n",
       "40  Human_colon_16S8157871  Human_colon_16S8159190        F73"
      ]
     },
     "execution_count": 5,
     "metadata": {},
     "output_type": "execute_result"
    }
   ],
   "source": [
    "# read in bcr files\n",
    "bcr_meta = pd.read_csv('bcr/raw/BCR_metadata.csv')\n",
    "bcr_meta"
   ]
  },
  {
   "cell_type": "code",
   "execution_count": 6,
   "id": "english-dispatch",
   "metadata": {},
   "outputs": [
    {
     "data": {
      "text/plain": [
       "(181608, 82)"
      ]
     },
     "execution_count": 6,
     "metadata": {},
     "output_type": "execute_result"
    }
   ],
   "source": [
    "bcr = pd.DataFrame()\n",
    "for x in bcr_meta['sample']:\n",
    "    file = 'bcr/raw/'+x+'/dandelion/all_contig_igblast_db-pass_genotyped.tsv'\n",
    "    tmp = pd.read_csv(file, sep ='\\t')\n",
    "    bcr = bcr.append(tmp)\n",
    "bcr.shape"
   ]
  },
  {
   "cell_type": "code",
   "execution_count": 7,
   "id": "virgin-joint",
   "metadata": {},
   "outputs": [
    {
     "data": {
      "text/plain": [
       "(54889, 82)"
      ]
     },
     "execution_count": 7,
     "metadata": {},
     "output_type": "execute_result"
    }
   ],
   "source": [
    "# trim to only cells found in the adata object\n",
    "bcr = bcr[bcr['cell_id'].isin(adata.obs_names)].copy()\n",
    "bcr.shape"
   ]
  },
  {
   "cell_type": "code",
   "execution_count": 8,
   "id": "modern-gravity",
   "metadata": {},
   "outputs": [
    {
     "name": "stderr",
     "output_type": "stream",
     "text": [
      "Preparing data: 45606it [01:29, 508.29it/s] \n",
      "Scanning for poor quality/ambiguous contigs: 100%|██████████| 25706/25706 [02:42<00:00, 158.61it/s]\n",
      "Annotating in anndata obs slot : 100%|██████████| 241950/241950 [00:10<00:00, 23464.55it/s]\n"
     ]
    },
    {
     "name": "stdout",
     "output_type": "stream",
     "text": [
      "Finishing up filtering\n",
      "Initializing Dandelion object\n",
      "CPU times: user 5min 1s, sys: 2.45 s, total: 5min 4s\n",
      "Wall time: 5min 54s\n"
     ]
    }
   ],
   "source": [
    "%%time\n",
    "vdj1, adata1 = ddl.pp.filter_contigs(bcr, adata, productive_only=True)"
   ]
  },
  {
   "cell_type": "code",
   "execution_count": 9,
   "id": "interpreted-audit",
   "metadata": {},
   "outputs": [
    {
     "name": "stderr",
     "output_type": "stream",
     "text": [
      "Preparing data: 54889it [00:57, 961.12it/s] \n",
      "Scanning for poor quality/ambiguous contigs: 100%|██████████| 26725/26725 [03:11<00:00, 139.32it/s]\n",
      "Annotating in anndata obs slot : 100%|██████████| 241950/241950 [00:09<00:00, 24548.53it/s]\n"
     ]
    },
    {
     "name": "stdout",
     "output_type": "stream",
     "text": [
      "Finishing up filtering\n",
      "Initializing Dandelion object\n",
      "CPU times: user 6min 2s, sys: 2.94 s, total: 6min 5s\n",
      "Wall time: 6min 11s\n"
     ]
    }
   ],
   "source": [
    "%%time\n",
    "vdj2, adata2 = ddl.pp.filter_contigs(bcr, adata, productive_only=False)"
   ]
  },
  {
   "cell_type": "code",
   "execution_count": 10,
   "id": "original-decline",
   "metadata": {},
   "outputs": [
    {
     "name": "stderr",
     "output_type": "stream",
     "text": [
      "Preparing data: 54889it [01:04, 855.22it/s] \n",
      "Scanning for poor quality/ambiguous contigs: 100%|██████████| 26725/26725 [03:07<00:00, 142.67it/s]\n",
      "Annotating in anndata obs slot : 100%|██████████| 241950/241950 [00:00<00:00, 888230.95it/s]\n"
     ]
    },
    {
     "name": "stdout",
     "output_type": "stream",
     "text": [
      "Finishing up filtering\n",
      "Initializing Dandelion object\n",
      "CPU times: user 6min 4s, sys: 3.11 s, total: 6min 7s\n",
      "Wall time: 6min 24s\n"
     ]
    }
   ],
   "source": [
    "%%time\n",
    "vdj3, adata3 = ddl.pp.filter_contigs(bcr, adata, productive_only=False, simple = True) # back-up in case the step above failed"
   ]
  },
  {
   "cell_type": "markdown",
   "id": "cardiovascular-building",
   "metadata": {},
   "source": [
    "### Find clones"
   ]
  },
  {
   "cell_type": "code",
   "execution_count": 11,
   "id": "optimum-soldier",
   "metadata": {},
   "outputs": [
    {
     "name": "stderr",
     "output_type": "stream",
     "text": [
      "Finding clones based on VDJ chains : 100%|██████████| 312/312 [00:01<00:00, 156.01it/s]\n",
      "Refining clone assignment based on VJ chain pairing : 100%|██████████| 21898/21898 [00:00<00:00, 519237.42it/s]\n"
     ]
    },
    {
     "name": "stdout",
     "output_type": "stream",
     "text": [
      "CPU times: user 58.1 s, sys: 421 ms, total: 58.5 s\n",
      "Wall time: 1min\n"
     ]
    }
   ],
   "source": [
    "%%time\n",
    "ddl.tl.find_clones(vdj1)"
   ]
  },
  {
   "cell_type": "code",
   "execution_count": 12,
   "id": "patent-joint",
   "metadata": {},
   "outputs": [
    {
     "name": "stderr",
     "output_type": "stream",
     "text": [
      "Finding clones based on VDJ chains : 100%|██████████| 393/393 [00:02<00:00, 155.95it/s]\n",
      "Refining clone assignment based on VJ chain pairing : 100%|██████████| 22451/22451 [00:00<00:00, 460419.21it/s]\n"
     ]
    },
    {
     "name": "stdout",
     "output_type": "stream",
     "text": [
      "CPU times: user 1min 8s, sys: 517 ms, total: 1min 9s\n",
      "Wall time: 1min 11s\n"
     ]
    }
   ],
   "source": [
    "%%time\n",
    "ddl.tl.find_clones(vdj2, productive_only = False)"
   ]
  },
  {
   "cell_type": "code",
   "execution_count": 13,
   "id": "considerable-justice",
   "metadata": {},
   "outputs": [
    {
     "name": "stderr",
     "output_type": "stream",
     "text": [
      "Finding clones based on VDJ chains : 100%|██████████| 401/401 [00:03<00:00, 130.36it/s]\n",
      "Refining clone assignment based on VJ chain pairing : 100%|██████████| 24659/24659 [00:00<00:00, 343564.49it/s]\n"
     ]
    },
    {
     "name": "stdout",
     "output_type": "stream",
     "text": [
      "CPU times: user 1min 21s, sys: 682 ms, total: 1min 21s\n",
      "Wall time: 1min 24s\n"
     ]
    }
   ],
   "source": [
    "%%time\n",
    "ddl.tl.find_clones(vdj3, productive_only = False) # back-up"
   ]
  },
  {
   "cell_type": "code",
   "execution_count": 14,
   "id": "front-disaster",
   "metadata": {},
   "outputs": [],
   "source": [
    "ddl.tl.clone_size(vdj1)\n",
    "ddl.tl.clone_size(vdj1, max_size = 3)\n",
    "ddl.update_metadata(vdj1, retrieve = ['mu_count', 'mu_freq'], retrieve_mode = 'split and average')\n",
    "ddl.update_metadata(vdj1, retrieve = ['mu_count', 'mu_freq'], retrieve_mode = 'average')"
   ]
  },
  {
   "cell_type": "code",
   "execution_count": 15,
   "id": "moving-sound",
   "metadata": {},
   "outputs": [
    {
     "name": "stderr",
     "output_type": "stream",
     "text": [
      "/nfs/users/nfs_k/kt16/miniconda2/envs/dandelion/lib/python3.8/site-packages/numpy/core/fromnumeric.py:3419: RuntimeWarning: Mean of empty slice.\n",
      "/nfs/users/nfs_k/kt16/miniconda2/envs/dandelion/lib/python3.8/site-packages/numpy/core/_methods.py:188: RuntimeWarning: invalid value encountered in double_scalars\n"
     ]
    }
   ],
   "source": [
    "ddl.update_metadata(vdj1, retrieve = ['junction_length', 'junction_aa_length', 'np1_length', 'np2_length', ], retrieve_mode = 'split and average')\n",
    "ddl.update_metadata(vdj1, retrieve = ['sequence', 'sequence_alignment', 'sequence_alignment_aa', 'junction', 'junction_aa', 'germline_alignment', 'fwr1', 'fwr1_aa', 'fwr2', 'fwr2_aa', 'fwr3', 'fwr3_aa', 'fwr4', 'fwr4_aa', 'cdr1', 'cdr1_aa', 'cdr2', 'cdr2_aa', 'cdr3', 'cdr3_aa', 'v_sequence_alignment_aa', 'd_sequence_alignment_aa', 'j_sequence_alignment_aa'], retrieve_mode = 'split and unique only')"
   ]
  },
  {
   "cell_type": "code",
   "execution_count": 16,
   "id": "animated-approval",
   "metadata": {},
   "outputs": [],
   "source": [
    "ddl.tl.clone_size(vdj2)\n",
    "ddl.tl.clone_size(vdj2, max_size = 3)\n",
    "ddl.update_metadata(vdj2, retrieve = ['mu_count', 'mu_freq'], retrieve_mode = 'split and average')\n",
    "ddl.update_metadata(vdj2, retrieve = ['mu_count', 'mu_freq'], retrieve_mode = 'average')"
   ]
  },
  {
   "cell_type": "code",
   "execution_count": 17,
   "id": "partial-scene",
   "metadata": {},
   "outputs": [
    {
     "name": "stderr",
     "output_type": "stream",
     "text": [
      "/nfs/users/nfs_k/kt16/miniconda2/envs/dandelion/lib/python3.8/site-packages/numpy/core/fromnumeric.py:3419: RuntimeWarning: Mean of empty slice.\n",
      "/nfs/users/nfs_k/kt16/miniconda2/envs/dandelion/lib/python3.8/site-packages/numpy/core/_methods.py:188: RuntimeWarning: invalid value encountered in double_scalars\n"
     ]
    }
   ],
   "source": [
    "ddl.update_metadata(vdj2, retrieve = ['junction_length', 'junction_aa_length', 'np1_length', 'np2_length', ], retrieve_mode = 'split and average')\n",
    "ddl.update_metadata(vdj2, retrieve = ['sequence', 'sequence_alignment', 'sequence_alignment_aa', 'junction', 'junction_aa', 'germline_alignment', 'fwr1', 'fwr1_aa', 'fwr2', 'fwr2_aa', 'fwr3', 'fwr3_aa', 'fwr4', 'fwr4_aa', 'cdr1', 'cdr1_aa', 'cdr2', 'cdr2_aa', 'cdr3', 'cdr3_aa', 'v_sequence_alignment_aa', 'd_sequence_alignment_aa', 'j_sequence_alignment_aa'], retrieve_mode = 'split and unique only')"
   ]
  },
  {
   "cell_type": "code",
   "execution_count": 18,
   "id": "native-house",
   "metadata": {},
   "outputs": [],
   "source": [
    "ddl.tl.clone_size(vdj3)\n",
    "ddl.tl.clone_size(vdj3, max_size = 3)\n",
    "ddl.update_metadata(vdj3, retrieve = ['mu_count', 'mu_freq'], retrieve_mode = 'split and average')\n",
    "ddl.update_metadata(vdj3, retrieve = ['mu_count', 'mu_freq'], retrieve_mode = 'average')"
   ]
  },
  {
   "cell_type": "code",
   "execution_count": 19,
   "id": "resident-pocket",
   "metadata": {},
   "outputs": [
    {
     "name": "stderr",
     "output_type": "stream",
     "text": [
      "/nfs/users/nfs_k/kt16/miniconda2/envs/dandelion/lib/python3.8/site-packages/numpy/core/fromnumeric.py:3419: RuntimeWarning: Mean of empty slice.\n",
      "/nfs/users/nfs_k/kt16/miniconda2/envs/dandelion/lib/python3.8/site-packages/numpy/core/_methods.py:188: RuntimeWarning: invalid value encountered in double_scalars\n"
     ]
    }
   ],
   "source": [
    "ddl.update_metadata(vdj3, retrieve = ['junction_length', 'junction_aa_length', 'np1_length', 'np2_length', ], retrieve_mode = 'split and average')\n",
    "ddl.update_metadata(vdj3, retrieve = ['sequence', 'sequence_alignment', 'sequence_alignment_aa', 'junction', 'junction_aa', 'germline_alignment', 'fwr1', 'fwr1_aa', 'fwr2', 'fwr2_aa', 'fwr3', 'fwr3_aa', 'fwr4', 'fwr4_aa', 'cdr1', 'cdr1_aa', 'cdr2', 'cdr2_aa', 'cdr3', 'cdr3_aa', 'v_sequence_alignment_aa', 'd_sequence_alignment_aa', 'j_sequence_alignment_aa'], retrieve_mode = 'split and unique only')"
   ]
  },
  {
   "cell_type": "code",
   "execution_count": 20,
   "id": "nutritional-blackberry",
   "metadata": {},
   "outputs": [],
   "source": [
    "ddl.tl.transfer(adata1, vdj1)\n",
    "ddl.tl.transfer(adata2, vdj2)\n",
    "ddl.tl.transfer(adata3, vdj3)"
   ]
  },
  {
   "cell_type": "code",
   "execution_count": 21,
   "id": "assisted-vancouver",
   "metadata": {
    "scrolled": true
   },
   "outputs": [
    {
     "name": "stderr",
     "output_type": "stream",
     "text": [
      "... storing 'filter_rna' as categorical\n",
      "... storing 'has_contig' as categorical\n",
      "... storing 'filter_contig_quality' as categorical\n",
      "... storing 'filter_contig_VDJ' as categorical\n",
      "... storing 'filter_contig_VJ' as categorical\n",
      "... storing 'contig_QC_pass' as categorical\n",
      "... storing 'clone_id' as categorical\n",
      "... storing 'sample_id' as categorical\n",
      "... storing 'locus_VDJ' as categorical\n",
      "... storing 'locus_VJ' as categorical\n",
      "... storing 'productive_VDJ' as categorical\n",
      "... storing 'productive_VJ' as categorical\n",
      "... storing 'v_call_genotyped_VDJ' as categorical\n",
      "... storing 'v_call_genotyped_VJ' as categorical\n",
      "... storing 'd_call_VDJ' as categorical\n",
      "... storing 'j_call_VDJ' as categorical\n",
      "... storing 'j_call_VJ' as categorical\n",
      "... storing 'c_call_VDJ' as categorical\n",
      "... storing 'c_call_VJ' as categorical\n",
      "... storing 'duplicate_count_VDJ' as categorical\n",
      "... storing 'duplicate_count_VJ' as categorical\n",
      "... storing 'junction_aa_VDJ' as categorical\n",
      "... storing 'junction_aa_VJ' as categorical\n",
      "... storing 'status' as categorical\n",
      "... storing 'status_summary' as categorical\n",
      "... storing 'productive' as categorical\n",
      "... storing 'productive_summary' as categorical\n",
      "... storing 'isotype' as categorical\n",
      "... storing 'isotype_summary' as categorical\n",
      "... storing 'vdj_status' as categorical\n",
      "... storing 'vdj_status_summary' as categorical\n",
      "... storing 'constant_status_summary' as categorical\n",
      "... storing 'sequence_VDJ' as categorical\n",
      "... storing 'sequence_VJ' as categorical\n",
      "... storing 'sequence_alignment_VDJ' as categorical\n",
      "... storing 'sequence_alignment_VJ' as categorical\n",
      "... storing 'sequence_alignment_aa_VDJ' as categorical\n",
      "... storing 'sequence_alignment_aa_VJ' as categorical\n",
      "... storing 'junction_VDJ' as categorical\n",
      "... storing 'junction_VJ' as categorical\n",
      "... storing 'germline_alignment_VDJ' as categorical\n",
      "... storing 'germline_alignment_VJ' as categorical\n",
      "... storing 'fwr1_VDJ' as categorical\n",
      "... storing 'fwr1_VJ' as categorical\n",
      "... storing 'fwr1_aa_VDJ' as categorical\n",
      "... storing 'fwr1_aa_VJ' as categorical\n",
      "... storing 'fwr2_VDJ' as categorical\n",
      "... storing 'fwr2_VJ' as categorical\n",
      "... storing 'fwr2_aa_VDJ' as categorical\n",
      "... storing 'fwr2_aa_VJ' as categorical\n",
      "... storing 'fwr3_VDJ' as categorical\n",
      "... storing 'fwr3_VJ' as categorical\n",
      "... storing 'fwr3_aa_VDJ' as categorical\n",
      "... storing 'fwr3_aa_VJ' as categorical\n",
      "... storing 'fwr4_VDJ' as categorical\n",
      "... storing 'fwr4_VJ' as categorical\n",
      "... storing 'fwr4_aa_VDJ' as categorical\n",
      "... storing 'fwr4_aa_VJ' as categorical\n",
      "... storing 'cdr1_VDJ' as categorical\n",
      "... storing 'cdr1_VJ' as categorical\n",
      "... storing 'cdr1_aa_VDJ' as categorical\n",
      "... storing 'cdr1_aa_VJ' as categorical\n",
      "... storing 'cdr2_VDJ' as categorical\n",
      "... storing 'cdr2_VJ' as categorical\n",
      "... storing 'cdr2_aa_VDJ' as categorical\n",
      "... storing 'cdr2_aa_VJ' as categorical\n",
      "... storing 'cdr3_VDJ' as categorical\n",
      "... storing 'cdr3_VJ' as categorical\n",
      "... storing 'cdr3_aa_VDJ' as categorical\n",
      "... storing 'cdr3_aa_VJ' as categorical\n",
      "... storing 'v_sequence_alignment_aa_VDJ' as categorical\n",
      "... storing 'v_sequence_alignment_aa_VJ' as categorical\n",
      "... storing 'd_sequence_alignment_aa_VDJ' as categorical\n",
      "... storing 'j_sequence_alignment_aa_VDJ' as categorical\n",
      "... storing 'j_sequence_alignment_aa_VJ' as categorical\n"
     ]
    }
   ],
   "source": [
    "adata1.write('PAN.A01.v01.entire_data_normalised_log.20210429.LYMPHOID.embedding_dandelion_productive.h5ad', compression = 'gzip')"
   ]
  },
  {
   "cell_type": "code",
   "execution_count": 22,
   "id": "approved-shore",
   "metadata": {
    "scrolled": true
   },
   "outputs": [
    {
     "name": "stderr",
     "output_type": "stream",
     "text": [
      "... storing 'filter_rna' as categorical\n",
      "... storing 'has_contig' as categorical\n",
      "... storing 'filter_contig_quality' as categorical\n",
      "... storing 'filter_contig_VDJ' as categorical\n",
      "... storing 'filter_contig_VJ' as categorical\n",
      "... storing 'contig_QC_pass' as categorical\n",
      "... storing 'clone_id' as categorical\n",
      "... storing 'sample_id' as categorical\n",
      "... storing 'locus_VDJ' as categorical\n",
      "... storing 'locus_VJ' as categorical\n",
      "... storing 'productive_VDJ' as categorical\n",
      "... storing 'productive_VJ' as categorical\n",
      "... storing 'v_call_genotyped_VDJ' as categorical\n",
      "... storing 'v_call_genotyped_VJ' as categorical\n",
      "... storing 'd_call_VDJ' as categorical\n",
      "... storing 'j_call_VDJ' as categorical\n",
      "... storing 'j_call_VJ' as categorical\n",
      "... storing 'c_call_VDJ' as categorical\n",
      "... storing 'c_call_VJ' as categorical\n",
      "... storing 'duplicate_count_VDJ' as categorical\n",
      "... storing 'duplicate_count_VJ' as categorical\n",
      "... storing 'junction_aa_VDJ' as categorical\n",
      "... storing 'junction_aa_VJ' as categorical\n",
      "... storing 'status' as categorical\n",
      "... storing 'status_summary' as categorical\n",
      "... storing 'productive' as categorical\n",
      "... storing 'productive_summary' as categorical\n",
      "... storing 'isotype' as categorical\n",
      "... storing 'isotype_summary' as categorical\n",
      "... storing 'vdj_status' as categorical\n",
      "... storing 'vdj_status_summary' as categorical\n",
      "... storing 'constant_status_summary' as categorical\n",
      "... storing 'sequence_VDJ' as categorical\n",
      "... storing 'sequence_VJ' as categorical\n",
      "... storing 'sequence_alignment_VDJ' as categorical\n",
      "... storing 'sequence_alignment_VJ' as categorical\n",
      "... storing 'sequence_alignment_aa_VDJ' as categorical\n",
      "... storing 'sequence_alignment_aa_VJ' as categorical\n",
      "... storing 'junction_VDJ' as categorical\n",
      "... storing 'junction_VJ' as categorical\n",
      "... storing 'germline_alignment_VDJ' as categorical\n",
      "... storing 'germline_alignment_VJ' as categorical\n",
      "... storing 'fwr1_VDJ' as categorical\n",
      "... storing 'fwr1_VJ' as categorical\n",
      "... storing 'fwr1_aa_VDJ' as categorical\n",
      "... storing 'fwr1_aa_VJ' as categorical\n",
      "... storing 'fwr2_VDJ' as categorical\n",
      "... storing 'fwr2_VJ' as categorical\n",
      "... storing 'fwr2_aa_VDJ' as categorical\n",
      "... storing 'fwr2_aa_VJ' as categorical\n",
      "... storing 'fwr3_VDJ' as categorical\n",
      "... storing 'fwr3_VJ' as categorical\n",
      "... storing 'fwr3_aa_VDJ' as categorical\n",
      "... storing 'fwr3_aa_VJ' as categorical\n",
      "... storing 'fwr4_VDJ' as categorical\n",
      "... storing 'fwr4_VJ' as categorical\n",
      "... storing 'fwr4_aa_VDJ' as categorical\n",
      "... storing 'fwr4_aa_VJ' as categorical\n",
      "... storing 'cdr1_VDJ' as categorical\n",
      "... storing 'cdr1_VJ' as categorical\n",
      "... storing 'cdr1_aa_VDJ' as categorical\n",
      "... storing 'cdr1_aa_VJ' as categorical\n",
      "... storing 'cdr2_VDJ' as categorical\n",
      "... storing 'cdr2_VJ' as categorical\n",
      "... storing 'cdr2_aa_VDJ' as categorical\n",
      "... storing 'cdr2_aa_VJ' as categorical\n",
      "... storing 'cdr3_VDJ' as categorical\n",
      "... storing 'cdr3_VJ' as categorical\n",
      "... storing 'cdr3_aa_VDJ' as categorical\n",
      "... storing 'cdr3_aa_VJ' as categorical\n",
      "... storing 'v_sequence_alignment_aa_VDJ' as categorical\n",
      "... storing 'v_sequence_alignment_aa_VJ' as categorical\n",
      "... storing 'd_sequence_alignment_aa_VDJ' as categorical\n",
      "... storing 'j_sequence_alignment_aa_VDJ' as categorical\n",
      "... storing 'j_sequence_alignment_aa_VJ' as categorical\n"
     ]
    }
   ],
   "source": [
    "adata2.write('PAN.A01.v01.entire_data_normalised_log.20210429.LYMPHOID.embedding_dandelion_productive_and_nonproductive.h5ad', compression = 'gzip')"
   ]
  },
  {
   "cell_type": "code",
   "execution_count": 23,
   "id": "novel-torture",
   "metadata": {
    "scrolled": true
   },
   "outputs": [
    {
     "name": "stderr",
     "output_type": "stream",
     "text": [
      "... storing 'filter_rna' as categorical\n",
      "... storing 'has_contig' as categorical\n",
      "... storing 'filter_contig_quality' as categorical\n",
      "... storing 'filter_contig_VDJ' as categorical\n",
      "... storing 'filter_contig_VJ' as categorical\n",
      "... storing 'contig_QC_pass' as categorical\n",
      "... storing 'clone_id' as categorical\n",
      "... storing 'sample_id' as categorical\n",
      "... storing 'locus_VDJ' as categorical\n",
      "... storing 'locus_VJ' as categorical\n",
      "... storing 'productive_VDJ' as categorical\n",
      "... storing 'productive_VJ' as categorical\n",
      "... storing 'v_call_genotyped_VDJ' as categorical\n",
      "... storing 'v_call_genotyped_VJ' as categorical\n",
      "... storing 'd_call_VDJ' as categorical\n",
      "... storing 'j_call_VDJ' as categorical\n",
      "... storing 'j_call_VJ' as categorical\n",
      "... storing 'c_call_VDJ' as categorical\n",
      "... storing 'c_call_VJ' as categorical\n",
      "... storing 'duplicate_count_VDJ' as categorical\n",
      "... storing 'duplicate_count_VJ' as categorical\n",
      "... storing 'junction_aa_VDJ' as categorical\n",
      "... storing 'junction_aa_VJ' as categorical\n",
      "... storing 'status' as categorical\n",
      "... storing 'status_summary' as categorical\n",
      "... storing 'productive' as categorical\n",
      "... storing 'productive_summary' as categorical\n",
      "... storing 'isotype' as categorical\n",
      "... storing 'isotype_summary' as categorical\n",
      "... storing 'vdj_status' as categorical\n",
      "... storing 'vdj_status_summary' as categorical\n",
      "... storing 'constant_status_summary' as categorical\n",
      "... storing 'sequence_VDJ' as categorical\n",
      "... storing 'sequence_VJ' as categorical\n",
      "... storing 'sequence_alignment_VDJ' as categorical\n",
      "... storing 'sequence_alignment_VJ' as categorical\n",
      "... storing 'sequence_alignment_aa_VDJ' as categorical\n",
      "... storing 'sequence_alignment_aa_VJ' as categorical\n",
      "... storing 'junction_VDJ' as categorical\n",
      "... storing 'junction_VJ' as categorical\n",
      "... storing 'germline_alignment_VDJ' as categorical\n",
      "... storing 'germline_alignment_VJ' as categorical\n",
      "... storing 'fwr1_VDJ' as categorical\n",
      "... storing 'fwr1_VJ' as categorical\n",
      "... storing 'fwr1_aa_VDJ' as categorical\n",
      "... storing 'fwr1_aa_VJ' as categorical\n",
      "... storing 'fwr2_VDJ' as categorical\n",
      "... storing 'fwr2_VJ' as categorical\n",
      "... storing 'fwr2_aa_VDJ' as categorical\n",
      "... storing 'fwr2_aa_VJ' as categorical\n",
      "... storing 'fwr3_VDJ' as categorical\n",
      "... storing 'fwr3_VJ' as categorical\n",
      "... storing 'fwr3_aa_VDJ' as categorical\n",
      "... storing 'fwr3_aa_VJ' as categorical\n",
      "... storing 'fwr4_VDJ' as categorical\n",
      "... storing 'fwr4_VJ' as categorical\n",
      "... storing 'fwr4_aa_VDJ' as categorical\n",
      "... storing 'fwr4_aa_VJ' as categorical\n",
      "... storing 'cdr1_VDJ' as categorical\n",
      "... storing 'cdr1_VJ' as categorical\n",
      "... storing 'cdr1_aa_VDJ' as categorical\n",
      "... storing 'cdr1_aa_VJ' as categorical\n",
      "... storing 'cdr2_VDJ' as categorical\n",
      "... storing 'cdr2_VJ' as categorical\n",
      "... storing 'cdr2_aa_VDJ' as categorical\n",
      "... storing 'cdr2_aa_VJ' as categorical\n",
      "... storing 'cdr3_VDJ' as categorical\n",
      "... storing 'cdr3_VJ' as categorical\n",
      "... storing 'cdr3_aa_VDJ' as categorical\n",
      "... storing 'cdr3_aa_VJ' as categorical\n",
      "... storing 'v_sequence_alignment_aa_VDJ' as categorical\n",
      "... storing 'v_sequence_alignment_aa_VJ' as categorical\n",
      "... storing 'd_sequence_alignment_aa_VDJ' as categorical\n",
      "... storing 'j_sequence_alignment_aa_VDJ' as categorical\n",
      "... storing 'j_sequence_alignment_aa_VJ' as categorical\n"
     ]
    }
   ],
   "source": [
    "adata3.write('PAN.A01.v01.entire_data_normalised_log.20210429.LYMPHOID.embedding_dandelion_productive_and_nonproductive_simple.h5ad', compression = 'gzip')"
   ]
  },
  {
   "cell_type": "code",
   "execution_count": 24,
   "id": "periodic-thanks",
   "metadata": {},
   "outputs": [
    {
     "name": "stderr",
     "output_type": "stream",
     "text": [
      "/nfs/users/nfs_k/kt16/miniconda2/envs/dandelion/lib/python3.8/site-packages/tables/file.py:426: UserWarning: a closed node found in the registry: ``/metadata/meta/values_block_1/meta/_i_table``\n"
     ]
    },
    {
     "name": "stdout",
     "output_type": "stream",
     "text": [
      "CPU times: user 50.8 s, sys: 1.69 s, total: 52.5 s\n",
      "Wall time: 53.6 s\n"
     ]
    }
   ],
   "source": [
    "%%time\n",
    "vdj1.write_h5('panfetal_bcr_dandelion_filtered_productive.h5')"
   ]
  },
  {
   "cell_type": "code",
   "execution_count": 25,
   "id": "cubic-password",
   "metadata": {},
   "outputs": [
    {
     "name": "stderr",
     "output_type": "stream",
     "text": [
      "/nfs/users/nfs_k/kt16/miniconda2/envs/dandelion/lib/python3.8/site-packages/tables/file.py:426: UserWarning: a closed node found in the registry: ``/metadata/meta/values_block_1/meta/_i_table``\n"
     ]
    },
    {
     "name": "stdout",
     "output_type": "stream",
     "text": [
      "CPU times: user 1min 7s, sys: 2.82 s, total: 1min 10s\n",
      "Wall time: 1min 11s\n"
     ]
    }
   ],
   "source": [
    "%%time\n",
    "vdj2.write_h5('panfetal_bcr_dandelion_filtered_productive_and_nonproductive.h5')"
   ]
  },
  {
   "cell_type": "code",
   "execution_count": 26,
   "id": "hydraulic-orchestra",
   "metadata": {},
   "outputs": [
    {
     "name": "stderr",
     "output_type": "stream",
     "text": [
      "/nfs/users/nfs_k/kt16/miniconda2/envs/dandelion/lib/python3.8/site-packages/tables/file.py:426: UserWarning: a closed node found in the registry: ``/metadata/meta/values_block_1/meta/_i_table``\n"
     ]
    },
    {
     "name": "stdout",
     "output_type": "stream",
     "text": [
      "CPU times: user 1min 33s, sys: 4.33 s, total: 1min 38s\n",
      "Wall time: 1min 38s\n"
     ]
    }
   ],
   "source": [
    "%%time\n",
    "vdj3.write_h5('panfetal_bcr_dandelion_filtered_productive_and_nonproductive_simple.h5')"
   ]
  },
  {
   "cell_type": "code",
   "execution_count": 27,
   "id": "better-questionnaire",
   "metadata": {},
   "outputs": [],
   "source": [
    "# also save the obs separately\n",
    "adata1.obs.to_csv('PAN.A01.v01.entire_data_normalised_log.20210429.LYMPHOID.embedding_dandelion_productive.csv')"
   ]
  },
  {
   "cell_type": "code",
   "execution_count": 28,
   "id": "preceding-firewall",
   "metadata": {},
   "outputs": [],
   "source": [
    "adata2.obs.to_csv('PAN.A01.v01.entire_data_normalised_log.20210429.LYMPHOID.embedding_dandelion_productive_and_nonproductive.csv')"
   ]
  },
  {
   "cell_type": "code",
   "execution_count": 29,
   "id": "obvious-division",
   "metadata": {},
   "outputs": [],
   "source": [
    "adata3.obs.to_csv('PAN.A01.v01.entire_data_normalised_log.20210429.LYMPHOID.embedding_dandelion_productive_and_nonproductive_simple.csv')"
   ]
  },
  {
   "cell_type": "code",
   "execution_count": 30,
   "id": "negative-course",
   "metadata": {},
   "outputs": [],
   "source": [
    "vdj1.write_airr('panfetal_bcr_dandelion_filtered_productive_airr.tsv')"
   ]
  },
  {
   "cell_type": "code",
   "execution_count": 31,
   "id": "olive-assessment",
   "metadata": {},
   "outputs": [],
   "source": [
    "vdj2.write_airr('panfetal_bcr_dandelion_filtered_productive_and_nonproductive_airr.tsv')"
   ]
  },
  {
   "cell_type": "code",
   "execution_count": 32,
   "id": "taken-caribbean",
   "metadata": {},
   "outputs": [],
   "source": [
    "vdj3.write_airr('panfetal_bcr_dandelion_filtered_productive_and_nonproductive_simple_airr.tsv')"
   ]
  }
 ],
 "metadata": {
  "kernelspec": {
   "display_name": "Python 3",
   "language": "python",
   "name": "python3"
  },
  "language_info": {
   "codemirror_mode": {
    "name": "ipython",
    "version": 3
   },
   "file_extension": ".py",
   "mimetype": "text/x-python",
   "name": "python",
   "nbconvert_exporter": "python",
   "pygments_lexer": "ipython3",
   "version": "3.8.8"
  }
 },
 "nbformat": 4,
 "nbformat_minor": 5
}
