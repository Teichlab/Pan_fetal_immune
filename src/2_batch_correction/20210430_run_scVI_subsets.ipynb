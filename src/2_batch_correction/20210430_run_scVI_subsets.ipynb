{
 "cells": [
  {
   "cell_type": "markdown",
   "id": "c15ed932",
   "metadata": {},
   "source": [
    "## scVI on Pan Fetal subsets"
   ]
  },
  {
   "cell_type": "code",
   "execution_count": 1,
   "id": "c809a377",
   "metadata": {},
   "outputs": [],
   "source": [
    "import sys,os\n",
    "import scvi\n",
    "import anndata\n",
    "import matplotlib\n",
    "import seaborn as sns\n",
    "from matplotlib import colors\n",
    "import matplotlib.pyplot as plt\n",
    "from matplotlib import rcParams\n",
    "from matplotlib.colors import LinearSegmentedColormap\n",
    "\n",
    "\n",
    "import numpy as np\n",
    "import pandas as pd\n",
    "import scanpy as sc\n",
    "import numpy.random as random"
   ]
  },
  {
   "cell_type": "code",
   "execution_count": 2,
   "id": "df07ca68",
   "metadata": {},
   "outputs": [],
   "source": [
    "import torch\n",
    "device = torch.device(\"cuda\")"
   ]
  },
  {
   "cell_type": "code",
   "execution_count": 3,
   "id": "fdd8059d",
   "metadata": {},
   "outputs": [],
   "source": [
    "## import utils\n",
    "cwd = '/home/jupyter/Pan_fetal_immune/src/utils/'\n",
    "sys.path.append(cwd)\n",
    "\n",
    "import genes\n",
    "import panfetal_utils"
   ]
  },
  {
   "cell_type": "markdown",
   "id": "f4910873",
   "metadata": {},
   "source": [
    "## Load and prep data"
   ]
  },
  {
   "cell_type": "code",
   "execution_count": 6,
   "id": "c36fa3c9",
   "metadata": {},
   "outputs": [],
   "source": [
    "def load_data_split(data_dir, timestamp, split):\n",
    "    # Load estimated gene dispersions for HVG selection\n",
    "    # Generated running `Pan_fetal_immune/utils/PFI_pp_4_HVG_stats.py`\n",
    "    adata_lognorm_var = pd.read_csv(data_dir + 'PAN.A01.v01.entire_data_normalised_log.{t}.{s}.var.csv'.format(t=timestamp, s=split))\n",
    "\n",
    "    ### Load count data\n",
    "    adata_raw = sc.read_h5ad(data_dir + 'PAN.A01.v01.entire_data_raw_count.{t}.{s}.h5ad'.format(t=timestamp, s=split))\n",
    "    adata_raw.var_names_make_unique()\n",
    "\n",
    "    # Load obs\n",
    "    new_obs = pd.read_csv(data_dir + \"PAN.A01.v01.entire_data_normalised_log.{t}.full_obs.csv\".format(t=timestamp), index_col=0)\n",
    "    adata_raw.obs = new_obs.loc[adata_raw.obs_names]\n",
    "\n",
    "    ## Load var\n",
    "    adata_raw.var = adata_lognorm_var.copy()\n",
    "\n",
    "    ## Add batch key\n",
    "    adata_raw.obs[\"bbk\"] = adata_raw.obs[\"method\"] + adata_raw.obs[\"donor\"]\n",
    "    return(adata_raw)\n",
    "\n",
    "def subset_top_hvgs(adata_lognorm, n_top_genes):\n",
    "    dispersion_norm = adata_lognorm.var['dispersions_norm'].values.astype('float32')\n",
    "\n",
    "    dispersion_norm = dispersion_norm[~np.isnan(dispersion_norm)]\n",
    "    dispersion_norm[\n",
    "                ::-1\n",
    "            ].sort()  # interestingly, np.argpartition is slightly slower\n",
    "\n",
    "    disp_cut_off = dispersion_norm[n_top_genes - 1]\n",
    "    gene_subset = adata_lognorm.var['dispersions_norm'].values >= disp_cut_off\n",
    "    return(adata_lognorm[:,gene_subset])\n",
    "\n",
    "def prep_scVI(adata, \n",
    "              n_hvgs = 5000,\n",
    "              remove_cc_genes = True,\n",
    "              remove_tcr_bcr_genes = False\n",
    "             ):\n",
    "    ## Remove cell cycle genes\n",
    "    if remove_cc_genes:\n",
    "        adata = panfetal_utils.remove_geneset(adata,genes.cc_genes)\n",
    "\n",
    "    ## Remove TCR/BCR genes\n",
    "    if remove_tcr_bcr_genes:\n",
    "        adata = panfetal_utils.remove_geneset(adata, genes.IG_genes)\n",
    "        adata = panfetal_utils.remove_geneset(adata, genes.TCR_genes)\n",
    "        \n",
    "    ## HVG selection\n",
    "    adata = subset_top_hvgs(adata, n_top_genes=n_hvgs)\n",
    "    return(adata)\n",
    "\n",
    "def train_scVI(adata, n_dims=20):\n",
    "    adata = scvi.data.setup_anndata(adata, batch_key = \"bbk\", copy=True)\n",
    "    arches_params = dict(\n",
    "        encode_covariates=True,\n",
    "        dropout_rate=0.2,\n",
    "        n_layers=2,\n",
    "        )\n",
    "    vae = scvi.model.SCVI(adata, n_latent=n_dims, **arches_params)\n",
    "    vae.train(early_stopping=True,\n",
    "        train_size=0.9,\n",
    "        early_stopping_patience=45,\n",
    "        max_epochs=400, \n",
    "        batch_size=1024, \n",
    "        limit_train_batches=20\n",
    "       )\n",
    "    return(vae)\n",
    "    \n",
    "# def save_scVI(adata, \n",
    "#               timestamp,\n",
    "#               split,\n",
    "#               n_hvgs = 5000,\n",
    "#               remove_cc_genes = True,\n",
    "#                 remove_tcr_bcr_genes = False,\n",
    "#                 n_dims=20\n",
    "#              ):\n",
    "#     if remove_cc_genes:\n",
    "#         cc = \"removeCC\"\n",
    "#     else:\n",
    "#         cc = \"keepCC\"\n",
    "#     if remove_tcr_bcr_genes:\n",
    "#         tcr = \"removeTCRBCR\"\n",
    "#     else:\n",
    "#         tcr = \"keepTCRBCR\"\n",
    "#     outname = \"PAN.A01.v01.entire_data_raw_count.{t}.{s}.scVI_out.{h}HVGS.{cc}.{tcr}.{n}ldims.npy\".format(t=timestamp, s=split, h=n_hvgs, cc=cc, tcr=tcr, n=n_dims)\n",
    "#     np.save(data_dir + outname, adata.obsm[\"X_scVI\"])"
   ]
  },
  {
   "cell_type": "code",
   "execution_count": 8,
   "id": "257b8726",
   "metadata": {},
   "outputs": [],
   "source": [
    "# data_dir = \"/home/jupyter/mount/gdrive/Pan_fetal/data4gpu_node/\"\n",
    "# timestamp = \"20210429\"\n",
    "# split_ls = [\"STROMA\",\"MYELOID\", \"LYMPHOID\", \"MEM_PROGENITORS\",\"HSC_IMMUNE\",\"MYELOID_LYMPHOID\"]\n",
    "# for s in split_ls: \n",
    "\n",
    "def scvi_split(s, \n",
    "               data_dir = \"/home/jupyter/mount/gdrive/Pan_fetal/data4gpu_node/\",\n",
    "               timestamp = \"20210429\"\n",
    "              ):\n",
    "    adata_raw = load_data_split(data_dir, timestamp, s)\n",
    "    adata_raw = prep_scVI(adata_raw, n_hvgs=7500, remove_cc_genes=True, remove_tcr_bcr_genes=True)\n",
    "    vae = train_scVI(adata_raw, n_dims=20)\n",
    "    adata_raw.obsm[\"X_scVI\"] = vae.get_latent_representation()\n",
    "    ## Save embedding\n",
    "    outname = \"PAN.A01.v01.entire_data_raw_count.{t}.{s}.scVI_out.npy\".format(t=timestamp, s=s)\n",
    "    np.save(data_dir + outname, adata_raw.obsm[\"X_scVI\"])\n",
    "    ## Plot convergence\n",
    "    sns.set_context(\"talk\")\n",
    "    plt.plot(vae.history[\"elbo_train\"], label=\"Training\");\n",
    "    plt.plot(vae.history[\"elbo_validation\"], label=\"Validation\");\n",
    "    plt.legend();\n",
    "    plt.xlabel(\"epoch\");\n",
    "    plt.ylabel(\"ELBO\");\n",
    "    plt.savefig(\"/home/jupyter/mount/gdrive/Pan_fetal/Updates_and_presentations/scvi_training_elbo_{s}.pdf\".format(s=s), bbox_inches=\"tight\")\n",
    "    # save the reference model\n",
    "    model_dir = 'scvi_{s}_model/'.format(s=s)\n",
    "    if not os.path.exists(data_dir + model_dir):\n",
    "        os.mkdir(data_dir + model_dir)\n",
    "    vae.save(data_dir + model_dir, overwrite=True)"
   ]
  },
  {
   "cell_type": "code",
   "execution_count": 9,
   "id": "ecaecd37",
   "metadata": {},
   "outputs": [
    {
     "name": "stderr",
     "output_type": "stream",
     "text": [
      "Variable names are not unique. To make them unique, call `.var_names_make_unique`.\n",
      "/opt/conda/lib/python3.7/site-packages/IPython/core/interactiveshell.py:3437: DtypeWarning: Columns (6) have mixed types.Specify dtype option on import or set low_memory=False.\n",
      "  exec(code_obj, self.user_global_ns, self.user_ns)\n",
      "/opt/conda/lib/python3.7/site-packages/anndata/_core/anndata.py:120: ImplicitModificationWarning: Transforming to str index.\n",
      "  warnings.warn(\"Transforming to str index.\", ImplicitModificationWarning)\n"
     ]
    },
    {
     "name": "stdout",
     "output_type": "stream",
     "text": [
      "\u001b[34mINFO    \u001b[0m Using batches from adata.obs\u001b[1m[\u001b[0m\u001b[32m\"bbk\"\u001b[0m\u001b[1m]\u001b[0m                                                 \n",
      "\u001b[34mINFO    \u001b[0m No label_key inputted, assuming all cells have same label                           \n",
      "\u001b[34mINFO    \u001b[0m Using data from adata.X                                                             \n",
      "\u001b[34mINFO    \u001b[0m Computing library size prior per batch                                              \n",
      "\u001b[34mINFO    \u001b[0m Successfully registered anndata object containing \u001b[1;36m318670\u001b[0m cells, \u001b[1;36m7499\u001b[0m vars, \u001b[1;36m33\u001b[0m       \n",
      "         batches, \u001b[1;36m1\u001b[0m labels, and \u001b[1;36m0\u001b[0m proteins. Also registered \u001b[1;36m0\u001b[0m extra categorical covariates   \n",
      "         and \u001b[1;36m0\u001b[0m extra continuous covariates.                                                  \n",
      "\u001b[34mINFO    \u001b[0m Please do not further modify adata until model is trained.                          \n"
     ]
    },
    {
     "name": "stderr",
     "output_type": "stream",
     "text": [
      "GPU available: True, used: True\n",
      "TPU available: False, using: 0 TPU cores\n",
      "LOCAL_RANK: 0 - CUDA_VISIBLE_DEVICES: [0]\n"
     ]
    },
    {
     "name": "stdout",
     "output_type": "stream",
     "text": [
      "Epoch 400/400: 100%|██████████| 400/400 [12:27<00:00,  1.87s/it, loss=1.13e+03, v_num=1]\n"
     ]
    },
    {
     "data": {
      "image/png": "[encoded data removed]",
      "text/plain": [
       "<Figure size 432x288 with 1 Axes>"
      ]
     },
     "metadata": {
      "needs_background": "light"
     },
     "output_type": "display_data"
    }
   ],
   "source": [
    "scvi_split(\"STROMA\")"
   ]
  },
  {
   "cell_type": "code",
   "execution_count": 10,
   "id": "b9b6c511",
   "metadata": {},
   "outputs": [
    {
     "name": "stderr",
     "output_type": "stream",
     "text": [
      "Variable names are not unique. To make them unique, call `.var_names_make_unique`.\n",
      "/opt/conda/lib/python3.7/site-packages/IPython/core/interactiveshell.py:3437: DtypeWarning: Columns (6) have mixed types.Specify dtype option on import or set low_memory=False.\n",
      "  exec(code_obj, self.user_global_ns, self.user_ns)\n",
      "/opt/conda/lib/python3.7/site-packages/anndata/_core/anndata.py:120: ImplicitModificationWarning: Transforming to str index.\n",
      "  warnings.warn(\"Transforming to str index.\", ImplicitModificationWarning)\n"
     ]
    },
    {
     "name": "stdout",
     "output_type": "stream",
     "text": [
      "\u001b[34mINFO    \u001b[0m Using batches from adata.obs\u001b[1m[\u001b[0m\u001b[32m\"bbk\"\u001b[0m\u001b[1m]\u001b[0m                                                 \n",
      "\u001b[34mINFO    \u001b[0m No label_key inputted, assuming all cells have same label                           \n",
      "\u001b[34mINFO    \u001b[0m Using data from adata.X                                                             \n",
      "\u001b[34mINFO    \u001b[0m Computing library size prior per batch                                              \n",
      "\u001b[34mINFO    \u001b[0m Successfully registered anndata object containing \u001b[1;36m241950\u001b[0m cells, \u001b[1;36m7500\u001b[0m vars, \u001b[1;36m33\u001b[0m       \n",
      "         batches, \u001b[1;36m1\u001b[0m labels, and \u001b[1;36m0\u001b[0m proteins. Also registered \u001b[1;36m0\u001b[0m extra categorical covariates   \n",
      "         and \u001b[1;36m0\u001b[0m extra continuous covariates.                                                  \n",
      "\u001b[34mINFO    \u001b[0m Please do not further modify adata until model is trained.                          \n"
     ]
    },
    {
     "name": "stderr",
     "output_type": "stream",
     "text": [
      "GPU available: True, used: True\n",
      "TPU available: False, using: 0 TPU cores\n",
      "LOCAL_RANK: 0 - CUDA_VISIBLE_DEVICES: [0]\n"
     ]
    },
    {
     "name": "stdout",
     "output_type": "stream",
     "text": [
      "Epoch 400/400: 100%|██████████| 400/400 [11:04<00:00,  1.66s/it, loss=988, v_num=1]     \n"
     ]
    },
    {
     "data": {
      "image/png": "[encoded data removed]",
      "text/plain": [
       "<Figure size 432x288 with 1 Axes>"
      ]
     },
     "metadata": {
      "needs_background": "light"
     },
     "output_type": "display_data"
    }
   ],
   "source": [
    "scvi_split(\"LYMPHOID\")"
   ]
  },
  {
   "cell_type": "code",
   "execution_count": 11,
   "id": "4b733efb",
   "metadata": {},
   "outputs": [
    {
     "name": "stderr",
     "output_type": "stream",
     "text": [
      "Variable names are not unique. To make them unique, call `.var_names_make_unique`.\n",
      "/opt/conda/lib/python3.7/site-packages/IPython/core/interactiveshell.py:3437: DtypeWarning: Columns (6) have mixed types.Specify dtype option on import or set low_memory=False.\n",
      "  exec(code_obj, self.user_global_ns, self.user_ns)\n",
      "/opt/conda/lib/python3.7/site-packages/anndata/_core/anndata.py:120: ImplicitModificationWarning: Transforming to str index.\n",
      "  warnings.warn(\"Transforming to str index.\", ImplicitModificationWarning)\n"
     ]
    },
    {
     "name": "stdout",
     "output_type": "stream",
     "text": [
      "\u001b[34mINFO    \u001b[0m Using batches from adata.obs\u001b[1m[\u001b[0m\u001b[32m\"bbk\"\u001b[0m\u001b[1m]\u001b[0m                                                 \n",
      "\u001b[34mINFO    \u001b[0m No label_key inputted, assuming all cells have same label                           \n",
      "\u001b[34mINFO    \u001b[0m Using data from adata.X                                                             \n",
      "\u001b[34mINFO    \u001b[0m Computing library size prior per batch                                              \n",
      "\u001b[34mINFO    \u001b[0m Successfully registered anndata object containing \u001b[1;36m224708\u001b[0m cells, \u001b[1;36m7499\u001b[0m vars, \u001b[1;36m33\u001b[0m       \n",
      "         batches, \u001b[1;36m1\u001b[0m labels, and \u001b[1;36m0\u001b[0m proteins. Also registered \u001b[1;36m0\u001b[0m extra categorical covariates   \n",
      "         and \u001b[1;36m0\u001b[0m extra continuous covariates.                                                  \n",
      "\u001b[34mINFO    \u001b[0m Please do not further modify adata until model is trained.                          \n"
     ]
    },
    {
     "name": "stderr",
     "output_type": "stream",
     "text": [
      "GPU available: True, used: True\n",
      "TPU available: False, using: 0 TPU cores\n",
      "LOCAL_RANK: 0 - CUDA_VISIBLE_DEVICES: [0]\n"
     ]
    },
    {
     "name": "stdout",
     "output_type": "stream",
     "text": [
      "Epoch 400/400: 100%|██████████| 400/400 [10:52<00:00,  1.63s/it, loss=1.14e+03, v_num=1]\n"
     ]
    },
    {
     "data": {
      "image/png": "[encoded data removed]",
      "text/plain": [
       "<Figure size 432x288 with 1 Axes>"
      ]
     },
     "metadata": {
      "needs_background": "light"
     },
     "output_type": "display_data"
    }
   ],
   "source": [
    "scvi_split(\"MYELOID\")"
   ]
  },
  {
   "cell_type": "code",
   "execution_count": 12,
   "id": "f818fb4f",
   "metadata": {},
   "outputs": [
    {
     "name": "stderr",
     "output_type": "stream",
     "text": [
      "Variable names are not unique. To make them unique, call `.var_names_make_unique`.\n",
      "/opt/conda/lib/python3.7/site-packages/IPython/core/interactiveshell.py:3437: DtypeWarning: Columns (6) have mixed types.Specify dtype option on import or set low_memory=False.\n",
      "  exec(code_obj, self.user_global_ns, self.user_ns)\n",
      "/opt/conda/lib/python3.7/site-packages/anndata/_core/anndata.py:120: ImplicitModificationWarning: Transforming to str index.\n",
      "  warnings.warn(\"Transforming to str index.\", ImplicitModificationWarning)\n"
     ]
    },
    {
     "name": "stdout",
     "output_type": "stream",
     "text": [
      "\u001b[34mINFO    \u001b[0m Using batches from adata.obs\u001b[1m[\u001b[0m\u001b[32m\"bbk\"\u001b[0m\u001b[1m]\u001b[0m                                                 \n",
      "\u001b[34mINFO    \u001b[0m No label_key inputted, assuming all cells have same label                           \n",
      "\u001b[34mINFO    \u001b[0m Using data from adata.X                                                             \n",
      "\u001b[34mINFO    \u001b[0m Computing library size prior per batch                                              \n",
      "\u001b[34mINFO    \u001b[0m Successfully registered anndata object containing \u001b[1;36m149239\u001b[0m cells, \u001b[1;36m7499\u001b[0m vars, \u001b[1;36m33\u001b[0m       \n",
      "         batches, \u001b[1;36m1\u001b[0m labels, and \u001b[1;36m0\u001b[0m proteins. Also registered \u001b[1;36m0\u001b[0m extra categorical covariates   \n",
      "         and \u001b[1;36m0\u001b[0m extra continuous covariates.                                                  \n",
      "\u001b[34mINFO    \u001b[0m Please do not further modify adata until model is trained.                          \n"
     ]
    },
    {
     "name": "stderr",
     "output_type": "stream",
     "text": [
      "GPU available: True, used: True\n",
      "TPU available: False, using: 0 TPU cores\n",
      "LOCAL_RANK: 0 - CUDA_VISIBLE_DEVICES: [0]\n"
     ]
    },
    {
     "name": "stdout",
     "output_type": "stream",
     "text": [
      "Epoch 400/400: 100%|██████████| 400/400 [09:33<00:00,  1.43s/it, loss=993, v_num=1]     \n"
     ]
    },
    {
     "data": {
      "image/png": "[encoded data removed]",
      "text/plain": [
       "<Figure size 432x288 with 1 Axes>"
      ]
     },
     "metadata": {
      "needs_background": "light"
     },
     "output_type": "display_data"
    }
   ],
   "source": [
    "scvi_split(\"MEM_PROGENITORS\")"
   ]
  }
 ],
 "metadata": {
  "environment": {
   "name": "pytorch-gpu.1-8.m65",
   "type": "gcloud",
   "uri": "gcr.io/deeplearning-platform-release/pytorch-gpu.1-8:m65"
  },
  "kernelspec": {
   "display_name": "Python [conda env:root] *",
   "language": "python",
   "name": "conda-root-py"
  },
  "language_info": {
   "codemirror_mode": {
    "name": "ipython",
    "version": 3
   },
   "file_extension": ".py",
   "mimetype": "text/x-python",
   "name": "python",
   "nbconvert_exporter": "python",
   "pygments_lexer": "ipython3",
   "version": "3.7.10"
  }
 },
 "nbformat": 4,
 "nbformat_minor": 5
}
