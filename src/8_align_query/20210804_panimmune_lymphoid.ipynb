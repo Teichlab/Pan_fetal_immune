{
 "cells": [
  {
   "cell_type": "markdown",
   "id": "minute-formation",
   "metadata": {},
   "source": [
    "# Integration with adult Pan-immune data - Lymphoid"
   ]
  },
  {
   "cell_type": "code",
   "execution_count": 1,
   "id": "stainless-galaxy",
   "metadata": {
    "tags": []
   },
   "outputs": [],
   "source": [
    "%load_ext autoreload\n",
    "%autoreload 2"
   ]
  },
  {
   "cell_type": "code",
   "execution_count": 2,
   "id": "corporate-dealing",
   "metadata": {},
   "outputs": [],
   "source": [
    "import sys,os\n",
    "import scvi\n",
    "import anndata\n",
    "import numpy as np\n",
    "import pandas as pd\n",
    "import scanpy as sc\n",
    "import scipy"
   ]
  },
  {
   "cell_type": "code",
   "execution_count": 3,
   "id": "spoken-breeding",
   "metadata": {},
   "outputs": [],
   "source": [
    "import matplotlib\n",
    "import matplotlib.pyplot as plt\n",
    "import seaborn as sns"
   ]
  },
  {
   "cell_type": "code",
   "execution_count": 4,
   "id": "particular-combat",
   "metadata": {},
   "outputs": [],
   "source": [
    "## import utils\n",
    "cwd = '.'\n",
    "sys.path.append(cwd)\n",
    "\n",
    "import map_query_utils"
   ]
  },
  {
   "cell_type": "code",
   "execution_count": 5,
   "id": "satellite-norfolk",
   "metadata": {},
   "outputs": [],
   "source": [
    "## r2py setup\n",
    "import anndata2ri\n",
    "import rpy2.rinterface_lib.callbacks\n",
    "import logging\n",
    "rpy2.rinterface_lib.callbacks.logger.setLevel(logging.ERROR)\n",
    "\n",
    "anndata2ri.activate()"
   ]
  },
  {
   "cell_type": "code",
   "execution_count": 6,
   "id": "cardiovascular-bobby",
   "metadata": {},
   "outputs": [],
   "source": [
    "%load_ext rpy2.ipython\n"
   ]
  },
  {
   "cell_type": "code",
   "execution_count": 7,
   "id": "taken-compiler",
   "metadata": {},
   "outputs": [],
   "source": [
    "%%R\n",
    "library(tidyverse)\n",
    "library(reshape2)\n",
    "library(patchwork)\n",
    "\n",
    "remove_x_axis <- function(){\n",
    "  theme(axis.text.x = element_blank(), axis.ticks.x = element_blank(), axis.title.x = element_blank())  \n",
    "}\n",
    "\n",
    "remove_y_axis <- function(){\n",
    "  theme(axis.text.y = element_blank(), axis.ticks.y = element_blank(), axis.title.y = element_blank())  \n",
    "}"
   ]
  },
  {
   "cell_type": "code",
   "execution_count": 8,
   "id": "optimum-click",
   "metadata": {},
   "outputs": [],
   "source": [
    "def _plot_sorted_violin(merged_adata_bcells, groupby, y_value):\n",
    "    n_cells_anno = merged_adata_bcells.obs[[groupby,y_value]].value_counts(groupby)\n",
    "    keep_anno = n_cells_anno.index[n_cells_anno > 30]\n",
    "\n",
    "    mean_sim = merged_adata_bcells.obs[[groupby,y_value]].groupby(groupby).mean()\n",
    "    anno_order = mean_sim.loc[keep_anno].sort_values(y_value, ascending=False).index.tolist()\n",
    "\n",
    "    merged_adata_bcells.var_names_make_unique()\n",
    "    plt.rcParams[\"figure.figsize\"] = [14,6]\n",
    "    sc.pl.violin(merged_adata_bcells[merged_adata_bcells.obs[groupby].isin(keep_anno)], \n",
    "                                     y_value, groupby=groupby, rotation=90, \n",
    "                                     order=anno_order)"
   ]
  },
  {
   "cell_type": "markdown",
   "id": "tracked-event",
   "metadata": {},
   "source": [
    "## Prepare data for mapping \n",
    "\n",
    "### Load full PIP dataset \n",
    "\n",
    "Provided by Cecilia, and re-saved by me to have EnsemblIDs as `var_names`"
   ]
  },
  {
   "cell_type": "code",
   "execution_count": 9,
   "id": "civilian-commissioner",
   "metadata": {},
   "outputs": [],
   "source": [
    "pi_adata = sc.read_h5ad('/nfs/team205/ed6/data/Fetal_immune/panimmune_query.h5ad')"
   ]
  },
  {
   "cell_type": "markdown",
   "id": "stunning-closer",
   "metadata": {},
   "source": [
    "### Subset to lymphoid cells"
   ]
  },
  {
   "cell_type": "code",
   "execution_count": 29,
   "id": "sublime-hungarian",
   "metadata": {},
   "outputs": [],
   "source": [
    "lymph_pi_adata = pi_adata[(~pi_adata.obs[\"anno_B_v2\"].isna()) | (~pi_adata.obs[\"anno_T_2\"].isna())]"
   ]
  },
  {
   "cell_type": "code",
   "execution_count": 30,
   "id": "increasing-breed",
   "metadata": {},
   "outputs": [],
   "source": [
    "lymph_pi_adata.write_h5ad(\"/nfs/team205/ed6/data/Fetal_immune/panimmune_LYMPHOID_query.h5ad\")\n",
    "lymph_pi_adata.write_h5ad(\"/home/jovyan/mount/gdrive/Pan_fetal/data4gpu_node/panimmune_LYMPHOID_query.h5ad\")"
   ]
  },
  {
   "cell_type": "markdown",
   "id": "alternative-cargo",
   "metadata": {},
   "source": [
    "### Save LYMPHOID scVI model with EnsemblIDs"
   ]
  },
  {
   "cell_type": "code",
   "execution_count": 29,
   "id": "formed-formation",
   "metadata": {},
   "outputs": [],
   "source": [
    "split = \"LYMPHOID\"\n",
    "scvi_outs_dir = '/home/jovyan/mount/gdrive/Pan_fetal/data4gpu_node/'\n",
    "\n",
    "## Read old varnames\n",
    "model_dir='scvi_' + split + '_model/'\n",
    "var_names_model = pd.read_csv(scvi_outs_dir + model_dir + \"var_names.csv\", header=None)[0].values\n",
    "\n",
    "## Make new model folder for model with EnsemblIDs\n",
    "new_model_dir = model_dir.strip(\"/\") +\"_ENSID/\"\n",
    "bash_call = 'cp -r {o} {n}'.format(o=scvi_outs_dir + model_dir, n=scvi_outs_dir+new_model_dir)\n",
    "os.system(bash_call)\n",
    "\n",
    "## Save var_names\n",
    "adata_ref_var = pd.read_csv(scvi_outs_dir + 'PAN.A01.v01.entire_data_normalised_log.{t}.{s}.var.csv'.format(t=timestamp, s=split), index_col=0)\n",
    "adata_ref_var.iloc[var_names_model]['GeneID'].to_csv(scvi_outs_dir + new_model_dir + \"var_names.csv\", header=None, index=False)"
   ]
  },
  {
   "cell_type": "markdown",
   "id": "emotional-sending",
   "metadata": {},
   "source": [
    "### Train on scVI models\n",
    "\n",
    "On GPU node, running the call:"
   ]
  },
  {
   "cell_type": "raw",
   "id": "defined-subsection",
   "metadata": {},
   "source": [
    "python ./run_map_query.py /home/jupyter/mount/gdrive/Pan_fetal/data4gpu_node/panimmune_LYMPHOID_query.h5ad LYMPHOID panimmune_lymphoid --model_dir scvi_LYMPHOID_model_ENSID/"
   ]
  },
  {
   "cell_type": "markdown",
   "id": "literary-mumbai",
   "metadata": {},
   "source": [
    "We merge datasets and rerun embeddings running"
   ]
  },
  {
   "cell_type": "code",
   "execution_count": null,
   "id": "mexican-bermuda",
   "metadata": {},
   "outputs": [],
   "source": [
    "python ./merge_query_2_reference.py --- --- "
   ]
  },
  {
   "cell_type": "markdown",
   "id": "emotional-structure",
   "metadata": {},
   "source": [
    "### Load output"
   ]
  },
  {
   "cell_type": "code",
   "execution_count": 83,
   "id": "proud-watch",
   "metadata": {},
   "outputs": [],
   "source": [
    "query_h5ad_file = '/home/jovyan/mount/gdrive/Pan_fetal/data4gpu_node/panimmune_LYMPHOID_query.mapped2LYMPHOID.h5ad'\n",
    "split = \"LYMPHOID\"\n",
    "ref_data_dir = '/home/jovyan/mount/gdrive/Pan_fetal/data4gpu_node/'\n",
    "timestamp = '20210429'"
   ]
  },
  {
   "cell_type": "code",
   "execution_count": null,
   "id": "fundamental-mandate",
   "metadata": {},
   "outputs": [
    {
     "name": "stderr",
     "output_type": "stream",
     "text": [
      "Variable names are not unique. To make them unique, call `.var_names_make_unique`.\n"
     ]
    }
   ],
   "source": [
    "merged_adata_bcells = map_query_utils._merge_query_and_reference(query_h5ad_file, split, ref_data_dir=ref_data_dir)"
   ]
  }
 ],
 "metadata": {
  "kernelspec": {
   "display_name": "Python (emma_env)",
   "language": "python",
   "name": "emma_env"
  },
  "language_info": {
   "codemirror_mode": {
    "name": "ipython",
    "version": 3
   },
   "file_extension": ".py",
   "mimetype": "text/x-python",
   "name": "python",
   "nbconvert_exporter": "python",
   "pygments_lexer": "ipython3",
   "version": "3.7.8"
  }
 },
 "nbformat": 4,
 "nbformat_minor": 5
}
