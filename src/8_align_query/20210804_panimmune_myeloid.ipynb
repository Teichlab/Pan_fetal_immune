{
 "cells": [
  {
   "cell_type": "markdown",
   "id": "adult-punishment",
   "metadata": {},
   "source": [
    "# Integration with adult Pan-immune data - Myeloid"
   ]
  },
  {
   "cell_type": "code",
   "execution_count": 1,
   "id": "measured-shell",
   "metadata": {
    "tags": []
   },
   "outputs": [],
   "source": [
    "%load_ext autoreload\n",
    "%autoreload 2"
   ]
  },
  {
   "cell_type": "code",
   "execution_count": 2,
   "id": "thick-malaysia",
   "metadata": {},
   "outputs": [],
   "source": [
    "import sys,os\n",
    "import scvi\n",
    "import anndata\n",
    "import numpy as np\n",
    "import pandas as pd\n",
    "import scanpy as sc\n",
    "import scipy"
   ]
  },
  {
   "cell_type": "code",
   "execution_count": 3,
   "id": "chubby-seeker",
   "metadata": {},
   "outputs": [],
   "source": [
    "import matplotlib\n",
    "import matplotlib.pyplot as plt\n",
    "import seaborn as sns"
   ]
  },
  {
   "cell_type": "code",
   "execution_count": 4,
   "id": "threaded-courtesy",
   "metadata": {},
   "outputs": [],
   "source": [
    "## import utils\n",
    "cwd = '.'\n",
    "sys.path.append(cwd)\n",
    "\n",
    "import map_query_utils"
   ]
  },
  {
   "cell_type": "code",
   "execution_count": 5,
   "id": "social-paper",
   "metadata": {},
   "outputs": [],
   "source": [
    "## r2py setup\n",
    "import anndata2ri\n",
    "import rpy2.rinterface_lib.callbacks\n",
    "import logging\n",
    "rpy2.rinterface_lib.callbacks.logger.setLevel(logging.ERROR)\n",
    "\n",
    "anndata2ri.activate()"
   ]
  },
  {
   "cell_type": "code",
   "execution_count": 6,
   "id": "medical-friday",
   "metadata": {},
   "outputs": [],
   "source": [
    "%load_ext rpy2.ipython\n"
   ]
  },
  {
   "cell_type": "code",
   "execution_count": 7,
   "id": "exciting-precipitation",
   "metadata": {},
   "outputs": [],
   "source": [
    "%%R\n",
    "library(tidyverse)\n",
    "library(reshape2)\n",
    "library(patchwork)\n",
    "\n",
    "remove_x_axis <- function(){\n",
    "  theme(axis.text.x = element_blank(), axis.ticks.x = element_blank(), axis.title.x = element_blank())  \n",
    "}\n",
    "\n",
    "remove_y_axis <- function(){\n",
    "  theme(axis.text.y = element_blank(), axis.ticks.y = element_blank(), axis.title.y = element_blank())  \n",
    "}"
   ]
  },
  {
   "cell_type": "code",
   "execution_count": 8,
   "id": "assigned-thing",
   "metadata": {},
   "outputs": [],
   "source": [
    "def _plot_sorted_violin(merged_adata_bcells, groupby, y_value):\n",
    "    n_cells_anno = merged_adata_bcells.obs[[groupby,y_value]].value_counts(groupby)\n",
    "    keep_anno = n_cells_anno.index[n_cells_anno > 30]\n",
    "\n",
    "    mean_sim = merged_adata_bcells.obs[[groupby,y_value]].groupby(groupby).mean()\n",
    "    anno_order = mean_sim.loc[keep_anno].sort_values(y_value, ascending=False).index.tolist()\n",
    "\n",
    "    merged_adata_bcells.var_names_make_unique()\n",
    "    plt.rcParams[\"figure.figsize\"] = [14,6]\n",
    "    sc.pl.violin(merged_adata_bcells[merged_adata_bcells.obs[groupby].isin(keep_anno)], \n",
    "                                     y_value, groupby=groupby, rotation=90, \n",
    "                                     order=anno_order)"
   ]
  },
  {
   "cell_type": "markdown",
   "id": "soviet-estate",
   "metadata": {},
   "source": [
    "## Prepare data for mapping \n",
    "\n",
    "### Load full PIP dataset \n",
    "\n",
    "Provided by Cecilia, and re-saved by me to have EnsemblIDs as `var_names`"
   ]
  },
  {
   "cell_type": "code",
   "execution_count": 9,
   "id": "speaking-target",
   "metadata": {},
   "outputs": [],
   "source": [
    "pi_adata = sc.read_h5ad('/nfs/team205/ed6/data/Fetal_immune/panimmune_query.h5ad')"
   ]
  },
  {
   "cell_type": "markdown",
   "id": "tracked-defensive",
   "metadata": {},
   "source": [
    "### Subset to lymphoid cells"
   ]
  },
  {
   "cell_type": "code",
   "execution_count": 10,
   "id": "bored-memory",
   "metadata": {},
   "outputs": [],
   "source": [
    "mye_pi_adata = pi_adata[~pi_adata.obs[\"anno_mye\"].isna()]"
   ]
  },
  {
   "cell_type": "code",
   "execution_count": 12,
   "id": "arctic-visit",
   "metadata": {},
   "outputs": [],
   "source": [
    "mye_pi_adata.write_h5ad(\"/nfs/team205/ed6/data/Fetal_immune/panimmune_MYELOID_query.h5ad\")\n",
    "mye_pi_adata.write_h5ad(\"/home/jovyan/mount/gdrive/Pan_fetal/data4gpu_node/panimmune_MYELOID_query.h5ad\")"
   ]
  },
  {
   "cell_type": "markdown",
   "id": "worthy-values",
   "metadata": {},
   "source": [
    "### Save MYELOID scVI model with EnsemblIDs"
   ]
  },
  {
   "cell_type": "code",
   "execution_count": 13,
   "id": "voluntary-grounds",
   "metadata": {},
   "outputs": [
    {
     "ename": "NameError",
     "evalue": "name 'timestamp' is not defined",
     "output_type": "error",
     "traceback": [
      "\u001b[0;31m---------------------------------------------------------------------------\u001b[0m",
      "\u001b[0;31mNameError\u001b[0m                                 Traceback (most recent call last)",
      "\u001b[0;32m<ipython-input-13-8dbf591f813e>\u001b[0m in \u001b[0;36m<module>\u001b[0;34m\u001b[0m\n\u001b[1;32m     12\u001b[0m \u001b[0;34m\u001b[0m\u001b[0m\n\u001b[1;32m     13\u001b[0m \u001b[0;31m## Save var_names\u001b[0m\u001b[0;34m\u001b[0m\u001b[0;34m\u001b[0m\u001b[0;34m\u001b[0m\u001b[0m\n\u001b[0;32m---> 14\u001b[0;31m \u001b[0madata_ref_var\u001b[0m \u001b[0;34m=\u001b[0m \u001b[0mpd\u001b[0m\u001b[0;34m.\u001b[0m\u001b[0mread_csv\u001b[0m\u001b[0;34m(\u001b[0m\u001b[0mscvi_outs_dir\u001b[0m \u001b[0;34m+\u001b[0m \u001b[0;34m'PAN.A01.v01.entire_data_normalised_log.{t}.{s}.var.csv'\u001b[0m\u001b[0;34m.\u001b[0m\u001b[0mformat\u001b[0m\u001b[0;34m(\u001b[0m\u001b[0mt\u001b[0m\u001b[0;34m=\u001b[0m\u001b[0mtimestamp\u001b[0m\u001b[0;34m,\u001b[0m \u001b[0ms\u001b[0m\u001b[0;34m=\u001b[0m\u001b[0msplit\u001b[0m\u001b[0;34m)\u001b[0m\u001b[0;34m,\u001b[0m \u001b[0mindex_col\u001b[0m\u001b[0;34m=\u001b[0m\u001b[0;36m0\u001b[0m\u001b[0;34m)\u001b[0m\u001b[0;34m\u001b[0m\u001b[0;34m\u001b[0m\u001b[0m\n\u001b[0m\u001b[1;32m     15\u001b[0m \u001b[0madata_ref_var\u001b[0m\u001b[0;34m.\u001b[0m\u001b[0miloc\u001b[0m\u001b[0;34m[\u001b[0m\u001b[0mvar_names_model\u001b[0m\u001b[0;34m]\u001b[0m\u001b[0;34m[\u001b[0m\u001b[0;34m'GeneID'\u001b[0m\u001b[0;34m]\u001b[0m\u001b[0;34m.\u001b[0m\u001b[0mto_csv\u001b[0m\u001b[0;34m(\u001b[0m\u001b[0mscvi_outs_dir\u001b[0m \u001b[0;34m+\u001b[0m \u001b[0mnew_model_dir\u001b[0m \u001b[0;34m+\u001b[0m \u001b[0;34m\"var_names.csv\"\u001b[0m\u001b[0;34m,\u001b[0m \u001b[0mheader\u001b[0m\u001b[0;34m=\u001b[0m\u001b[0;32mNone\u001b[0m\u001b[0;34m,\u001b[0m \u001b[0mindex\u001b[0m\u001b[0;34m=\u001b[0m\u001b[0;32mFalse\u001b[0m\u001b[0;34m)\u001b[0m\u001b[0;34m\u001b[0m\u001b[0;34m\u001b[0m\u001b[0m\n",
      "\u001b[0;31mNameError\u001b[0m: name 'timestamp' is not defined"
     ]
    }
   ],
   "source": [
    "split = \"MYELOID\"\n",
    "scvi_outs_dir = '/home/jovyan/mount/gdrive/Pan_fetal/data4gpu_node/'\n",
    "\n",
    "## Read old varnames\n",
    "model_dir='scvi_' + split + '_model/'\n",
    "var_names_model = pd.read_csv(scvi_outs_dir + model_dir + \"var_names.csv\", header=None)[0].values\n",
    "\n",
    "## Make new model folder for model with EnsemblIDs\n",
    "new_model_dir = model_dir.strip(\"/\") +\"_ENSID/\"\n",
    "bash_call = 'cp -r {o} {n}'.format(o=scvi_outs_dir + model_dir, n=scvi_outs_dir+new_model_dir)\n",
    "os.system(bash_call)\n",
    "\n",
    "## Save var_names\n",
    "adata_ref_var = pd.read_csv(scvi_outs_dir + 'PAN.A01.v01.entire_data_normalised_log.{t}.{s}.var.csv'.format(t=timestamp, s=split), index_col=0)\n",
    "adata_ref_var.iloc[var_names_model]['GeneID'].to_csv(scvi_outs_dir + new_model_dir + \"var_names.csv\", header=None, index=False)"
   ]
  },
  {
   "cell_type": "markdown",
   "id": "spiritual-workstation",
   "metadata": {},
   "source": [
    "### Train on scVI models\n",
    "\n",
    "On GPU node, running the call:"
   ]
  },
  {
   "cell_type": "raw",
   "id": "following-exhibition",
   "metadata": {},
   "source": [
    "python ./run_map_query.py /home/jupyter/mount/gdrive/Pan_fetal/data4gpu_node/panimmune_MYELOID_query.h5ad MYELOID panimmune_myeloid --model_dir scvi_MYELOID_model_ENSID/"
   ]
  },
  {
   "cell_type": "markdown",
   "id": "fatal-leadership",
   "metadata": {},
   "source": [
    "We merge datasets and rerun embeddings running"
   ]
  },
  {
   "cell_type": "code",
   "execution_count": null,
   "id": "resident-checklist",
   "metadata": {},
   "outputs": [],
   "source": [
    "python ./merge_query_2_reference.py --- --- "
   ]
  },
  {
   "cell_type": "markdown",
   "id": "macro-interstate",
   "metadata": {},
   "source": [
    "### Load output"
   ]
  },
  {
   "cell_type": "code",
   "execution_count": 83,
   "id": "chinese-missouri",
   "metadata": {},
   "outputs": [],
   "source": [
    "query_h5ad_file = '/home/jovyan/mount/gdrive/Pan_fetal/data4gpu_node/panimmune_MYELOID_query.mapped2MYELOID.h5ad'\n",
    "split = \"MYELOID\"\n",
    "ref_data_dir = '/home/jovyan/mount/gdrive/Pan_fetal/data4gpu_node/'\n",
    "timestamp = '20210429'"
   ]
  },
  {
   "cell_type": "code",
   "execution_count": null,
   "id": "positive-recommendation",
   "metadata": {},
   "outputs": [
    {
     "name": "stderr",
     "output_type": "stream",
     "text": [
      "Variable names are not unique. To make them unique, call `.var_names_make_unique`.\n"
     ]
    }
   ],
   "source": [
    "merged_adata_bcells = map_query_utils._merge_query_and_reference(query_h5ad_file, split, ref_data_dir=ref_data_dir)"
   ]
  }
 ],
 "metadata": {
  "kernelspec": {
   "display_name": "Python (emma_env)",
   "language": "python",
   "name": "emma_env"
  },
  "language_info": {
   "codemirror_mode": {
    "name": "ipython",
    "version": 3
   },
   "file_extension": ".py",
   "mimetype": "text/x-python",
   "name": "python",
   "nbconvert_exporter": "python",
   "pygments_lexer": "ipython3",
   "version": "3.7.8"
  }
 },
 "nbformat": 4,
 "nbformat_minor": 5
}
