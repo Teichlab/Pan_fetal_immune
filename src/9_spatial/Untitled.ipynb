{
 "cells": [
  {
   "cell_type": "markdown",
   "id": "employed-details",
   "metadata": {},
   "source": [
    "## Prepare reference data for cell2location training"
   ]
  },
  {
   "cell_type": "code",
   "execution_count": 23,
   "id": "powerful-situation",
   "metadata": {},
   "outputs": [],
   "source": [
    "import os,sys\n",
    "import scanpy as sc\n",
    "import pandas as pd\n",
    "import numpy as np\n",
    "import anndata\n",
    "\n",
    "data_dir=\"/nfs/team205/ed6/data/Fetal_immune/\"\n",
    "timestamp=\"20210429\"\n",
    "\n",
    "Make folder to save outputs\n",
    "\n",
    "outdir = data_dir + \"c2l_scRNA_references/\"\n",
    "if not os.path.exists(outdir):\n",
    "    os.mkdir(outdir)\n",
    "\n",
    "### Load reference data\n",
    "\n",
    "adata = sc.read_h5ad(data_dir + 'PAN.A01.v01.entire_data_raw_count.{t}.h5ad'.format(t=timestamp))\n",
    "adata.var_names_make_unique()\n",
    "\n",
    "## Filter maternal contaminants\n",
    "mat_barcodes = pd.read_csv(\"~/Pan_fetal_immune/metadata/souporcell_results/maternal_barcodes.csv\", index_col=0)\n",
    "mat_barcodes[\"x\"] = pd.Series([x.split(\"-1\")[0] for x in mat_barcodes['x']])\n",
    "\n",
    "adata = adata[~adata.obs_names.isin(mat_barcodes[\"x\"])]\n",
    "\n",
    "adata"
   ]
  },
  {
   "cell_type": "markdown",
   "id": "narrative-commander",
   "metadata": {},
   "source": [
    "### Load annotations"
   ]
  },
  {
   "cell_type": "code",
   "execution_count": 25,
   "id": "severe-assistant",
   "metadata": {},
   "outputs": [
    {
     "ename": "ValueError",
     "evalue": "To copy an AnnData object in backed mode, pass a filename: `.copy(filename='myfilename.h5ad')`. To load the object into memory, use `.to_memory()`.",
     "output_type": "error",
     "traceback": [
      "\u001b[0;31m---------------------------------------------------------------------------\u001b[0m",
      "\u001b[0;31mValueError\u001b[0m                                Traceback (most recent call last)",
      "\u001b[0;32m<ipython-input-25-95f4e1e34ccd>\u001b[0m in \u001b[0;36m<module>\u001b[0;34m\u001b[0m\n\u001b[1;32m      6\u001b[0m \u001b[0manno_obs\u001b[0m \u001b[0;34m=\u001b[0m \u001b[0mpd\u001b[0m\u001b[0;34m.\u001b[0m\u001b[0mread_csv\u001b[0m\u001b[0;34m(\u001b[0m\u001b[0mdata_dir\u001b[0m \u001b[0;34m+\u001b[0m \u001b[0;34m\"PAN.A01.v01.entire_data_normalised_log.20210429.full_obs.annotated.clean.csv\"\u001b[0m\u001b[0;34m,\u001b[0m \u001b[0mindex_col\u001b[0m\u001b[0;34m=\u001b[0m\u001b[0;36m0\u001b[0m\u001b[0;34m)\u001b[0m\u001b[0;34m\u001b[0m\u001b[0;34m\u001b[0m\u001b[0m\n\u001b[1;32m      7\u001b[0m \u001b[0madata\u001b[0m \u001b[0;34m=\u001b[0m \u001b[0madata\u001b[0m\u001b[0;34m[\u001b[0m\u001b[0madata\u001b[0m\u001b[0;34m.\u001b[0m\u001b[0mobs_names\u001b[0m\u001b[0;34m.\u001b[0m\u001b[0misin\u001b[0m\u001b[0;34m(\u001b[0m\u001b[0manno_obs\u001b[0m\u001b[0;34m.\u001b[0m\u001b[0mindex\u001b[0m\u001b[0;34m)\u001b[0m\u001b[0;34m]\u001b[0m\u001b[0;34m\u001b[0m\u001b[0;34m\u001b[0m\u001b[0m\n\u001b[0;32m----> 8\u001b[0;31m \u001b[0madata\u001b[0m\u001b[0;34m.\u001b[0m\u001b[0mobs\u001b[0m \u001b[0;34m=\u001b[0m \u001b[0manno_obs\u001b[0m\u001b[0;34m.\u001b[0m\u001b[0mloc\u001b[0m\u001b[0;34m[\u001b[0m\u001b[0madata\u001b[0m\u001b[0;34m.\u001b[0m\u001b[0mobs_names\u001b[0m\u001b[0;34m]\u001b[0m\u001b[0;34m.\u001b[0m\u001b[0mcopy\u001b[0m\u001b[0;34m(\u001b[0m\u001b[0;34m)\u001b[0m\u001b[0;34m\u001b[0m\u001b[0;34m\u001b[0m\u001b[0m\n\u001b[0m",
      "\u001b[0;32m~/my-conda-envs/emma_env/lib/python3.7/site-packages/anndata/_core/anndata.py\u001b[0m in \u001b[0;36mobs\u001b[0;34m(self, value)\u001b[0m\n\u001b[1;32m    853\u001b[0m     \u001b[0;34m@\u001b[0m\u001b[0mobs\u001b[0m\u001b[0;34m.\u001b[0m\u001b[0msetter\u001b[0m\u001b[0;34m\u001b[0m\u001b[0;34m\u001b[0m\u001b[0m\n\u001b[1;32m    854\u001b[0m     \u001b[0;32mdef\u001b[0m \u001b[0mobs\u001b[0m\u001b[0;34m(\u001b[0m\u001b[0mself\u001b[0m\u001b[0;34m,\u001b[0m \u001b[0mvalue\u001b[0m\u001b[0;34m:\u001b[0m \u001b[0mpd\u001b[0m\u001b[0;34m.\u001b[0m\u001b[0mDataFrame\u001b[0m\u001b[0;34m)\u001b[0m\u001b[0;34m:\u001b[0m\u001b[0;34m\u001b[0m\u001b[0;34m\u001b[0m\u001b[0m\n\u001b[0;32m--> 855\u001b[0;31m         \u001b[0mself\u001b[0m\u001b[0;34m.\u001b[0m\u001b[0m_set_dim_df\u001b[0m\u001b[0;34m(\u001b[0m\u001b[0mvalue\u001b[0m\u001b[0;34m,\u001b[0m \u001b[0;34m\"obs\"\u001b[0m\u001b[0;34m)\u001b[0m\u001b[0;34m\u001b[0m\u001b[0;34m\u001b[0m\u001b[0m\n\u001b[0m\u001b[1;32m    856\u001b[0m \u001b[0;34m\u001b[0m\u001b[0m\n\u001b[1;32m    857\u001b[0m     \u001b[0;34m@\u001b[0m\u001b[0mobs\u001b[0m\u001b[0;34m.\u001b[0m\u001b[0mdeleter\u001b[0m\u001b[0;34m\u001b[0m\u001b[0;34m\u001b[0m\u001b[0m\n",
      "\u001b[0;32m~/my-conda-envs/emma_env/lib/python3.7/site-packages/anndata/_core/anndata.py\u001b[0m in \u001b[0;36m_set_dim_df\u001b[0;34m(self, value, attr)\u001b[0m\n\u001b[1;32m    794\u001b[0m         \u001b[0mvalue_idx\u001b[0m \u001b[0;34m=\u001b[0m \u001b[0mself\u001b[0m\u001b[0;34m.\u001b[0m\u001b[0m_prep_dim_index\u001b[0m\u001b[0;34m(\u001b[0m\u001b[0mvalue\u001b[0m\u001b[0;34m.\u001b[0m\u001b[0mindex\u001b[0m\u001b[0;34m,\u001b[0m \u001b[0mattr\u001b[0m\u001b[0;34m)\u001b[0m\u001b[0;34m\u001b[0m\u001b[0;34m\u001b[0m\u001b[0m\n\u001b[1;32m    795\u001b[0m         \u001b[0;32mif\u001b[0m \u001b[0mself\u001b[0m\u001b[0;34m.\u001b[0m\u001b[0mis_view\u001b[0m\u001b[0;34m:\u001b[0m\u001b[0;34m\u001b[0m\u001b[0;34m\u001b[0m\u001b[0m\n\u001b[0;32m--> 796\u001b[0;31m             \u001b[0mself\u001b[0m\u001b[0;34m.\u001b[0m\u001b[0m_init_as_actual\u001b[0m\u001b[0;34m(\u001b[0m\u001b[0mself\u001b[0m\u001b[0;34m.\u001b[0m\u001b[0mcopy\u001b[0m\u001b[0;34m(\u001b[0m\u001b[0;34m)\u001b[0m\u001b[0;34m)\u001b[0m\u001b[0;34m\u001b[0m\u001b[0;34m\u001b[0m\u001b[0m\n\u001b[0m\u001b[1;32m    797\u001b[0m         \u001b[0msetattr\u001b[0m\u001b[0;34m(\u001b[0m\u001b[0mself\u001b[0m\u001b[0;34m,\u001b[0m \u001b[0;34mf\"_{attr}\"\u001b[0m\u001b[0;34m,\u001b[0m \u001b[0mvalue\u001b[0m\u001b[0;34m)\u001b[0m\u001b[0;34m\u001b[0m\u001b[0;34m\u001b[0m\u001b[0m\n\u001b[1;32m    798\u001b[0m         \u001b[0mself\u001b[0m\u001b[0;34m.\u001b[0m\u001b[0m_set_dim_index\u001b[0m\u001b[0;34m(\u001b[0m\u001b[0mvalue_idx\u001b[0m\u001b[0;34m,\u001b[0m \u001b[0mattr\u001b[0m\u001b[0;34m)\u001b[0m\u001b[0;34m\u001b[0m\u001b[0;34m\u001b[0m\u001b[0m\n",
      "\u001b[0;32m~/my-conda-envs/emma_env/lib/python3.7/site-packages/anndata/_core/anndata.py\u001b[0m in \u001b[0;36mcopy\u001b[0;34m(self, filename)\u001b[0m\n\u001b[1;32m   1518\u001b[0m             \u001b[0;32mif\u001b[0m \u001b[0mfilename\u001b[0m \u001b[0;32mis\u001b[0m \u001b[0;32mNone\u001b[0m\u001b[0;34m:\u001b[0m\u001b[0;34m\u001b[0m\u001b[0;34m\u001b[0m\u001b[0m\n\u001b[1;32m   1519\u001b[0m                 raise ValueError(\n\u001b[0;32m-> 1520\u001b[0;31m                     \u001b[0;34m\"To copy an AnnData object in backed mode, \"\u001b[0m\u001b[0;34m\u001b[0m\u001b[0;34m\u001b[0m\u001b[0m\n\u001b[0m\u001b[1;32m   1521\u001b[0m                     \u001b[0;34m\"pass a filename: `.copy(filename='myfilename.h5ad')`. \"\u001b[0m\u001b[0;34m\u001b[0m\u001b[0;34m\u001b[0m\u001b[0m\n\u001b[1;32m   1522\u001b[0m                     \u001b[0;34m\"To load the object into memory, use `.to_memory()`.\"\u001b[0m\u001b[0;34m\u001b[0m\u001b[0;34m\u001b[0m\u001b[0m\n",
      "\u001b[0;31mValueError\u001b[0m: To copy an AnnData object in backed mode, pass a filename: `.copy(filename='myfilename.h5ad')`. To load the object into memory, use `.to_memory()`."
     ]
    }
   ],
   "source": [
    "## Read annotation groupings\n",
    "import json\n",
    "with open('../../metadata/anno_groups.json', 'r') as json_file:\n",
    "    anno_groups_dict = json.load(json_file)\n",
    "\n",
    "anno_obs = pd.read_csv(data_dir + \"PAN.A01.v01.entire_data_normalised_log.20210429.full_obs.annotated.clean.csv\", index_col=0)\n",
    "adata = adata[adata.obs_names.isin(anno_obs.index)].copy()\n",
    "adata.obs = anno_obs.loc[adata.obs_names].copy()"
   ]
  },
  {
   "cell_type": "code",
   "execution_count": 9,
   "id": "integral-simple",
   "metadata": {},
   "outputs": [],
   "source": [
    "del anno_obs"
   ]
  },
  {
   "cell_type": "code",
   "execution_count": 48,
   "id": "changing-ethnic",
   "metadata": {},
   "outputs": [],
   "source": [
    "def make_c2l_reference(\n",
    "    ref_adata,\n",
    "    annotation_obs = 'anno_lvl_2_final_clean',\n",
    "    technical_obs = [\"method\", \"donor\"], ## Covariates to regress out\n",
    "    library_obs = ['Sample.lanes'], ## Covariate for 10x library\n",
    "    subset_organ=None,\n",
    "    min_age = None,\n",
    "    exclude_clusters = [ ## Clusters to exclude\n",
    "        'DOUBLET_IMMUNE_FIBROBLAST',\n",
    "         'LOW_Q_INCONSISTENT',\n",
    "         'DOUBLET_LYMPHOID_MACROPHAGE',\n",
    "         'DOUBLETS_FIBRO_ERY',\n",
    "         'DOUBLET_ENDOTHELIUM_ERYTHROCYTE',\n",
    "         'DOUBLET_ERY_B',\n",
    "         'PLACENTAL_CONTAMINANTS',\n",
    "         'DOUBLET'],\n",
    "    split_by_organ = None, ## for which clusters should the annotation be split by organ? e.g. just stroma\n",
    "    min_cells = 10 ## Minimum number of cells to keep a cluster\n",
    "    ):\n",
    "    ## Subset by organ\n",
    "    if subset_organ:\n",
    "        ref_adata = ref_adata[ref_adata.obs[\"organ\"] == subset_organ]\n",
    "\n",
    "    ## Subset by age\n",
    "    if min_age:\n",
    "        ref_adata = ref_adata[ref_adata.obs[\"age\"] >= min_age]\n",
    "\n",
    "    ## Exclude low quality clusters\n",
    "    if exclude_clusters:\n",
    "        ref_adata = ref_adata[~ref_adata.obs[annotation_obs].isin(exclude_clusters)].copy()\n",
    "\n",
    "    ## Split selected clusters by organ\n",
    "    if split_by_organ:\n",
    "        tosplit_obs = ref_adata.obs[ref_adata.obs[annotation_obs].isin(split_by_organ)].copy()\n",
    "        organ_anno = tosplit_obs[annotation_obs] + \"_\" + tosplit_obs['organ']\n",
    "        ref_adata.obs.loc[tosplit_obs.index, annotation_obs] = organ_anno.values\n",
    "\n",
    "    ## Remove clusters containing less than n cells\n",
    "    clus_counts = ref_adata.obs[annotation_obs].value_counts() \n",
    "    keep_clus = clus_counts.index[clus_counts >= min_cells] \n",
    "    ref_adata = ref_adata[ref_adata.obs[annotation_obs].isin(keep_clus)].copy()\n",
    "\n",
    "    ## Clean obs\n",
    "    ref_adata.obs = ref_adata.obs[technical_obs + library_obs + [annotation_obs, \"organ\", \"age\"]].copy()\n",
    "\n",
    "    return(ref_adata)\n",
    "\n",
    "def save_c2l_reference(params):\n",
    "    outfile = \"PAN.A01.v01.c2l_reference.\"\n",
    "    if params[\"subset_organ\"]:\n",
    "        outfile = outfile + \"subset{o}.\".format(o=params[\"subset_organ\"])\n",
    "    if params[\"split_by_organ\"]:\n",
    "        outfile = outfile + \"organ_split_stroma.\"\n",
    "    if params[\"min_age\"]:\n",
    "        outfile = outfile + \"minAge{a}.\".format(a=params[\"min_age\"])\n",
    "    if params[\"exclude_clusters\"]:\n",
    "        outfile = outfile + \"exclude_lowQ.\"\n",
    "    outfile = outdir + outfile + \"h5ad\"\n",
    "\n",
    "    ref_adata = make_c2l_reference(adata, **params)\n",
    "    ref_adata.write_h5ad(outfile)"
   ]
  },
  {
   "cell_type": "code",
   "execution_count": 65,
   "id": "fiscal-mason",
   "metadata": {},
   "outputs": [],
   "source": [
    "lowQ_clusters = ('DOUBLET_IMMUNE_FIBROBLAST',\n",
    "                     'LOW_Q_INCONSISTENT',\n",
    "                     'DOUBLET_LYMPHOID_MACROPHAGE',\n",
    "                     'DOUBLETS_FIBRO_ERY',\n",
    "                     'DOUBLET_ENDOTHELIUM_ERYTHROCYTE',\n",
    "                     'DOUBLET_ERY_B',\n",
    "                     'PLACENTAL_CONTAMINANTS',\n",
    "                     'DOUBLET')"
   ]
  },
  {
   "cell_type": "code",
   "execution_count": null,
   "id": "metropolitan-uncle",
   "metadata": {},
   "outputs": [],
   "source": [
    "for org in (None, \"TH\", \"SP\", \"LI\"):\n",
    "    for age in (None, 10, 15):\n",
    "        for sbo in (None, anno_groups_dict[\"STROMA\"]):\n",
    "            params = {\n",
    "                'subset_organ':org,\n",
    "                'split_by_organ' : sbo,\n",
    "                'min_age':age,\n",
    "                'exclude_clusters':lowQ_clusters\n",
    "            }\n",
    "            save_c2l_reference(params)"
   ]
  }
 ],
 "metadata": {
  "kernelspec": {
   "display_name": "Python (emma_env)",
   "language": "python",
   "name": "emma_env"
  },
  "language_info": {
   "codemirror_mode": {
    "name": "ipython",
    "version": 3
   },
   "file_extension": ".py",
   "mimetype": "text/x-python",
   "name": "python",
   "nbconvert_exporter": "python",
   "pygments_lexer": "ipython3",
   "version": "3.7.8"
  }
 },
 "nbformat": 4,
 "nbformat_minor": 5
}
