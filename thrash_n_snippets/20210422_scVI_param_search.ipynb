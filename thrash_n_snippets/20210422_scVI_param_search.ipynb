{
 "cells": [
  {
   "cell_type": "markdown",
   "id": "seeing-matrix",
   "metadata": {},
   "source": [
    "# Pan Fetal Immune - scVI 4 integration"
   ]
  },
  {
   "cell_type": "code",
   "execution_count": 3,
   "id": "focused-workplace",
   "metadata": {},
   "outputs": [],
   "source": [
    "import sys,os\n",
    "import scvi\n",
    "import anndata\n",
    "import matplotlib\n",
    "import seaborn as sns\n",
    "from matplotlib import colors\n",
    "import matplotlib.pyplot as plt\n",
    "from matplotlib import rcParams\n",
    "from matplotlib.colors import LinearSegmentedColormap\n",
    "\n",
    "\n",
    "import numpy as np\n",
    "import pandas as pd\n",
    "import scanpy as sc\n",
    "import numpy.random as random"
   ]
  },
  {
   "cell_type": "code",
   "execution_count": 5,
   "id": "occupied-arbor",
   "metadata": {},
   "outputs": [],
   "source": [
    "## import utils\n",
    "cwd = '../utils/'\n",
    "sys.path.append(cwd)\n",
    "\n",
    "import genes\n",
    "import panfetal_utils"
   ]
  },
  {
   "cell_type": "markdown",
   "id": "eastern-attack",
   "metadata": {},
   "source": [
    "## Load and prep data"
   ]
  },
  {
   "cell_type": "code",
   "execution_count": 7,
   "id": "polish-taylor",
   "metadata": {},
   "outputs": [],
   "source": [
    "data_dir = \"/home/jupyter/mount/gdrive/Pan_fetal/data4gpu_node/\"\n",
    "timestamp = \"20210429\""
   ]
  },
  {
   "cell_type": "markdown",
   "id": "agricultural-scottish",
   "metadata": {},
   "source": [
    "### Load estimated gene dispersions for HVG selection"
   ]
  },
  {
   "cell_type": "code",
   "execution_count": 8,
   "id": "wanted-leonard",
   "metadata": {},
   "outputs": [],
   "source": [
    "adata_lognorm_var = pd.read_csv(data_dir + 'PAN.A01.v01.entire_data_normalised_log.{t}.var.csv'.format(t=timestamp))"
   ]
  },
  {
   "cell_type": "markdown",
   "id": "auburn-owner",
   "metadata": {},
   "source": [
    "### Load count data"
   ]
  },
  {
   "cell_type": "code",
   "execution_count": 9,
   "id": "flush-allocation",
   "metadata": {},
   "outputs": [
    {
     "name": "stderr",
     "output_type": "stream",
     "text": [
      "Variable names are not unique. To make them unique, call `.var_names_make_unique`.\n"
     ]
    }
   ],
   "source": [
    "adata_raw = sc.read_h5ad(data_dir + 'PAN.A01.v01.entire_data_raw_count.{t}.h5ad'.format(t=timestamp))\n",
    "adata_raw.var_names_make_unique()"
   ]
  },
  {
   "cell_type": "code",
   "execution_count": 10,
   "id": "isolated-policy",
   "metadata": {},
   "outputs": [
    {
     "data": {
      "text/plain": [
       "AnnData object with n_obs × n_vars = 911873 × 33538\n",
       "    obs: 'n_counts', 'n_genes', 'file', 'mito', 'doublet_scores', 'predicted_doublets', 'name'\n",
       "    var: 'GeneID', 'GeneName'"
      ]
     },
     "execution_count": 10,
     "metadata": {},
     "output_type": "execute_result"
    }
   ],
   "source": [
    "adata_raw"
   ]
  },
  {
   "cell_type": "markdown",
   "id": "progressive-carpet",
   "metadata": {},
   "source": [
    "### Load obs with uniform labels"
   ]
  },
  {
   "cell_type": "code",
   "execution_count": 12,
   "id": "fundamental-brazil",
   "metadata": {},
   "outputs": [
    {
     "name": "stderr",
     "output_type": "stream",
     "text": [
      "/opt/conda/lib/python3.7/site-packages/IPython/core/interactiveshell.py:3166: DtypeWarning: Columns (6) have mixed types.Specify dtype option on import or set low_memory=False.\n",
      "  interactivity=interactivity, compiler=compiler, result=result)\n"
     ]
    }
   ],
   "source": [
    "new_obs = pd.read_csv(data_dir + \"PAN.A01.v01.entire_data_normalised_log.{t}.full_obs.csv\".format(t=timestamp), index_col=0)"
   ]
  },
  {
   "cell_type": "code",
   "execution_count": 14,
   "id": "incoming-berlin",
   "metadata": {},
   "outputs": [],
   "source": [
    "adata_raw = adata_raw[new_obs.index]\n",
    "adata_raw.obs = new_obs.copy()"
   ]
  },
  {
   "cell_type": "code",
   "execution_count": 15,
   "id": "phantom-exemption",
   "metadata": {},
   "outputs": [
    {
     "data": {
      "text/plain": [
       "AnnData object with n_obs × n_vars = 911873 × 33538\n",
       "    obs: 'n_counts', 'n_genes', 'file', 'mito', 'doublet_scores', 'predicted_doublets', 'name', 'uniform_label', 'uniform_label_expanded_merged', 'uniform_label_lvl0', 'organ', 'Sample.lanes', 'Sort_id', 'age', 'method', 'donor', 'sex', 'Processing_method', 'AnnatomicalPart', 'Sample'\n",
       "    var: 'GeneID', 'GeneName'"
      ]
     },
     "execution_count": 15,
     "metadata": {},
     "output_type": "execute_result"
    }
   ],
   "source": [
    "adata_raw"
   ]
  },
  {
   "cell_type": "code",
   "execution_count": 16,
   "id": "accredited-pension",
   "metadata": {},
   "outputs": [
    {
     "data": {
      "text/plain": [
       "39589"
      ]
     },
     "execution_count": 16,
     "metadata": {},
     "output_type": "execute_result"
    }
   ],
   "source": [
    "import gc\n",
    "gc.collect()"
   ]
  },
  {
   "cell_type": "markdown",
   "id": "official-society",
   "metadata": {},
   "source": [
    "Add dispersion estimates to `var`"
   ]
  },
  {
   "cell_type": "code",
   "execution_count": 17,
   "id": "nominated-massachusetts",
   "metadata": {},
   "outputs": [],
   "source": [
    "adata_raw.var = adata_lognorm_var.copy()"
   ]
  },
  {
   "cell_type": "markdown",
   "id": "plastic-credits",
   "metadata": {},
   "source": [
    "### Add batch key\n",
    "Here we concatenate library prep method and donor of origin"
   ]
  },
  {
   "cell_type": "code",
   "execution_count": 18,
   "id": "polish-emission",
   "metadata": {},
   "outputs": [],
   "source": [
    "adata_raw.obs[\"bbk\"] = adata_raw.obs[\"method\"] + adata_raw.obs[\"donor\"]"
   ]
  },
  {
   "cell_type": "markdown",
   "id": "collected-writer",
   "metadata": {},
   "source": [
    "## Param sweep for feature selection\n",
    "\n",
    "1. Number of HVGS\n",
    "2. Excluding or not excluding TCR/BCR genes\n",
    "3. Number of latent dimensions"
   ]
  },
  {
   "cell_type": "code",
   "execution_count": 20,
   "id": "narrow-exchange",
   "metadata": {},
   "outputs": [],
   "source": [
    "import torch\n",
    "device = torch.device(\"cuda\")\n",
    "\n",
    "def subset_top_hvgs(adata_lognorm, n_top_genes):\n",
    "    dispersion_norm = adata_lognorm.var['dispersions_norm'].values.astype('float32')\n",
    "\n",
    "    dispersion_norm = dispersion_norm[~np.isnan(dispersion_norm)]\n",
    "    dispersion_norm[\n",
    "                ::-1\n",
    "            ].sort()  # interestingly, np.argpartition is slightly slower\n",
    "\n",
    "    disp_cut_off = dispersion_norm[n_top_genes - 1]\n",
    "    gene_subset = adata_lognorm.var['dispersions_norm'].values >= disp_cut_off\n",
    "    return(adata_lognorm[:,gene_subset])\n",
    "\n",
    "def prep_scVI(adata, \n",
    "              n_hvgs = 5000,\n",
    "              remove_cc_genes = True,\n",
    "              remove_tcr_bcr_genes = False\n",
    "             ):\n",
    "    ## Remove cell cycle genes\n",
    "    if remove_cc_genes:\n",
    "        adata = panfetal_utils.remove_geneset(adata,genes.cc_genes)\n",
    "\n",
    "    ## Remove TCR/BCR genes\n",
    "    if remove_tcr_bcr_genes:\n",
    "        adata = panfetal_utils.remove_geneset(adata, genes.IG_genes)\n",
    "        adata = panfetal_utils.remove_geneset(adata, genes.TCR_genes)\n",
    "        \n",
    "    ## HVG selection\n",
    "    adata = subset_top_hvgs(adata, n_top_genes=n_hvgs)\n",
    "    return(adata)\n",
    "\n",
    "def train_scVI(adata, n_dims=20):\n",
    "    adata = scvi.data.setup_anndata(adata, batch_key = \"bbk\", copy=True)\n",
    "    vae = scvi.model.SCVI(adata, n_latent=n_dims)\n",
    "    vae.train(use_gpu=True, batch_size=256) ## increasing batch size as in retina atlas\n",
    "    return(vae.get_latent_representation())\n",
    "    \n",
    "def save_scVI(adata, \n",
    "              timestamp,\n",
    "              n_hvgs = 5000,\n",
    "              remove_cc_genes = True,\n",
    "                remove_tcr_bcr_genes = False,\n",
    "                n_dims=20\n",
    "             ):\n",
    "    if remove_cc_genes:\n",
    "        cc = \"removeCC\"\n",
    "    else:\n",
    "        cc = \"keepCC\"\n",
    "    if remove_tcr_bcr_genes:\n",
    "        tcr = \"removeTCRBCR\"\n",
    "    else:\n",
    "        tcr = \"keepTCRBCR\"\n",
    "    outname = \"PAN.A01.v01.entire_data_raw_count.{t}.scVI_out.{h}HVGS.{cc}.{tcr}.{n}ldims.npy\".format(t=timestamp, h=n_hvgs, cc=cc, tcr=tcr, n=n_dims)\n",
    "    np.save(data_dir + outname, adata.obsm[\"X_scVI\"])\n"
   ]
  },
  {
   "cell_type": "code",
   "execution_count": 17,
   "id": "super-equivalent",
   "metadata": {},
   "outputs": [],
   "source": [
    "nhvgs = [5000,7500,10000]\n",
    "dims = [10,20,30]\n",
    "remove = [{'remove_cc_genes':True, 'remove_tcr_bcr_genes':True}, {'remove_cc_genes':True, 'remove_tcr_bcr_genes':False}, {'remove_cc_genes':False, 'remove_tcr_bcr_genes':False}]"
   ]
  },
  {
   "cell_type": "code",
   "execution_count": null,
   "id": "sharing-liberty",
   "metadata": {},
   "outputs": [
    {
     "name": "stderr",
     "output_type": "stream",
     "text": [
      "/opt/conda/lib/python3.7/site-packages/anndata/_core/anndata.py:120: ImplicitModificationWarning: Transforming to str index.\n",
      "  warnings.warn(\"Transforming to str index.\", ImplicitModificationWarning)\n"
     ]
    },
    {
     "name": "stdout",
     "output_type": "stream",
     "text": [
      "\u001b[34mINFO    \u001b[0m Using batches from adata.obs\u001b[1m[\u001b[0m\u001b[32m\"bbk\"\u001b[0m\u001b[1m]\u001b[0m                                                 \n",
      "\u001b[34mINFO    \u001b[0m No label_key inputted, assuming all cells have same label                           \n",
      "\u001b[34mINFO    \u001b[0m Using data from adata.X                                                             \n",
      "\u001b[34mINFO    \u001b[0m Computing library size prior per batch                                              \n",
      "\u001b[34mINFO    \u001b[0m Successfully registered anndata object containing \u001b[1;36m911873\u001b[0m cells, \u001b[1;36m5000\u001b[0m vars, \u001b[1;36m33\u001b[0m       \n",
      "         batches, \u001b[1;36m1\u001b[0m labels, and \u001b[1;36m0\u001b[0m proteins. Also registered \u001b[1;36m0\u001b[0m extra categorical covariates   \n",
      "         and \u001b[1;36m0\u001b[0m extra continuous covariates.                                                  \n",
      "\u001b[34mINFO    \u001b[0m Please do not further modify adata until model is trained.                          \n"
     ]
    },
    {
     "name": "stderr",
     "output_type": "stream",
     "text": [
      "GPU available: True, used: True\n",
      "TPU available: False, using: 0 TPU cores\n",
      "LOCAL_RANK: 0 - CUDA_VISIBLE_DEVICES: [0]\n"
     ]
    },
    {
     "name": "stdout",
     "output_type": "stream",
     "text": [
      "Epoch 9/9: 100%|██████████| 9/9 [06:07<00:00, 40.83s/it, loss=807, v_num=1]\n"
     ]
    }
   ],
   "source": [
    "for n in nhvgs:\n",
    "    for r in remove:\n",
    "        adata1 = prep_scVI(adata_raw, n_hvgs=n, remove_cc_genes=r[\"remove_cc_genes\"], remove_tcr_bcr_genes=r[\"remove_tcr_bcr_genes\"])\n",
    "        for d in dims:\n",
    "            \n",
    "            adata1.obsm[\"X_scVI\"] = train_scVI(adata1, n_dims=d)\n",
    "            save_scVI(adata1, timestamp=timestamp, n_hvgs=n, remove_cc_genes=r[\"remove_cc_genes\"], remove_tcr_bcr_genes=r[\"remove_tcr_bcr_genes\"], n_dims=d)\n",
    "        del adata1\n",
    "        gc.collect()"
   ]
  },
  {
   "cell_type": "markdown",
   "id": "champion-outdoors",
   "metadata": {},
   "source": [
    "## Train reference\n",
    "We train using parameters optimized for online update with `scArches`, to be able to add query datasets in the future. Following the [scvi-tools vignette](https://docs.scvi-tools.org/en/stable/user_guide/notebooks/scarches_scvi_tools.html?highlight=encode_covariates#Train-reference)."
   ]
  },
  {
   "cell_type": "code",
   "execution_count": 21,
   "id": "structural-economics",
   "metadata": {},
   "outputs": [
    {
     "name": "stderr",
     "output_type": "stream",
     "text": [
      "/opt/conda/lib/python3.7/site-packages/anndata/_core/anndata.py:120: ImplicitModificationWarning: Transforming to str index.\n",
      "  warnings.warn(\"Transforming to str index.\", ImplicitModificationWarning)\n"
     ]
    }
   ],
   "source": [
    "adata = prep_scVI(adata_raw, n_hvgs=7500, remove_cc_genes=True, remove_tcr_bcr_genes=True)"
   ]
  },
  {
   "cell_type": "code",
   "execution_count": 23,
   "id": "aquatic-porcelain",
   "metadata": {},
   "outputs": [],
   "source": [
    "adata = scvi.data.setup_anndata(adata, batch_key = \"bbk\", copy=True)"
   ]
  },
  {
   "cell_type": "code",
   "execution_count": 94,
   "id": "military-performer",
   "metadata": {},
   "outputs": [
    {
     "name": "stderr",
     "output_type": "stream",
     "text": [
      "GPU available: True, used: True\n",
      "TPU available: False, using: 0 TPU cores\n",
      "LOCAL_RANK: 0 - CUDA_VISIBLE_DEVICES: [0]\n"
     ]
    },
    {
     "name": "stdout",
     "output_type": "stream",
     "text": [
      "Epoch 400/400: 100%|██████████| 400/400 [22:21<00:00,  3.35s/it, loss=1.15e+03, v_num=1]\n"
     ]
    }
   ],
   "source": [
    "arches_params = dict(\n",
    "    encode_covariates=True,\n",
    "    dropout_rate=0.2,\n",
    "    n_layers=2,\n",
    ")\n",
    "\n",
    "vae = scvi.model.SCVI(adata, n_latent=20, **arches_params)\n",
    "vae.train(early_stopping=True,\n",
    "        train_size=0.9,\n",
    "        early_stopping_patience=45,\n",
    "        max_epochs=400, \n",
    "        batch_size=1024, \n",
    "        limit_train_batches=20\n",
    "       )"
   ]
  },
  {
   "cell_type": "markdown",
   "id": "further-atlantic",
   "metadata": {},
   "source": [
    "### Check convergence"
   ]
  },
  {
   "cell_type": "code",
   "execution_count": 100,
   "id": "unique-regression",
   "metadata": {},
   "outputs": [
    {
     "data": {
      "image/png": "[encoded data removed]",
      "text/plain": [
       "<Figure size 432x288 with 1 Axes>"
      ]
     },
     "metadata": {
      "needs_background": "light"
     },
     "output_type": "display_data"
    }
   ],
   "source": [
    "sns.set_context(\"talk\")\n",
    "plt.plot(vae.history[\"elbo_train\"], label=\"Training\");\n",
    "plt.plot(vae.history[\"elbo_validation\"], label=\"Validation\");\n",
    "plt.legend();\n",
    "plt.xlabel(\"epoch\");\n",
    "plt.ylabel(\"ELBO\");\n",
    "plt.savefig(\"/home/jupyter/mount/gdrive/Pan_fetal/Updates_and_presentations/scvi_training_elbo.pdf\", bbox_inches=\"tight\")"
   ]
  },
  {
   "cell_type": "code",
   "execution_count": 101,
   "id": "noted-insurance",
   "metadata": {},
   "outputs": [
    {
     "data": {
      "image/png": "[encoded data removed]",
      "text/plain": [
       "<Figure size 432x288 with 1 Axes>"
      ]
     },
     "metadata": {
      "needs_background": "light"
     },
     "output_type": "display_data"
    }
   ],
   "source": [
    "sns.set_context(\"talk\")\n",
    "plt.plot(vae.history[\"train_loss_step\"], label=\"train\");\n",
    "# plt.plot(vae.history[\"reconstruction_loss_validation\"], label=\"validation\");\n",
    "plt.xlabel(\"epoch\");\n",
    "plt.ylabel(\"Train loss\");"
   ]
  },
  {
   "cell_type": "code",
   "execution_count": 102,
   "id": "designed-basic",
   "metadata": {},
   "outputs": [],
   "source": [
    "## Save embedding\n",
    "x_scvi = vae.get_latent_representation()\n",
    "outname = \"PAN.A01.v01.entire_data_raw_count.{t}.scVI_out.npy\".format(t=timestamp)\n",
    "np.save(data_dir + outname, x_scvi)"
   ]
  },
  {
   "cell_type": "code",
   "execution_count": 103,
   "id": "intermediate-opera",
   "metadata": {},
   "outputs": [],
   "source": [
    "## Save training stats\n",
    "model_history = vae.history.copy()\n",
    "model_history.pop('train_loss_step')\n",
    "pd.DataFrame.from_dict({k:v[k] for k,v in model_history.items()}).to_csv(\"PAN.A01.v01.entire_data_raw_count.{t}.scVI_out.train_history.csv\".format(t=timestamp))"
   ]
  },
  {
   "cell_type": "code",
   "execution_count": 104,
   "id": "partial-lodging",
   "metadata": {},
   "outputs": [],
   "source": [
    "# save the reference model\n",
    "model_dir = 'scvi_PFI_model/'\n",
    "if not os.path.exists(data_dir + model_dir):\n",
    "    os.mkdir(data_dir + model_dir)\n",
    "vae.save(data_dir + model_dir, overwrite=True)"
   ]
  }
 ],
 "metadata": {
  "environment": {
   "name": "pytorch-gpu.1-8.m65",
   "type": "gcloud",
   "uri": "gcr.io/deeplearning-platform-release/pytorch-gpu.1-8:m65"
  },
  "kernelspec": {
   "display_name": "Python (emma_env)",
   "language": "python",
   "name": "emma_env"
  },
  "language_info": {
   "codemirror_mode": {
    "name": "ipython",
    "version": 3
   },
   "file_extension": ".py",
   "mimetype": "text/x-python",
   "name": "python",
   "nbconvert_exporter": "python",
   "pygments_lexer": "ipython3",
   "version": "3.7.8"
  }
 },
 "nbformat": 4,
 "nbformat_minor": 5
}
